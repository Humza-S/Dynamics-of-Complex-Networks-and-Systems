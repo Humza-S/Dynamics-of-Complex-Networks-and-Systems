{
 "cells": [
  {
   "cell_type": "markdown",
   "metadata": {},
   "source": [
    "Humza Salman, mhs180007"
   ]
  },
  {
   "cell_type": "markdown",
   "metadata": {},
   "source": [
    "#### "
   ]
  },
  {
   "cell_type": "markdown",
   "metadata": {
    "tags": []
   },
   "source": [
    "#### Section 6.9: Degree"
   ]
  },
  {
   "cell_type": "code",
   "execution_count": 121,
   "metadata": {},
   "outputs": [
    {
     "name": "stdout",
     "output_type": "stream",
     "text": [
      "HIGHLIGHTED QUESTION - Identify an example type of network of when it is a good thing to be a high degree node and an example of when it is a bad thing to be a high degree node in a network.\n",
      "\n",
      "It would be good to be a high-degree node in a social-network like LinkedIn because then you will have a lot of connections and a lot more opportunities in terms of your career. It would be a bad thing to be a high degree node in a airport network because it would result in higher connections which means a lot of wait times and delays.\n"
     ]
    }
   ],
   "source": [
    "print('HIGHLIGHTED QUESTION - Identify an example type of network of when it is a good thing to be a high degree node and an example of when it is a bad thing to be a high degree node in a network.')\n",
    "print()\n",
    "print('It would be good to be a high-degree node in a social-network like LinkedIn because then you will have a lot of connections and a lot more opportunities in terms of your career. It would be a bad thing to be a high degree node in a airport network because it would result in higher connections which means a lot of wait times and delays.')"
   ]
  },
  {
   "cell_type": "code",
   "execution_count": 122,
   "metadata": {},
   "outputs": [
    {
     "name": "stdout",
     "output_type": "stream",
     "text": [
      "HIGHLIGHTED QUESTION - Describe or draw an example of a network in which a particular node has very few connections, but it could be argued that it is a very important node. Justify your reasoning.\n",
      "\n",
      "Say we have a small neighborhood/town. Then a power grid network would be a good example of a network in which a node may have very few connections, but still be important. For example, the power plant node is very important since it would supply electricity to nearby houses.\n"
     ]
    }
   ],
   "source": [
    "print('HIGHLIGHTED QUESTION - Describe or draw an example of a network in which a particular node has very few connections, but it could be argued that it is a very important node. Justify your reasoning.')\n",
    "print()\n",
    "print('Say we have a small neighborhood/town. Then a power grid network would be a good example of a network in which a node may have very few connections, but still be important. For example, the power plant node is very important since it would supply electricity to nearby houses.')"
   ]
  },
  {
   "cell_type": "code",
   "execution_count": 123,
   "metadata": {},
   "outputs": [
    {
     "name": "stdout",
     "output_type": "stream",
     "text": [
      "HIGHLIGHTED QUESTION - Explain what equation (6.25) in Newman actually means - i.e., what is a simpler way to explain what the two summations mean?\n",
      "\n",
      "k_i^in is calculating the in-degree of node i by summing up the number of edges going from node j to node i. Similarly, k_j^out is calculating the out-degree of node j by summing up the number of edges going from node j to node i.\n"
     ]
    }
   ],
   "source": [
    "print('HIGHLIGHTED QUESTION - Explain what equation (6.25) in Newman actually means - i.e., what is a simpler way to explain what the two summations mean?')\n",
    "print()\n",
    "print('k_i^in is calculating the in-degree of node i by summing up the number of edges going from node j to node i. Similarly, k_j^out is calculating the out-degree of node j by summing up the number of edges going from node j to node i.')"
   ]
  },
  {
   "cell_type": "markdown",
   "metadata": {},
   "source": [
    "#### Section 6.10-6.11: Paths & Components"
   ]
  },
  {
   "cell_type": "code",
   "execution_count": 124,
   "metadata": {},
   "outputs": [],
   "source": [
    "import numpy as np"
   ]
  },
  {
   "cell_type": "code",
   "execution_count": 125,
   "metadata": {},
   "outputs": [
    {
     "name": "stdout",
     "output_type": "stream",
     "text": [
      "HIGHLIGHTED QUESTION - write down the adjacency matrix, A\n",
      "[[0 0 0 0 0]\n",
      " [1 0 0 0 0]\n",
      " [1 1 0 0 0]\n",
      " [0 1 1 0 0]\n",
      " [0 0 1 1 0]]\n"
     ]
    }
   ],
   "source": [
    "print('HIGHLIGHTED QUESTION - write down the adjacency matrix, A')\n",
    "A = [[0,0,0,0,0],\n",
    "     [1,0,0,0,0],\n",
    "     [1,1,0,0,0],\n",
    "     [0,1,1,0,0],\n",
    "     [0,0,1,1,0]]\n",
    "print(np.array(A))"
   ]
  },
  {
   "cell_type": "code",
   "execution_count": 126,
   "metadata": {},
   "outputs": [
    {
     "name": "stdout",
     "output_type": "stream",
     "text": [
      "HIGHLIGHTED QUESTION - write down the adjacency matrix twice and multiply them to get A^2.\n",
      "[[0 0 0 0 0]\n",
      " [0 0 0 0 0]\n",
      " [1 0 0 0 0]\n",
      " [2 1 0 0 0]\n",
      " [1 2 1 0 0]]\n"
     ]
    }
   ],
   "source": [
    "print('HIGHLIGHTED QUESTION - write down the adjacency matrix twice and multiply them to get A^2.')\n",
    "A2 = np.dot(A,A)\n",
    "print(A2)"
   ]
  },
  {
   "cell_type": "code",
   "execution_count": 127,
   "metadata": {},
   "outputs": [
    {
     "name": "stdout",
     "output_type": "stream",
     "text": [
      "HIGHLIGHTED QUESTION - Using equation (6.29) indicate what each nonzero element of A^2 means\n",
      "Each non-zero element of A^2 represents the total number of paths of length 2 from node j to node i.\n"
     ]
    }
   ],
   "source": [
    "print('HIGHLIGHTED QUESTION - Using equation (6.29) indicate what each nonzero element of A^2 means')\n",
    "# for i in range(len(A)):\n",
    "#     for j in range(len(A[i])):\n",
    "#         print(i*j)\n",
    "        \n",
    "print('Each non-zero element of A^2 represents the total number of paths of length 2 from node j to node i.')"
   ]
  },
  {
   "cell_type": "code",
   "execution_count": 128,
   "metadata": {},
   "outputs": [
    {
     "name": "stdout",
     "output_type": "stream",
     "text": [
      "HIGHLIGHTED QUESTION - Write down the path(s) that correspond to these nonzero elements: e.g., 1 → 3 → 4.\n",
      "Paths of length two to node 0:\n",
      "\tNone\n",
      "Paths of length two to node 1:\n",
      "\tNone\n",
      "Paths of length two to node 2:\n",
      "\t0 -> 1 -> 2\n",
      "Paths of length two to node 3:\n",
      "\t0 -> 1 -> 3\n",
      "\t0 -> 2 -> 3\n",
      "\t1 -> 2 -> 3\n",
      "Paths of length two to node 4:\n",
      "\t0 -> 2 -> 4\n",
      "\t1 -> 2 -> 4\n",
      "\t1 -> 3 -> 4\n",
      "\t2 -> 3 -> 4\n"
     ]
    }
   ],
   "source": [
    "print('HIGHLIGHTED QUESTION - Write down the path(s) that correspond to these nonzero elements: e.g., 1 → 3 → 4.')\n",
    "print('Paths of length two to node 0:')\n",
    "print('\\tNone')\n",
    "print('Paths of length two to node 1:')\n",
    "print('\\tNone')\n",
    "print('Paths of length two to node 2:')\n",
    "print('\\t0 -> 1 -> 2')\n",
    "print('Paths of length two to node 3:')\n",
    "print('\\t0 -> 1 -> 3')\n",
    "print('\\t0 -> 2 -> 3')\n",
    "print('\\t1 -> 2 -> 3')\n",
    "print('Paths of length two to node 4:')\n",
    "print('\\t0 -> 2 -> 4')\n",
    "print('\\t1 -> 2 -> 4')\n",
    "print('\\t1 -> 3 -> 4')\n",
    "print('\\t2 -> 3 -> 4')\n"
   ]
  },
  {
   "cell_type": "code",
   "execution_count": null,
   "metadata": {},
   "outputs": [],
   "source": []
  },
  {
   "cell_type": "code",
   "execution_count": 129,
   "metadata": {},
   "outputs": [
    {
     "name": "stdout",
     "output_type": "stream",
     "text": [
      "HIGHLIGHTED QUESTION - Multiply Ax, A^2x=A(Ax), and A^3x=A(A(Ax)). What do these resulting column vectors represent\n",
      "Ax:\n",
      "[[0]\n",
      " [1]\n",
      " [1]\n",
      " [0]\n",
      " [0]]\n",
      "A2x:\n",
      "[[0]\n",
      " [0]\n",
      " [1]\n",
      " [2]\n",
      " [1]]\n",
      "A3x:\n",
      "[[0]\n",
      " [0]\n",
      " [0]\n",
      " [1]\n",
      " [3]]\n",
      "The resulting column vector represents the number of length 1, 2, or 3 paths for Ax, A^2x, or A^3x, respectively from node 0 to any other node i\n"
     ]
    }
   ],
   "source": [
    "print('HIGHLIGHTED QUESTION - Multiply Ax, A^2x=A(Ax), and A^3x=A(A(Ax)). What do these resulting column vectors represent')\n",
    "x = [[1],[0],[0],[0],[0]]\n",
    "A = [[0,0,0,0,0],\n",
    "     [1,0,0,0,0],\n",
    "     [1,1,0,0,0],\n",
    "     [0,1,1,0,0],\n",
    "     [0,0,1,1,0]]\n",
    "\n",
    "Ax = np.dot(A,x)\n",
    "A2x = np.dot(A, Ax)\n",
    "A3x = np.dot(A, A2x)\n",
    "# print(np.array(A))\n",
    "# print(np.array(x))\n",
    "print('Ax:')\n",
    "print(Ax)\n",
    "\n",
    "print('A2x:')\n",
    "print(A2x)\n",
    "\n",
    "print('A3x:')\n",
    "print(A3x)\n",
    "\n",
    "print('The resulting column vector represents the number of length 1, 2, or 3 paths for Ax, A^2x, or A^3x, respectively from node 0 to any other node i')"
   ]
  },
  {
   "cell_type": "code",
   "execution_count": null,
   "metadata": {},
   "outputs": [],
   "source": []
  },
  {
   "cell_type": "code",
   "execution_count": 130,
   "metadata": {},
   "outputs": [
    {
     "name": "stdout",
     "output_type": "stream",
     "text": [
      "HIGHLIGHTED QUESTION - Now do the same for x=[0,0,1,0,0]T. Does your observation generalize?\n",
      "Ax:\n",
      "[[0]\n",
      " [0]\n",
      " [0]\n",
      " [1]\n",
      " [1]]\n",
      "A2x:\n",
      "[[0]\n",
      " [0]\n",
      " [0]\n",
      " [0]\n",
      " [1]]\n",
      "A3x:\n",
      "[[0]\n",
      " [0]\n",
      " [0]\n",
      " [0]\n",
      " [0]]\n",
      "My obversvation does generalize, however one important thing to note is that it will now represent the number of length 1, 2, 3 or 3 paths for Ax, A^2x, or A^3x respectively from node 2 to any other node i. So, we would have to be mindful of the node marked as 1 in the column vector x as that will be node i.\n"
     ]
    }
   ],
   "source": [
    "print('HIGHLIGHTED QUESTION - Now do the same for x=[0,0,1,0,0]T. Does your observation generalize?')\n",
    "x = [[0],[0],[1],[0],[0]]\n",
    "A = [[0,0,0,0,0],\n",
    "     [1,0,0,0,0],\n",
    "     [1,1,0,0,0],\n",
    "     [0,1,1,0,0],\n",
    "     [0,0,1,1,0]]\n",
    "\n",
    "Ax = np.dot(A,x)\n",
    "A2x = np.dot(A, Ax)\n",
    "A3x = np.dot(A, A2x)\n",
    "# print(np.array(A))\n",
    "# print(np.array(x))\n",
    "print('Ax:')\n",
    "print(Ax)\n",
    "\n",
    "print('A2x:')\n",
    "print(A2x)\n",
    "\n",
    "print('A3x:')\n",
    "print(A3x)\n",
    "\n",
    "print('My obversvation does generalize, however one important thing to note is that it will now represent the number of length 1, 2, 3 or 3 paths for Ax, A^2x, or A^3x respectively from node 2 to any other node i. So, we would have to be mindful of the node marked as 1 in the column vector x as that will be node i.')\n"
   ]
  },
  {
   "cell_type": "code",
   "execution_count": null,
   "metadata": {},
   "outputs": [],
   "source": []
  },
  {
   "cell_type": "code",
   "execution_count": null,
   "metadata": {},
   "outputs": [],
   "source": []
  },
  {
   "cell_type": "code",
   "execution_count": 131,
   "metadata": {},
   "outputs": [],
   "source": [
    "import networkx as nx\n",
    "import sys\n",
    "sys.path.append('../d3networkx/')\n",
    "import d3networkx as d3nx\n",
    "from d3graph import D3Graph, D3DiGraph\n",
    "from numpy import *\n",
    "from time import time\n",
    "import asyncio\n",
    "\n",
    "def square_grid(n,d3,G,x0=100,y0=100,w=50):\n",
    "    if G is None:\n",
    "        G = D3Graph()\n",
    "    # find the dimensions for the grid that are as close as possible\n",
    "    num_rows = int(floor(sqrt(n)))\n",
    "    while n % num_rows != 0:\n",
    "        num_rows += 1\n",
    "    num_cols = int(n/num_rows)\n",
    "    \n",
    "    # Add all the nodes\n",
    "    G.add_nodes_from(range(n))\n",
    "        \n",
    "    # Add the edges and position the nodes\n",
    "    for i in range(num_rows):\n",
    "        for j in range(num_cols):\n",
    "            n = num_cols*i + j\n",
    "            d3.position_node(n,x0+i*w,y0+j*w)\n",
    "            if i < num_rows-1:\n",
    "                G.add_edge(n,n+num_cols) # add edge down\n",
    "            if j < num_cols-1:\n",
    "                G.add_edge(n,n+1) # add edge right\n",
    "\n",
    "async def propagate(G,d3,x,steps,slp=0.5,keep_highlights=False,update_at_end=False):\n",
    "    interactive = d3.interactive\n",
    "    d3.set_interactive(False)\n",
    "    A = nx.adjacency_matrix(G).todense().T  # adjacency matrix\n",
    "    d3.highlight_nodes_by_index(list(where(x>0)[0]))\n",
    "    d3.update()\n",
    "    await asyncio.sleep(slp)\n",
    "    cum_highlighted = sign(x)\n",
    "    for i in range(steps): # the brains\n",
    "        x = sign(dot(A,x)) # the brains\n",
    "        cum_highlighted = sign(cum_highlighted+x)\n",
    "        if not update_at_end:\n",
    "            if not keep_highlights:\n",
    "                d3.clear_highlights()\n",
    "            d3.highlight_nodes_by_index(list(where(x>0)[0]))\n",
    "            d3.update()\n",
    "            await asyncio.sleep(slp)\n",
    "    if update_at_end:\n",
    "        if not keep_highlights:\n",
    "            d3.clear_highlights()\n",
    "            d3.highlight_nodes_by_index(list(where(x>0)[0]))\n",
    "        else:\n",
    "            d3.highlight_nodes_by_index(list(where(cum_highlighted>0)[0]))\n",
    "        d3.update()\n",
    "    d3.set_interactive(interactive)\n",
    "    if keep_highlights:\n",
    "        return cum_highlighted\n",
    "    else:\n",
    "        return x "
   ]
  },
  {
   "cell_type": "markdown",
   "metadata": {},
   "source": [
    "This next line starts up the visualizer. It will start some background code that sends data to the visualizer and then it will open a new browser window where the visualizer will live. Once you have the visualizer running, you can leave it running for the entire session, so don't re-run this block. If you close the `visualizer.html` (or hit refresh), you will need to reestablish this connection. In this case, you should click the refresh button in the Jupyter notebook (not for the webpage) to restart the kernel (which will clear your variables and Python environment)."
   ]
  },
  {
   "cell_type": "code",
   "execution_count": 132,
   "metadata": {},
   "outputs": [
    {
     "name": "stdout",
     "output_type": "stream",
     "text": [
      "websocket server started...visualizer connected...networkx connected..."
     ]
    }
   ],
   "source": [
    "# d3 = await d3nx.create_d3nx_visualizer()\n",
    "d3 = await d3nx.create_d3nx_visualizer(canvas_size=(1200,1000))"
   ]
  },
  {
   "cell_type": "markdown",
   "metadata": {},
   "source": [
    "#### Launching the Visualizer Manually"
   ]
  },
  {
   "cell_type": "markdown",
   "metadata": {},
   "source": [
    "If the visualizer does not launch automatically, then you'll need to open it manually. After running the line above, use the following line to determine the communication port that the visualizer is using:"
   ]
  },
  {
   "cell_type": "code",
   "execution_count": 133,
   "metadata": {},
   "outputs": [
    {
     "data": {
      "text/plain": [
       "5124"
      ]
     },
     "execution_count": 133,
     "metadata": {},
     "output_type": "execute_result"
    }
   ],
   "source": [
    "d3.port"
   ]
  },
  {
   "cell_type": "markdown",
   "metadata": {},
   "source": [
    "The port is a 4-digit number. Go to the file *visualizer.html* in the d3networkx folder. Double click on it to open it (do not open it in JupyterLabs). In the url, add the following (without the quotes) to the end of the url: \"&port=1234\" and replace 1234 with the 4-digit port above. A different port is selected each time you run the `d3 = await d3nx.create_d3nx_visualizer()` command. So as long as you don't run that command again (or restart the kernel, or close JupyterLab, that port should still continue to work)"
   ]
  },
  {
   "cell_type": "markdown",
   "metadata": {},
   "source": [
    "## Grid Network"
   ]
  },
  {
   "cell_type": "code",
   "execution_count": 134,
   "metadata": {},
   "outputs": [],
   "source": [
    "d3.clear()\n",
    "d3.set_interactive(False)\n",
    "G = D3Graph()\n",
    "d3.set_graph(G)\n",
    "square_grid(144,d3,G,x0=75,y0=70)\n",
    "d3.update()"
   ]
  },
  {
   "cell_type": "code",
   "execution_count": 135,
   "metadata": {},
   "outputs": [],
   "source": [
    "# x = zeros((G.number_of_nodes(),1))\n",
    "# x[0] = 1\n",
    "# A = nx.adjacency_matrix(G).todense().T  # adjacency matrix\n",
    "# print(list(A))\n",
    "# print(x)\n",
    "# for i in range(3):\n",
    "    \n",
    "#     x = sign(dot(A,x)) # the brains\n",
    "#     print(x)\n"
   ]
  },
  {
   "cell_type": "code",
   "execution_count": 136,
   "metadata": {
    "collapsed": true,
    "jupyter": {
     "outputs_hidden": true
    },
    "tags": []
   },
   "outputs": [
    {
     "name": "stderr",
     "output_type": "stream",
     "text": [
      "C:\\Users\\Humza\\AppData\\Local\\Temp\\ipykernel_7228\\3358298058.py:35: FutureWarning: adjacency_matrix will return a scipy.sparse array instead of a matrix in Networkx 3.0.\n",
      "  A = nx.adjacency_matrix(G).todense().T  # adjacency matrix\n"
     ]
    },
    {
     "name": "stdout",
     "output_type": "stream",
     "text": [
      "[[0.]\n",
      " [1.]\n",
      " [0.]\n",
      " [1.]\n",
      " [0.]\n",
      " [1.]\n",
      " [0.]\n",
      " [1.]\n",
      " [0.]\n",
      " [1.]\n",
      " [0.]\n",
      " [1.]\n",
      " [1.]\n",
      " [0.]\n",
      " [1.]\n",
      " [0.]\n",
      " [1.]\n",
      " [0.]\n",
      " [1.]\n",
      " [0.]\n",
      " [1.]\n",
      " [0.]\n",
      " [1.]\n",
      " [0.]\n",
      " [0.]\n",
      " [1.]\n",
      " [0.]\n",
      " [1.]\n",
      " [0.]\n",
      " [1.]\n",
      " [0.]\n",
      " [1.]\n",
      " [0.]\n",
      " [1.]\n",
      " [0.]\n",
      " [1.]\n",
      " [1.]\n",
      " [0.]\n",
      " [1.]\n",
      " [0.]\n",
      " [1.]\n",
      " [0.]\n",
      " [1.]\n",
      " [0.]\n",
      " [1.]\n",
      " [0.]\n",
      " [1.]\n",
      " [0.]\n",
      " [0.]\n",
      " [1.]\n",
      " [0.]\n",
      " [1.]\n",
      " [0.]\n",
      " [1.]\n",
      " [0.]\n",
      " [1.]\n",
      " [0.]\n",
      " [1.]\n",
      " [0.]\n",
      " [0.]\n",
      " [1.]\n",
      " [0.]\n",
      " [1.]\n",
      " [0.]\n",
      " [1.]\n",
      " [0.]\n",
      " [1.]\n",
      " [0.]\n",
      " [1.]\n",
      " [0.]\n",
      " [0.]\n",
      " [0.]\n",
      " [0.]\n",
      " [1.]\n",
      " [0.]\n",
      " [1.]\n",
      " [0.]\n",
      " [1.]\n",
      " [0.]\n",
      " [1.]\n",
      " [0.]\n",
      " [0.]\n",
      " [0.]\n",
      " [0.]\n",
      " [1.]\n",
      " [0.]\n",
      " [1.]\n",
      " [0.]\n",
      " [1.]\n",
      " [0.]\n",
      " [1.]\n",
      " [0.]\n",
      " [0.]\n",
      " [0.]\n",
      " [0.]\n",
      " [0.]\n",
      " [0.]\n",
      " [1.]\n",
      " [0.]\n",
      " [1.]\n",
      " [0.]\n",
      " [1.]\n",
      " [0.]\n",
      " [0.]\n",
      " [0.]\n",
      " [0.]\n",
      " [0.]\n",
      " [0.]\n",
      " [1.]\n",
      " [0.]\n",
      " [1.]\n",
      " [0.]\n",
      " [1.]\n",
      " [0.]\n",
      " [0.]\n",
      " [0.]\n",
      " [0.]\n",
      " [0.]\n",
      " [0.]\n",
      " [0.]\n",
      " [0.]\n",
      " [1.]\n",
      " [0.]\n",
      " [1.]\n",
      " [0.]\n",
      " [0.]\n",
      " [0.]\n",
      " [0.]\n",
      " [0.]\n",
      " [0.]\n",
      " [0.]\n",
      " [0.]\n",
      " [1.]\n",
      " [0.]\n",
      " [1.]\n",
      " [0.]\n",
      " [0.]\n",
      " [0.]\n",
      " [0.]\n",
      " [0.]\n",
      " [0.]\n",
      " [0.]\n",
      " [0.]\n",
      " [0.]]\n"
     ]
    }
   ],
   "source": [
    "x = zeros((G.number_of_nodes(),1))\n",
    "x[0] = 1\n",
    "chk = await propagate(G,d3,x,13,slp=1);\n",
    "print(chk)"
   ]
  },
  {
   "cell_type": "code",
   "execution_count": 17,
   "metadata": {},
   "outputs": [
    {
     "name": "stdout",
     "output_type": "stream",
     "text": [
      "HIGHLIGHTED QUESTION - By hand, looking at the network, write down the degrees of the nodes (you can aggregate your answer, so write down how many nodes have degree k). Pick a way to visualize this aggregated degree data (a graph of some sort) - just draw something by hand.\n",
      "\n",
      "4 nodes have degree 2.\n",
      "40 nodes have degree 3.\n",
      "100 Nodes have degree 4.\n"
     ]
    }
   ],
   "source": [
    "print('HIGHLIGHTED QUESTION - By hand, looking at the network, write down the degrees of the nodes (you can aggregate your answer, so write down how many nodes have degree k). Pick a way to visualize this aggregated degree data (a graph of some sort) - just draw something by hand.')\n",
    "print()\n",
    "print('4 nodes have degree 2.\\n40 nodes have degree 3.\\n100 Nodes have degree 4.')"
   ]
  },
  {
   "cell_type": "markdown",
   "metadata": {},
   "source": [
    "![bar.jpg](./bar.jpg)"
   ]
  },
  {
   "cell_type": "code",
   "execution_count": 137,
   "metadata": {},
   "outputs": [
    {
     "name": "stdout",
     "output_type": "stream",
     "text": [
      "HIGHLIGHTED QUESTION - Briefly describe why you see the pattern that you do and indicate why the process stops where it does. How could you make the propagation go further?\n",
      "\n",
      "The pattern alternates in highlighting the diagonals starting from the bottom-left and builds upon the previously highlighted diagonals. It does this because x = sign(dot(A,x)) will createa column vector of nodes that need to be highlighted. When we start with node 0 (bottom-left) as the only 1 in the column vector, the dot product will give us a list of all the nodes adjacent to node 0. Then, when we reassign this new column vector to x and again take the dot product of A and x, we receive a column vector of all the neighbors of all nodes in column vector x. This will then result in highlighting nodes in alternating manners such that we will see \"even\" and \"odd\" diagonals being highlighted when visualizing. This process stops where it does because we provide a maximum number of 10 steps. To make the propogation go further we simply have to chose our maximum steps to be greater than 10.\n"
     ]
    }
   ],
   "source": [
    "print('HIGHLIGHTED QUESTION - Briefly describe why you see the pattern that you do and indicate why the process stops where it does. How could you make the propagation go further?')\n",
    "print()\n",
    "print('The pattern alternates in highlighting the diagonals starting from the bottom-left and builds upon the previously highlighted diagonals. It does this because x = sign(dot(A,x)) will createa column vector of nodes that need to be highlighted. When we start with node 0 (bottom-left) as the only 1 in the column vector, the dot product will give us a list of all the nodes adjacent to node 0. Then, when we reassign this new column vector to x and again take the dot product of A and x, we receive a column vector of all the neighbors of all nodes in column vector x. This will then result in highlighting nodes in alternating manners such that we will see \"even\" and \"odd\" diagonals being highlighted when visualizing. This process stops where it does because we provide a maximum number of 10 steps. To make the propogation go further we simply have to chose our maximum steps to be greater than 10.')"
   ]
  },
  {
   "cell_type": "code",
   "execution_count": null,
   "metadata": {},
   "outputs": [],
   "source": []
  },
  {
   "cell_type": "markdown",
   "metadata": {},
   "source": [
    "## Directed Network"
   ]
  },
  {
   "cell_type": "code",
   "execution_count": 138,
   "metadata": {},
   "outputs": [],
   "source": [
    "d3.clear()\n",
    "G = D3DiGraph(nx.read_weighted_edgelist('lab2.edgelist',create_using=nx.DiGraph))\n",
    "d3.set_graph(G)\n",
    "d3.update()"
   ]
  },
  {
   "cell_type": "code",
   "execution_count": 139,
   "metadata": {},
   "outputs": [
    {
     "name": "stdout",
     "output_type": "stream",
     "text": [
      "HIGHLIGHTED QUESTION - Now, in the next code block, add code to propagate this network starting at node 0 for 10 steps.\n"
     ]
    }
   ],
   "source": [
    "print('HIGHLIGHTED QUESTION - Now, in the next code block, add code to propagate this network starting at node 0 for 10 steps.') "
   ]
  },
  {
   "cell_type": "code",
   "execution_count": 140,
   "metadata": {},
   "outputs": [
    {
     "name": "stderr",
     "output_type": "stream",
     "text": [
      "C:\\Users\\Humza\\AppData\\Local\\Temp\\ipykernel_7228\\3358298058.py:35: FutureWarning: adjacency_matrix will return a scipy.sparse array instead of a matrix in Networkx 3.0.\n",
      "  A = nx.adjacency_matrix(G).todense().T  # adjacency matrix\n"
     ]
    },
    {
     "data": {
      "text/plain": [
       "matrix([[0.],\n",
       "        [0.],\n",
       "        [0.],\n",
       "        [0.],\n",
       "        [0.]])"
      ]
     },
     "execution_count": 140,
     "metadata": {},
     "output_type": "execute_result"
    }
   ],
   "source": [
    "# code to propagate\n",
    "x = zeros((G.number_of_nodes(),1))\n",
    "x[0] = 1\n",
    "await propagate(G, d3, x, 10, slp=1)"
   ]
  },
  {
   "cell_type": "code",
   "execution_count": 141,
   "metadata": {},
   "outputs": [
    {
     "name": "stdout",
     "output_type": "stream",
     "text": [
      "[[0 0 0 0 0]\n",
      " [0 0 0 0 0]\n",
      " [0 0 0 0 0]\n",
      " [0 0 0 0 0]\n",
      " [0 0 0 0 0]]\n"
     ]
    },
    {
     "name": "stderr",
     "output_type": "stream",
     "text": [
      "C:\\Users\\Humza\\AppData\\Local\\Temp\\ipykernel_7228\\3501486504.py:1: FutureWarning: adjacency_matrix will return a scipy.sparse array instead of a matrix in Networkx 3.0.\n",
      "  A = nx.adjacency_matrix(G).todense().T  # adjacency matrix\n"
     ]
    }
   ],
   "source": [
    "A = nx.adjacency_matrix(G).todense().T  # adjacency matrix\n",
    "# print(A)\n",
    "print(A**5)"
   ]
  },
  {
   "cell_type": "code",
   "execution_count": 142,
   "metadata": {},
   "outputs": [
    {
     "name": "stdout",
     "output_type": "stream",
     "text": [
      "HIGHLIGHTED QUESTION - What is the end result? What is A^10 (A is the adjacency matrix)? Describe why this is the case from the point of view of network paths and also from linear algebra (i.e., what special name do we give such matrices?).\n",
      "\n",
      "The end result returned is a column vector filled with 0s. A^10, as seen above is a matrix filled with 0s. From the point of view of network paths, we find that in this directed network that when trying to find paths 10 steps away from node 0 we end at node 4, but cannot find any paths beyond a length of 4 starting from node 0 since there is no out-neighbor for node 4. From a linear algebra perspective we get the null matrix (a matrix filled with 0s) which describes that no paths of length 10 starting from node 0 exist in the network.\n"
     ]
    }
   ],
   "source": [
    "print('HIGHLIGHTED QUESTION - What is the end result? What is A^10 (A is the adjacency matrix)? Describe why this is the case from the point of view of network paths and also from linear algebra (i.e., what special name do we give such matrices?).')\n",
    "print()\n",
    "print('The end result returned is a column vector filled with 0s. A^10, as seen above is a matrix filled with 0s. From the point of view of network paths, we find that in this directed network that when trying to find paths 10 steps away from node 0 we end at node 4, but cannot find any paths beyond a length of 4 starting from node 0 since there is no out-neighbor for node 4. From a linear algebra perspective we get the null matrix (a matrix filled with 0s) which describes that no paths of length 10 starting from node 0 exist in the network.') "
   ]
  },
  {
   "cell_type": "code",
   "execution_count": 143,
   "metadata": {},
   "outputs": [
    {
     "name": "stderr",
     "output_type": "stream",
     "text": [
      "C:\\Users\\Humza\\AppData\\Local\\Temp\\ipykernel_7228\\3358298058.py:35: FutureWarning: adjacency_matrix will return a scipy.sparse array instead of a matrix in Networkx 3.0.\n",
      "  A = nx.adjacency_matrix(G).todense().T  # adjacency matrix\n"
     ]
    },
    {
     "data": {
      "text/plain": [
       "matrix([[0.],\n",
       "        [1.],\n",
       "        [1.],\n",
       "        [1.],\n",
       "        [1.]])"
      ]
     },
     "execution_count": 143,
     "metadata": {},
     "output_type": "execute_result"
    }
   ],
   "source": [
    "# code to find the out-component of node 1\n",
    "x = zeros((G.number_of_nodes(),1))\n",
    "x[1] = 1\n",
    "await propagate(G, d3, x, 20, update_at_end=True, keep_highlights=True)"
   ]
  },
  {
   "cell_type": "code",
   "execution_count": 144,
   "metadata": {},
   "outputs": [
    {
     "name": "stdout",
     "output_type": "stream",
     "text": [
      "HIGHLIGHTED QUESTION - Run this code - is the out-component what you predicted?\n",
      "\n",
      "I predicted the out-component to consist of nodes 2, 3, and 4, but it is actually nodes 1, 2, 3, and 4 which makes sense since node 1 can reach itself.\n",
      "\n",
      "HIGHLIGHTED QUESTION - Without changing the code within the propagate(...) function, how could we use it to find in-components instead of out-components?\n",
      "\n",
      "In-components are nodes which have a directed path to a given node, including the given node itself. One way to find the in-component of a given node would be to execute propogate for all other nodes j and see if the given node i is part of the out-component, if it is then a path exists; so, we can add node j to the list of in-component for node i. By default we add the given node i to the in-component list.\n",
      "\n",
      "HIGHLIGHTED QUESTION - What is the size of the largest strongly connected component?\n",
      "\n",
      "The size of the largest strongly connected component is 1\n"
     ]
    }
   ],
   "source": [
    "print('HIGHLIGHTED QUESTION - Run this code - is the out-component what you predicted?')\n",
    "print()\n",
    "print('I predicted the out-component to consist of nodes 2, 3, and 4, but it is actually nodes 1, 2, 3, and 4 which makes sense since node 1 can reach itself.')\n",
    "print()\n",
    "print('HIGHLIGHTED QUESTION - Without changing the code within the propagate(...) function, how could we use it to find in-components instead of out-components?')\n",
    "print()\n",
    "print('In-components are nodes which have a directed path to a given node, including the given node itself. One way to find the in-component of a given node would be to execute propogate for all other nodes j and see if the given node i is part of the out-component, if it is then a path exists; so, we can add node j to the list of in-component for node i. By default we add the given node i to the in-component list.')\n",
    "print()\n",
    "print('HIGHLIGHTED QUESTION - What is the size of the largest strongly connected component?')\n",
    "print()\n",
    "print('The size of the largest strongly connected component is 1')"
   ]
  },
  {
   "cell_type": "markdown",
   "metadata": {},
   "source": [
    "## E. coli Protein Network"
   ]
  },
  {
   "cell_type": "code",
   "execution_count": 145,
   "metadata": {},
   "outputs": [
    {
     "name": "stdout",
     "output_type": "stream",
     "text": [
      "Ecoli has 418 nodes.\n"
     ]
    }
   ],
   "source": [
    "d3.clear()\n",
    "G = D3DiGraph(nx.read_weighted_edgelist('ecoli.edgelist',create_using=nx.DiGraph))\n",
    "d3.set_interactive(False)\n",
    "d3.set_graph(G)\n",
    "d3.set_interactive(True)\n",
    "d3.update()\n",
    "print('Ecoli has %i nodes.' % G.number_of_nodes())"
   ]
  },
  {
   "cell_type": "code",
   "execution_count": 146,
   "metadata": {},
   "outputs": [
    {
     "name": "stdout",
     "output_type": "stream",
     "text": [
      "HIGHLIGHTED QUESTION - In the next two code blocks, find the out-components of nodes with index 2 and 16. Have your program print out the size of the component\n"
     ]
    }
   ],
   "source": [
    "print('HIGHLIGHTED QUESTION - In the next two code blocks, find the out-components of nodes with index 2 and 16. Have your program print out the size of the component')"
   ]
  },
  {
   "cell_type": "code",
   "execution_count": 147,
   "metadata": {},
   "outputs": [
    {
     "name": "stderr",
     "output_type": "stream",
     "text": [
      "C:\\Users\\Humza\\AppData\\Local\\Temp\\ipykernel_7228\\3358298058.py:35: FutureWarning: adjacency_matrix will return a scipy.sparse array instead of a matrix in Networkx 3.0.\n",
      "  A = nx.adjacency_matrix(G).todense().T  # adjacency matrix\n"
     ]
    },
    {
     "name": "stdout",
     "output_type": "stream",
     "text": [
      "Out-component of node with index 2: ['6', '11', '14'] which has a size of 3\n"
     ]
    }
   ],
   "source": [
    "# code to find the out-component of node 2\n",
    "x = zeros((G.number_of_nodes(),1))\n",
    "x[2] = 1\n",
    "col_vec = await propagate(G, d3, x, 1, update_at_end=True, keep_highlights=True)\n",
    "out_component = list(where(col_vec>0)[0])\n",
    "out_component_nodes = [G.node_by_index(i) for i in out_component]\n",
    "print(f'Out-component of node with index 2: {out_component_nodes} which has a size of {len(out_component_nodes)}')"
   ]
  },
  {
   "cell_type": "code",
   "execution_count": 148,
   "metadata": {},
   "outputs": [
    {
     "name": "stdout",
     "output_type": "stream",
     "text": [
      "6 11 14\n",
      "[2, 3, 4]\n"
     ]
    }
   ],
   "source": [
    "G.node_by_index(16)\n",
    "out_component_nodes = [G.node_by_index(i) for i in out_component]\n",
    "print(G.node_by_index(2), G.node_by_index(3), G.node_by_index(4))\n",
    "print(out_component)"
   ]
  },
  {
   "cell_type": "code",
   "execution_count": 149,
   "metadata": {},
   "outputs": [],
   "source": [
    "d3.clear_highlights()\n",
    "d3.update()"
   ]
  },
  {
   "cell_type": "code",
   "execution_count": 150,
   "metadata": {},
   "outputs": [
    {
     "name": "stderr",
     "output_type": "stream",
     "text": [
      "C:\\Users\\Humza\\AppData\\Local\\Temp\\ipykernel_7228\\3358298058.py:35: FutureWarning: adjacency_matrix will return a scipy.sparse array instead of a matrix in Networkx 3.0.\n",
      "  A = nx.adjacency_matrix(G).todense().T  # adjacency matrix\n"
     ]
    },
    {
     "name": "stdout",
     "output_type": "stream",
     "text": [
      "Out-component of node with index 16: ['18', '17', '24', '1', '49', '73', '76', '85', '117', '144', '152', '153', '165', '172', '177', '202', '217', '242', '285', '351', '357', '50'] which has a size of 22\n"
     ]
    }
   ],
   "source": [
    "# code to find the out-component of node 16\n",
    "x = zeros((G.number_of_nodes(),1))\n",
    "x[16] = 1\n",
    "col_vec = await propagate(G, d3, x, 418, update_at_end=True, keep_highlights=True)\n",
    "out_component = list(where(col_vec>0)[0])\n",
    "out_component_nodes = [G.node_by_index(i) for i in out_component]\n",
    "print(f'Out-component of node with index 16: {out_component_nodes} which has a size of {len(out_component_nodes)}')"
   ]
  },
  {
   "cell_type": "code",
   "execution_count": 151,
   "metadata": {},
   "outputs": [
    {
     "name": "stdout",
     "output_type": "stream",
     "text": [
      "HIGHLIGHTED QUESTION - What is the minimum value of steps that guarantees that you will find the entire out-component?\n",
      "\n",
      "Through trial and error, I found that for out-component of node index 2, the minimum value of steps is 1. For the entire out-component of node index 16 the minimum value of steps is 2.\n"
     ]
    }
   ],
   "source": [
    "print('HIGHLIGHTED QUESTION - What is the minimum value of steps that guarantees that you will find the entire out-component?')\n",
    "print()\n",
    "print('Through trial and error, I found that for out-component of node index 2, the minimum value of steps is 1. For the entire out-component of node index 16 the minimum value of steps is 2.')"
   ]
  },
  {
   "cell_type": "code",
   "execution_count": null,
   "metadata": {},
   "outputs": [],
   "source": []
  },
  {
   "cell_type": "code",
   "execution_count": 152,
   "metadata": {},
   "outputs": [
    {
     "name": "stdout",
     "output_type": "stream",
     "text": [
      "HIGHLIGHTED QUESTION - find and display the diameter of this network\n"
     ]
    }
   ],
   "source": [
    "print('HIGHLIGHTED QUESTION - find and display the diameter of this network')"
   ]
  },
  {
   "cell_type": "code",
   "execution_count": 158,
   "metadata": {},
   "outputs": [],
   "source": [
    "#print(nx.diameter(G)) # does not work!\n",
    "\n",
    "def diameter2(G):\n",
    "    spaths = dict(nx.all_pairs_shortest_path(G))\n",
    "    \n",
    "    path = []\n",
    "    diameter = 0\n",
    "    \n",
    "    # iterate nested dictionary\n",
    "    for k in spaths:\n",
    "        for v in spaths[k]:\n",
    "            curr_path = spaths[k][v] # get current path\n",
    "            length = len(curr_path) - 1 # get current path length\n",
    "            if length > diameter: # compare to current diameter\n",
    "                diameter = length # update diameter\n",
    "                path = curr_path # update longest shortest path\n",
    "    return diameter, path\n",
    "\n",
    "# use the new diameter function here\n"
   ]
  },
  {
   "cell_type": "code",
   "execution_count": 159,
   "metadata": {},
   "outputs": [
    {
     "name": "stdout",
     "output_type": "stream",
     "text": [
      "Diameter: 4\n",
      "Path: ['190', '292', '136', '137', '133']\n"
     ]
    }
   ],
   "source": [
    "d, p = diameter2(G)\n",
    "print(f'Diameter: {d}')\n",
    "print(f'Path: {p}')\n",
    "d3.highlight_nodes(p)\n",
    "edges = []\n",
    "for i in range(len(p)-1):\n",
    "    edges.append((p[i], p[i+1]))\n",
    "\n",
    "d3.highlight_edges(edges)"
   ]
  },
  {
   "cell_type": "markdown",
   "metadata": {},
   "source": [
    "![diameter.png](./diameter.png)"
   ]
  },
  {
   "cell_type": "markdown",
   "metadata": {},
   "source": [
    "## Section 6.12: Flows & Cut Sets"
   ]
  },
  {
   "cell_type": "code",
   "execution_count": 160,
   "metadata": {},
   "outputs": [],
   "source": [
    "from networkx import bipartite"
   ]
  },
  {
   "cell_type": "code",
   "execution_count": 161,
   "metadata": {},
   "outputs": [],
   "source": [
    "\n",
    "# creates a directed complete graph\n",
    "def worst_graph(n):\n",
    "    # to do\n",
    "    G = nx.DiGraph()\n",
    "    G.add_nodes_from(range(n))\n",
    "    G.add_edges_from([(i, j) for i in range(n) for j in range(n) if i != j], capacity=1)\n",
    "    return G\n",
    "\n",
    "# creates a directed path graph\n",
    "def best_graph(n):\n",
    "    G = nx.DiGraph()\n",
    "    nx.add_path(G, list(range(n)), capacity=1)\n",
    "\n",
    "    return G    \n",
    "\n",
    "# create graph\n",
    "\n",
    "\n",
    "worst = worst_graph(1000)\n",
    "best = best_graph(1000)\n",
    "               \n",
    "# G_best = D3DiGraph(best)\n",
    "# G_worst = D3DiGraph(worst)\n",
    "# d3.set_interactive(False)\n",
    "# d3.set_graph(G_worst)\n",
    "# d3.set_interactive(False)\n",
    "# d3.update()\n",
    "               \n",
    "# print(worst)\n"
   ]
  },
  {
   "cell_type": "code",
   "execution_count": 162,
   "metadata": {},
   "outputs": [
    {
     "name": "stdout",
     "output_type": "stream",
     "text": [
      "HIGHLIGHTED QUESTION - Describe these graphs in words\n",
      "\n",
      "The worst graph is a directed complete graph without weights and a capacity of 1 per edge, making it a weakly connected directed unweighted graph. The best graph is a directed path graph without weights and a capacity of 1 per edge, making it a weakly connected unweighted graph.\n",
      "\n",
      "HIGHLIGHTED QUESTION - Choose n to be somewhat large (1,000) and observe the computation time required on these two types of graphs\n",
      "WORST - min cut took 4.91 seconds\n",
      "BEST - min cut took 0.02 seconds\n"
     ]
    }
   ],
   "source": [
    "print('HIGHLIGHTED QUESTION - Describe these graphs in words')\n",
    "print()\n",
    "print('The worst graph is a directed complete graph without weights and a capacity of 1 per edge, making it a weakly connected directed unweighted graph. The best graph is a directed path graph without weights and a capacity of 1 per edge, making it a weakly connected unweighted graph.')\n",
    "print()\n",
    "\n",
    "\n",
    "print('HIGHLIGHTED QUESTION - Choose n to be somewhat large (1,000) and observe the computation time required on these two types of graphs')\n",
    "# perform min cut for worst\n",
    "start_time = time()\n",
    "nx.minimum_cut(worst, 0, 999)\n",
    "print('WORST - min cut took %1.2f seconds' % (time() - start_time))\n",
    "\n",
    "# perform min cut for best\n",
    "start_time = time()\n",
    "nx.minimum_cut(best, 0, 999)\n",
    "print('BEST - min cut took %1.2f seconds' % (time() - start_time))\n"
   ]
  },
  {
   "cell_type": "code",
   "execution_count": 163,
   "metadata": {},
   "outputs": [
    {
     "name": "stdout",
     "output_type": "stream",
     "text": [
      "HIGHLIGHTED QUESTION - First, reason why this graph of activities should be an acyclic directed graph. Explain why cycles in a project activity network would be a bad way to organize it.\n",
      "\n",
      "A DAG has no cycles by definition so there will always be a well-defined sequence from a starting node to a final node. If we had a cycle present in a project activity network then it would create confusion in terms of the ordering of the tasks. Cycles can also cause infinite loops, so a project may never end. Overall, DAGs help us avoid circular dependencies.\n"
     ]
    }
   ],
   "source": [
    "print('HIGHLIGHTED QUESTION - First, reason why this graph of activities should be an acyclic directed graph. Explain why cycles in a project activity network would be a bad way to organize it.')\n",
    "print()\n",
    "print('A DAG has no cycles by definition so there will always be a well-defined sequence from a starting node to a final node. If we had a cycle present in a project activity network then it would create confusion in terms of the ordering of the tasks. Cycles can also cause infinite loops, so a project may never end. Overall, DAGs help us avoid circular dependencies.')"
   ]
  },
  {
   "cell_type": "code",
   "execution_count": 164,
   "metadata": {},
   "outputs": [
    {
     "name": "stdout",
     "output_type": "stream",
     "text": [
      "HIGHLIGHTED QUESTION - Using the Bellman-Ford shortest path algorithm, find the length and activity sequence of the critical path in this activity network\n",
      "\n",
      "['Lead time', 'Obtain valves', 'Fit valves', 'Finish valve chambers', 'Leave site']\n",
      "48.0\n"
     ]
    }
   ],
   "source": [
    "G = nx.read_gml('pert.gml', 'name')\n",
    "\n",
    "\n",
    "print('HIGHLIGHTED QUESTION - Using the Bellman-Ford shortest path algorithm, find the length and activity sequence of the critical path in this activity network')\n",
    "print()\n",
    "\n",
    "path = nx.bellman_ford_path(G, 'Lead time', 'Leave site', weight='weight')\n",
    "length = nx.bellman_ford_path_length(G, 'Lead time', 'Leave site', weight='weight')\n",
    "print(path)\n",
    "print(length)"
   ]
  },
  {
   "cell_type": "code",
   "execution_count": 165,
   "metadata": {},
   "outputs": [
    {
     "name": "stdout",
     "output_type": "stream",
     "text": [
      "HIGHLIGHTED QUESTION - calculate the minimum cut set and the cut set weight from “Lead time” to “Leavesite” \n",
      "\n",
      "Minimum Cutset: [('Clean up', 'Leave site'), ('Finish valve chambers', 'Leave site')]\n",
      "Cutset weight: 11.0\n"
     ]
    }
   ],
   "source": [
    "print('HIGHLIGHTED QUESTION - calculate the minimum cut set and the cut set weight from “Lead time” to “Leavesite” ')\n",
    "print()\n",
    "cut_value, partition = nx.minimum_cut(G, 'Lead time', 'Leave site', capacity='weight')\n",
    "reachable, non_reachable = partition\n",
    "\n",
    "cutset = set()\n",
    "\n",
    "for u, nbrs in ((n, G[n]) for n in reachable):\n",
    "    cutset.update((u, v) for v in nbrs if v in non_reachable)\n",
    "\n",
    "weight = 0\n",
    "for i,j in cutset:\n",
    "    weight += G[i][j]['weight']\n",
    "    \n",
    "print(f'Minimum Cutset: {sorted(cutset)}')\n",
    "print(f'Cutset weight: {weight}')"
   ]
  },
  {
   "cell_type": "code",
   "execution_count": 166,
   "metadata": {},
   "outputs": [
    {
     "name": "stdout",
     "output_type": "stream",
     "text": [
      "HIGHLIGHTED QUESTION - Can you think of a potential use-case for analyzing the minimum cut of an activity network?\n",
      "\n",
      "The minimum cut of an activity network can help us determine which activities are essential and then prioritize resources to make sure the project remains on a good timeline\n"
     ]
    }
   ],
   "source": [
    "print('HIGHLIGHTED QUESTION - Can you think of a potential use-case for analyzing the minimum cut of an activity network?')\n",
    "print()\n",
    "print('The minimum cut of an activity network can help us determine which activities are essential and then prioritize resources to make sure the project remains on a good timeline')"
   ]
  },
  {
   "cell_type": "code",
   "execution_count": null,
   "metadata": {},
   "outputs": [],
   "source": []
  }
 ],
 "metadata": {
  "kernelspec": {
   "display_name": "Python 3 (ipykernel)",
   "language": "python",
   "name": "python3"
  },
  "language_info": {
   "codemirror_mode": {
    "name": "ipython",
    "version": 3
   },
   "file_extension": ".py",
   "mimetype": "text/x-python",
   "name": "python",
   "nbconvert_exporter": "python",
   "pygments_lexer": "ipython3",
   "version": "3.9.13"
  }
 },
 "nbformat": 4,
 "nbformat_minor": 4
}
