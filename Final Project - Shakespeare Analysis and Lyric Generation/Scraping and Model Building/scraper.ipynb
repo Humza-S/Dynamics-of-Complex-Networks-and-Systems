{
 "cells": [
  {
   "cell_type": "code",
   "execution_count": 1,
   "id": "f0d168db-a200-472e-b5ee-0f6b74fea8ac",
   "metadata": {},
   "outputs": [],
   "source": [
    "import requests\n",
    "from bs4 import BeautifulSoup\n",
    "import unicodedata\n",
    "import pickle\n"
   ]
  },
  {
   "cell_type": "code",
   "execution_count": 2,
   "id": "8386a8ed-4db9-4ceb-a574-07f2f959f93c",
   "metadata": {},
   "outputs": [],
   "source": [
    "class Scraper():\n",
    "    def __init__(self, base_url):\n",
    "        self.base_url = base_url\n",
    "    \n",
    "    # creates query with the base url\n",
    "    def create_query(self, query):\n",
    "        return self.base_url+query\n",
    "    \n",
    "    # creates query to search by author\n",
    "    def create_author_query(self, author_name, page=1):\n",
    "        author = author_name.lower().replace(' ', '%20')\n",
    "        \n",
    "        url_ref = f'{self.base_url}/search?query={author}&refinement=poems&page={page}'\n",
    "        \n",
    "        return url_ref\n",
    "    "
   ]
  },
  {
   "cell_type": "code",
   "execution_count": 3,
   "id": "371b8214-71c4-4e9a-86ac-a916e7373863",
   "metadata": {},
   "outputs": [],
   "source": [
    "\n",
    "def get_poems_of_author(url, author_name):\n",
    "\n",
    "    poems = []\n",
    "    \n",
    "    pg = 1\n",
    "    while(True):\n",
    "        \n",
    "        authors_poems = url.create_author_query(author_name, page=pg) # create url for author name and page number\n",
    "        response = requests.get(authors_poems) # query url\n",
    "        \n",
    "        if response.status_code == 200: # author and page exists\n",
    "            \n",
    "            # parse on each page\n",
    "            soup = BeautifulSoup(response.content, 'html.parser')\n",
    "            poems = poems + parse_poems_of_author_page(soup, author_name)\n",
    "            \n",
    "            pg += 1\n",
    "            \n",
    "        else: # author or page does not exist\n",
    "            break\n",
    "            \n",
    "    return poems\n",
    "        \n",
    "    \n",
    "    \n",
    "def parse_poems_of_author_page(soup, author_name):    \n",
    "    # Find the HTML elements that contain the poem titles, authors, and links to the poems\n",
    "    poem_blocks = soup.find_all('div', class_='c-feature c-mix-feature_shrinkwrap') #, class_='c-feature-preamble')\n",
    "\n",
    "    # Loop through the \"poem blocks\"\n",
    "    poems = []\n",
    "    \n",
    "    for poem in poem_blocks:\n",
    "        \n",
    "        # find author's name\n",
    "        find_author = poem.find('span', class_='c-txt c-txt_attribution')\n",
    "        \n",
    "        # successfully found an author\n",
    "        if find_author:\n",
    "            author = find_author.text.strip()[3:] # get author's name\n",
    "            \n",
    "            if (author.lower() == author_name.lower()): # verify poem is by author\n",
    "                \n",
    "                title_find = poem.find('h2', class_='c-hdgSans c-hdgSans_2') # find title of poem\n",
    "                href = title_find.find('a')['href']\n",
    "                title = title_find.text # get title\n",
    "                poem = parse_poem_page(url, href) # get poem\n",
    "                title_normalized = unicodedata.normalize('NFKC', title).strip()\n",
    "                poems.append([title_normalized, poem])\n",
    "                # print(author, title)\n",
    "        else:\n",
    "            continue\n",
    "    \n",
    "    return poems\n",
    "\n",
    "def parse_poem_page(url, href):\n",
    "    poem_url = url.create_query(href) # create poem url query\n",
    "    response = requests.get(poem_url) # get response\n",
    "    soup = BeautifulSoup(response.content, 'html.parser') # get content of page\n",
    "    \n",
    "    poem = []\n",
    "    \n",
    "    lines = soup.find_all('div', attrs={'style': 'text-indent: -1em; padding-left: 1em;'}) # find where poem is contained\n",
    "    for line in lines:\n",
    "        poem.append(line.text.strip()) # add each line of poem\n",
    "    \n",
    "    \n",
    "    return poem\n",
    "\n",
    "\n",
    "        # print(author)\n",
    "    # print(author.span.text.strip()[3:])\n",
    "    \n",
    "    # print(poem)\n",
    "#     title = poem.find('a', class_='c-hdgSans c-hdgSans--three').text\n",
    "#     author = poem.find('div', class_='c-txt-grayLight').text\n",
    "#     link = poem.find('a', class_='c-card__img-link')['href']\n",
    "    \n",
    "#     # Do something with the extracted data, such as printing it to the console\n",
    "#     print(title, author, link)"
   ]
  },
  {
   "cell_type": "code",
   "execution_count": 4,
   "id": "165d5c75-f509-46e9-9828-1ba3cf7583d0",
   "metadata": {},
   "outputs": [],
   "source": [
    "website = 'https://www.poetryfoundation.org'\n",
    "url = Scraper(base_url=website)\n"
   ]
  },
  {
   "cell_type": "code",
   "execution_count": 8,
   "id": "2d6f0861-9ec3-47cd-a511-222bd61671ec",
   "metadata": {},
   "outputs": [],
   "source": [
    "poems = get_poems_of_author(url, 'william shakespeare')\n",
    "# parse_poem_page(url, '/poems/90067/sonnet-12-when-i-do-count-the-clock-that-tells-the-time-578cfa272532b')\n"
   ]
  },
  {
   "cell_type": "code",
   "execution_count": 9,
   "id": "7de140cf-58ca-4b95-885a-b495d03004d6",
   "metadata": {},
   "outputs": [],
   "source": [
    "shakespeare_poems = {i[0] : i[1] for i in poems}"
   ]
  },
  {
   "cell_type": "code",
   "execution_count": 10,
   "id": "774beebd-c126-4e19-8441-092f031cce41",
   "metadata": {},
   "outputs": [
    {
     "data": {
      "text/plain": [
       "{}"
      ]
     },
     "execution_count": 10,
     "metadata": {},
     "output_type": "execute_result"
    }
   ],
   "source": [
    "shakespeare_poems"
   ]
  },
  {
   "cell_type": "code",
   "execution_count": 42,
   "id": "736328d6-3432-43d1-a5c6-d82c1cab3f20",
   "metadata": {},
   "outputs": [],
   "source": [
    "pickle.dump(shakespeare_poems, open( \"shakespeare_poems.p\", \"wb\" ))"
   ]
  },
  {
   "cell_type": "code",
   "execution_count": 44,
   "id": "5061f169-0d22-4b2d-b87f-a5ffe9dc042e",
   "metadata": {},
   "outputs": [],
   "source": [
    "test = pickle.load(open( \"shakespeare_poems.p\", \"rb\" ))"
   ]
  },
  {
   "cell_type": "code",
   "execution_count": null,
   "id": "0a3a7551-2a02-49bd-84bb-0d16c5e26c02",
   "metadata": {},
   "outputs": [],
   "source": []
  }
 ],
 "metadata": {
  "kernelspec": {
   "display_name": "Python 3 (ipykernel)",
   "language": "python",
   "name": "python3"
  },
  "language_info": {
   "codemirror_mode": {
    "name": "ipython",
    "version": 3
   },
   "file_extension": ".py",
   "mimetype": "text/x-python",
   "name": "python",
   "nbconvert_exporter": "python",
   "pygments_lexer": "ipython3",
   "version": "3.9.13"
  }
 },
 "nbformat": 4,
 "nbformat_minor": 5
}
