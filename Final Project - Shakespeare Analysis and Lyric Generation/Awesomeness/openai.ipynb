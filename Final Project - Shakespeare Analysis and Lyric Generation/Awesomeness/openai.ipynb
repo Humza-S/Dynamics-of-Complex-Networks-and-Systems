{
 "cells": [
  {
   "cell_type": "code",
   "execution_count": 1,
   "id": "3a3b72bc-9cc0-4d36-bab6-591b8159cac3",
   "metadata": {},
   "outputs": [
    {
     "name": "stdout",
     "output_type": "stream",
     "text": [
      "Requirement already satisfied: openai in d:\\programs\\anaconda3\\lib\\site-packages (0.27.6)\n",
      "Requirement already satisfied: requests>=2.20 in d:\\programs\\anaconda3\\lib\\site-packages (from openai) (2.28.1)\n",
      "Requirement already satisfied: tqdm in d:\\programs\\anaconda3\\lib\\site-packages (from openai) (4.64.1)\n",
      "Requirement already satisfied: aiohttp in d:\\programs\\anaconda3\\lib\\site-packages (from openai) (3.8.4)\n",
      "Requirement already satisfied: charset-normalizer<3,>=2 in d:\\programs\\anaconda3\\lib\\site-packages (from requests>=2.20->openai) (2.0.4)\n",
      "Requirement already satisfied: urllib3<1.27,>=1.21.1 in d:\\programs\\anaconda3\\lib\\site-packages (from requests>=2.20->openai) (1.26.11)\n",
      "Requirement already satisfied: idna<4,>=2.5 in d:\\programs\\anaconda3\\lib\\site-packages (from requests>=2.20->openai) (3.3)\n",
      "Requirement already satisfied: certifi>=2017.4.17 in d:\\programs\\anaconda3\\lib\\site-packages (from requests>=2.20->openai) (2022.9.14)\n",
      "Requirement already satisfied: frozenlist>=1.1.1 in d:\\programs\\anaconda3\\lib\\site-packages (from aiohttp->openai) (1.3.3)\n",
      "Requirement already satisfied: aiosignal>=1.1.2 in d:\\programs\\anaconda3\\lib\\site-packages (from aiohttp->openai) (1.3.1)\n",
      "Requirement already satisfied: attrs>=17.3.0 in d:\\programs\\anaconda3\\lib\\site-packages (from aiohttp->openai) (21.4.0)\n",
      "Requirement already satisfied: async-timeout<5.0,>=4.0.0a3 in d:\\programs\\anaconda3\\lib\\site-packages (from aiohttp->openai) (4.0.2)\n",
      "Requirement already satisfied: multidict<7.0,>=4.5 in d:\\programs\\anaconda3\\lib\\site-packages (from aiohttp->openai) (6.0.4)\n",
      "Requirement already satisfied: yarl<2.0,>=1.0 in d:\\programs\\anaconda3\\lib\\site-packages (from aiohttp->openai) (1.9.1)\n",
      "Requirement already satisfied: colorama in d:\\programs\\anaconda3\\lib\\site-packages (from tqdm->openai) (0.4.5)\n"
     ]
    }
   ],
   "source": [
    "!pip install --upgrade openai"
   ]
  },
  {
   "cell_type": "code",
   "execution_count": 6,
   "id": "27e36447-a76d-48f3-9a95-fa495a9b43b7",
   "metadata": {},
   "outputs": [],
   "source": [
    "import numpy as np\n",
    "import nltk\n",
    "from nltk.tokenize import RegexpTokenizer\n",
    "from nltk.stem import WordNetLemmatizer\n",
    "from nltk.corpus import stopwords\n",
    "from sklearn.model_selection import train_test_split\n",
    "import pandas as pd"
   ]
  },
  {
   "cell_type": "code",
   "execution_count": 7,
   "id": "5dc4315c-04e5-4fbe-b19f-9e636472cb95",
   "metadata": {},
   "outputs": [
    {
     "name": "stderr",
     "output_type": "stream",
     "text": [
      "[nltk_data] Downloading package averaged_perceptron_tagger to\n",
      "[nltk_data]     C:\\Users\\Humza\\AppData\\Roaming\\nltk_data...\n",
      "[nltk_data]   Package averaged_perceptron_tagger is already up-to-\n",
      "[nltk_data]       date!\n"
     ]
    },
    {
     "data": {
      "text/plain": [
       "True"
      ]
     },
     "execution_count": 7,
     "metadata": {},
     "output_type": "execute_result"
    }
   ],
   "source": [
    "nltk.download('averaged_perceptron_tagger')"
   ]
  },
  {
   "cell_type": "code",
   "execution_count": 67,
   "id": "e07c076f-31f1-4bb8-aa54-2f7866d6665c",
   "metadata": {},
   "outputs": [],
   "source": [
    "pattern = r\"\\b\\w+(?:[‘’'-]\\w+|\\w+'\\w+)?\\b\"\n",
    "parse_tokenizer = RegexpTokenizer(pattern)"
   ]
  },
  {
   "cell_type": "code",
   "execution_count": 68,
   "id": "c9c4e498-06b7-41cd-8a87-48a7c6f450db",
   "metadata": {},
   "outputs": [],
   "source": [
    "with open('ALL_eminem.txt', 'r', encoding='utf8') as f:\n",
    "    \n",
    "    lines = f.readlines()\n",
    "\n",
    "    data = []\n",
    "\n",
    "    for line in lines:\n",
    "\n",
    "        if len(line) == 0:\n",
    "            continue\n",
    "\n",
    "        if '[' in line or ']' in line:\n",
    "            continue\n",
    "\n",
    "        words = parse_tokenizer.tokenize(line)\n",
    "        words_tags = nltk.pos_tag(words)\n",
    "        tags = [i[1] for i in words_tags]\n",
    "\n",
    "        if len(words) == 0 or len(tags) == 0:\n",
    "            continue\n",
    "\n",
    "\n",
    "\n",
    "        # data.append('Fill: ' + (' '.join(tags), ' '.join(words)))\n",
    "        data.append((tags, words))"
   ]
  },
  {
   "cell_type": "code",
   "execution_count": 64,
   "id": "dee320f0-2209-4fd4-9c4b-7747556cc999",
   "metadata": {},
   "outputs": [],
   "source": [
    "i = 1\n",
    "sonnets = []\n",
    "tmp = []\n",
    "tmp_tags = []\n",
    "tmp_words = []\n",
    "for tags, words in data[:30]:\n",
    "\n",
    "    if i % 4 != 0:\n",
    "        tmp_tags.append(' '.join(tags))\n",
    "        tmp_words.append(' '.join(words))\n",
    "        \n",
    "    if i % 4 == 0:\n",
    "        sonnets.append((tmp_tags, tmp_words))\n",
    "        tmp_tags = []\n",
    "        tmp_words = []\n",
    "        \n",
    "    # print(tags, words)"
   ]
  },
  {
   "cell_type": "code",
   "execution_count": 65,
   "id": "7a514e6e-c45a-4220-81be-8a38f4ff21c2",
   "metadata": {},
   "outputs": [
    {
     "name": "stdout",
     "output_type": "stream",
     "text": [
      "[(['NN PRP VBD VBN VBP JJ IN PRP RB TO VB PRP$ NNS', 'CC NNP RB VBG TO VB DT CD NN', 'CD NNS CD NNS'], ['Look I was gonna go easy on you not to hurt your feelings', \"But I'm only going to get this one chance\", 'Six minutes six minutes']), (['CD NNS CD NNS NNP NNP NN IN', 'RB DT NN NNP VBD', 'IN NN IN TO VB'], [\"Six minutes six minutes Slim Shady you're on\", \"Just a feeling I've got\", \"Like something's about to happen\"]), (['IN DT VBZ WP PRP VBP PRP VBZ NN IN NN', 'NNP NN CC IN PRP VBZ RB JJ IN PRP VBP', 'NNP RB VBG DT NNS'], [\"If that means what I think it means we're in trouble\", 'Big trouble And if he is as bananas as you say', \"I'm not taking any chances\"]), (['NNP VBG TO VB IN DT NNP NNP NNP NNP', 'DT PRP$ NNS IN DT NN TO DT NN NN RB NN', 'RB WP VBP PRP$ NNS VBP RB RB TO VB NN NN NN'], [\"I'm beginning to feel like a Rap God Rap God\", 'All my people from the front to the back nod back nod', 'Now who thinks their arms are long enough to slap box slap box']), (['CC IN PRP TO VB IN DT NN MD VB IN PRP$ NNS', 'PRP VBD DT NN IN PRP$ NN NN', 'PRP$ NNS VB RP WRB PRP VBP PRP'], ['But for me to rap like a computer must be in my genes', 'I got a laptop in my back pocket', \"My pen'll go off when I half-cock it\"]), (['VBN DT NN CC DT VBG RP PRP', 'RB IN NNP NNP VBD RB IN NN', 'IN NNP NNP VBG IN PRP$ NN'], ['Made a living and a killing off it', 'Ever since Bill Clinton was still in office', 'With Monica Lewinsky feeling on his nutsack']), (['CC IN NN CC RB NN IN DT NN', 'NNS JJ JJ NNP VBZ DT IN', 'DT NN NN NN'], ['But as rude and as indecent as all hell', 'Syllables skill-a holic Kill em all with', 'This flippity dippity-hippity hip-hop'])]\n"
     ]
    }
   ],
   "source": [
    "print(sonnets)"
   ]
  },
  {
   "cell_type": "code",
   "execution_count": 135,
   "id": "f9f41d40-ce8c-4062-bb71-a67a8b89b1d0",
   "metadata": {},
   "outputs": [],
   "source": [
    "group_size = 14\n",
    "num_groups = len(data) // group_size\n",
    "groups = [data[i*group_size:(i+1)*group_size] for i in range(num_groups)]\n",
    "# groups = [data[i:i+group_size] for i in range(0, len(data), group_size)]\n",
    "sonnet_form = []\n",
    "for group in groups:\n",
    "    pos_tags = ''\n",
    "    lyrics = ''\n",
    "    for i in group:\n",
    "        if i[0] == group[-1][0]:\n",
    "            # pos_tags.append(' '.join(i[0]) + ' ->')\n",
    "            pos_tags = pos_tags + ' '.join(i[0])\n",
    "            lyrics = lyrics + ' '.join(i[1])\n",
    "        else:             \n",
    "            pos_tags = pos_tags + ' '.join(i[0]) + '\\n'\n",
    "            lyrics = lyrics + ' '.join(i[1]) + '\\n'\n",
    "            \n",
    "    sonnet_form.append((pos_tags, lyrics))"
   ]
  },
  {
   "cell_type": "code",
   "execution_count": 137,
   "id": "5d48a59e-74ba-4604-8a06-9bebcb5fd9f9",
   "metadata": {
    "tags": []
   },
   "outputs": [
    {
     "data": {
      "text/plain": [
       "('NN PRP VBD VBN VBP JJ IN PRP RB TO VB PRP$ NNS\\nCC NNP RB VBG TO VB DT CD NN\\nCD NNS CD NNS\\nNNP JJ PRP MD VB PRP\\nCD NNS CD NNS NNP NNP NN IN\\nRB DT NN NNP VBD\\nIN NN IN TO VB\\nCC PRP VBP VB WP\\nIN DT VBZ WP PRP VBP PRP VBZ NN IN NN\\nNNP NN CC IN PRP VBZ RB JJ IN PRP VBP\\nNNP RB VBG DT NNS\\nPRP VBP RB WP DT NN VBD\\nNNP VBG TO VB IN DT NNP NNP NNP NNP\\nDT PRP$ NNS IN DT NN TO DT NN NN RB NN',\n",
       " \"Look I was gonna go easy on you not to hurt your feelings\\nBut I'm only going to get this one chance\\nSix minutes six minutes\\nSomething's wrong I can feel it\\nSix minutes six minutes Slim Shady you're on\\nJust a feeling I've got\\nLike something's about to happen\\nBut I don't know what\\nIf that means what I think it means we're in trouble\\nBig trouble And if he is as bananas as you say\\nI'm not taking any chances\\nYou are just what the doc ordered\\nI'm beginning to feel like a Rap God Rap God\\nAll my people from the front to the back nod back nod\")"
      ]
     },
     "execution_count": 137,
     "metadata": {},
     "output_type": "execute_result"
    }
   ],
   "source": [
    "sonnet_form[0]"
   ]
  },
  {
   "cell_type": "code",
   "execution_count": 138,
   "id": "07f4ce4d-da58-4b69-9839-d3f3bf26475c",
   "metadata": {},
   "outputs": [],
   "source": [
    "df = pd.DataFrame.from_records(sonnet_form, columns=['prompt', 'completion'])"
   ]
  },
  {
   "cell_type": "code",
   "execution_count": 139,
   "id": "511e8fbe-6b71-4ea4-85f2-03c7e1ab4e06",
   "metadata": {},
   "outputs": [
    {
     "data": {
      "text/html": [
       "<div>\n",
       "<style scoped>\n",
       "    .dataframe tbody tr th:only-of-type {\n",
       "        vertical-align: middle;\n",
       "    }\n",
       "\n",
       "    .dataframe tbody tr th {\n",
       "        vertical-align: top;\n",
       "    }\n",
       "\n",
       "    .dataframe thead th {\n",
       "        text-align: right;\n",
       "    }\n",
       "</style>\n",
       "<table border=\"1\" class=\"dataframe\">\n",
       "  <thead>\n",
       "    <tr style=\"text-align: right;\">\n",
       "      <th></th>\n",
       "      <th>prompt</th>\n",
       "      <th>completion</th>\n",
       "    </tr>\n",
       "  </thead>\n",
       "  <tbody>\n",
       "    <tr>\n",
       "      <th>0</th>\n",
       "      <td>NN PRP VBD VBN VBP JJ IN PRP RB TO VB PRP$ NNS...</td>\n",
       "      <td>Look I was gonna go easy on you not to hurt yo...</td>\n",
       "    </tr>\n",
       "    <tr>\n",
       "      <th>1</th>\n",
       "      <td>RB WP VBP PRP$ NNS VBP RB RB TO VB NN NN NN\\nP...</td>\n",
       "      <td>Now who thinks their arms are long enough to s...</td>\n",
       "    </tr>\n",
       "    <tr>\n",
       "      <th>2</th>\n",
       "      <td>IN DT NN NN\\nVBG DT NNP IN DT NN IN DT NNP\\nNN...</td>\n",
       "      <td>With this rappity brat\\nPacking a MAC in the b...</td>\n",
       "    </tr>\n",
       "    <tr>\n",
       "      <th>3</th>\n",
       "      <td>IN DT NN IN NNP RB VBG DT NN NN\\nNNP NNP VBG T...</td>\n",
       "      <td>For the wack while I'm masterfully constructin...</td>\n",
       "    </tr>\n",
       "    <tr>\n",
       "      <th>4</th>\n",
       "      <td>RB PRP VBP DT JJ NN JJ IN NNS\\nNNP NNP DT NN I...</td>\n",
       "      <td>Now I lead a new school full of students\\nMe I...</td>\n",
       "    </tr>\n",
       "  </tbody>\n",
       "</table>\n",
       "</div>"
      ],
      "text/plain": [
       "                                              prompt  \\\n",
       "0  NN PRP VBD VBN VBP JJ IN PRP RB TO VB PRP$ NNS...   \n",
       "1  RB WP VBP PRP$ NNS VBP RB RB TO VB NN NN NN\\nP...   \n",
       "2  IN DT NN NN\\nVBG DT NNP IN DT NN IN DT NNP\\nNN...   \n",
       "3  IN DT NN IN NNP RB VBG DT NN NN\\nNNP NNP VBG T...   \n",
       "4  RB PRP VBP DT JJ NN JJ IN NNS\\nNNP NNP DT NN I...   \n",
       "\n",
       "                                          completion  \n",
       "0  Look I was gonna go easy on you not to hurt yo...  \n",
       "1  Now who thinks their arms are long enough to s...  \n",
       "2  With this rappity brat\\nPacking a MAC in the b...  \n",
       "3  For the wack while I'm masterfully constructin...  \n",
       "4  Now I lead a new school full of students\\nMe I...  "
      ]
     },
     "execution_count": 139,
     "metadata": {},
     "output_type": "execute_result"
    }
   ],
   "source": [
    "df.head()"
   ]
  },
  {
   "cell_type": "code",
   "execution_count": 140,
   "id": "6625fa39-63cd-4e2c-a638-76ad21c9b2ce",
   "metadata": {},
   "outputs": [],
   "source": [
    "df.to_json(\"eminem_sonnet_parsed.jsonl\", orient='records', lines=True)"
   ]
  },
  {
   "cell_type": "code",
   "execution_count": 141,
   "id": "e55c8b84-1c4f-42a7-abbb-86710b040a61",
   "metadata": {},
   "outputs": [
    {
     "data": {
      "text/plain": [
       "157777"
      ]
     },
     "execution_count": 141,
     "metadata": {},
     "output_type": "execute_result"
    }
   ],
   "source": [
    "sum = 0\n",
    "for line in df['completion']:\n",
    "    sum += len(line.split(' '))\n",
    "sum"
   ]
  },
  {
   "cell_type": "code",
   "execution_count": 142,
   "id": "95e90bb9-1e99-43b5-ad69-59ca4576d77b",
   "metadata": {
    "tags": []
   },
   "outputs": [
    {
     "data": {
      "text/plain": [
       "157777"
      ]
     },
     "execution_count": 142,
     "metadata": {},
     "output_type": "execute_result"
    }
   ],
   "source": [
    "sum = 0\n",
    "for line in df['prompt']:\n",
    "    # print(line)\n",
    "    sum += len(line.split(' '))\n",
    "sum"
   ]
  },
  {
   "cell_type": "code",
   "execution_count": 131,
   "id": "a2216744-5433-49b7-a619-79cdb4b167da",
   "metadata": {},
   "outputs": [],
   "source": [
    "df = pd.read_json('eminem_sonnet_parsed.jsonl', lines=True)"
   ]
  },
  {
   "cell_type": "code",
   "execution_count": 132,
   "id": "bb17cc37-cde5-40ca-a534-d4e34173832e",
   "metadata": {
    "tags": []
   },
   "outputs": [
    {
     "name": "stdout",
     "output_type": "stream",
     "text": [
      "^C\n"
     ]
    }
   ],
   "source": [
    "!openai tools fine_tunes.prepare_data -f eminem_sonnet_parsed.jsonl"
   ]
  },
  {
   "cell_type": "code",
   "execution_count": 143,
   "id": "bc6f0c13-0414-4847-bf32-e49c72aab6d7",
   "metadata": {},
   "outputs": [],
   "source": [
    "import json\n",
    "from sklearn.model_selection import train_test_split\n",
    "\n",
    "with open('eminem_sonnet_parsed_prepared.jsonl', 'r', encoding='utf8') as f:\n",
    "    data = [json.loads(line) for line in f]\n",
    "\n",
    "train_data, val_data = train_test_split(data, test_size=0.1, random_state=42)\n",
    "\n",
    "with open('eminem_sonnet_parsed_train.jsonl', 'w') as f:\n",
    "    for example in train_data:\n",
    "        f.write(json.dumps(example) + '\\n')\n",
    "\n",
    "with open('eminem_sonnet_parsed_val.jsonl', 'w') as f:\n",
    "    for example in val_data:\n",
    "        f.write(json.dumps(example) + '\\n')"
   ]
  },
  {
   "cell_type": "code",
   "execution_count": 146,
   "id": "91056524-d32a-4dcb-9e0e-ed61d3fd7f0b",
   "metadata": {},
   "outputs": [],
   "source": [
    "import os\n",
    "import openai\n",
    "os.environ['OPENAI_API_KEY'] = 'INSERT OPENAI API KEY HERE'"
   ]
  },
  {
   "cell_type": "code",
   "execution_count": 150,
   "id": "2fd7b3a6-3cc7-459c-91ba-ecf524495835",
   "metadata": {
    "tags": []
   },
   "outputs": [
    {
     "data": {
      "text/plain": [
       "<File file id=file-LmGDRsSyz1OcNysYd84giRQ5 at 0x24de2e64cc0> JSON: {\n",
       "  \"bytes\": 1426217,\n",
       "  \"created_at\": 1682993457,\n",
       "  \"filename\": \"file\",\n",
       "  \"id\": \"file-LmGDRsSyz1OcNysYd84giRQ5\",\n",
       "  \"object\": \"file\",\n",
       "  \"purpose\": \"fine-tune\",\n",
       "  \"status\": \"uploaded\",\n",
       "  \"status_details\": null\n",
       "}"
      ]
     },
     "execution_count": 150,
     "metadata": {},
     "output_type": "execute_result"
    }
   ],
   "source": [
    "openai.File.create(\n",
    "  file=open(\"eminem_sonnet_parsed_train.jsonl\", \"rb\"),\n",
    "  purpose='fine-tune'\n",
    ")"
   ]
  },
  {
   "cell_type": "code",
   "execution_count": 149,
   "id": "0b098374-0421-41f3-9fa0-f775b0e394d8",
   "metadata": {},
   "outputs": [
    {
     "data": {
      "text/plain": [
       "<File file id=file-0vfhb8CzRJkNMZ80vO6LRCAt at 0x24de2cd1b80> JSON: {\n",
       "  \"bytes\": 160914,\n",
       "  \"created_at\": 1682993418,\n",
       "  \"filename\": \"file\",\n",
       "  \"id\": \"file-0vfhb8CzRJkNMZ80vO6LRCAt\",\n",
       "  \"object\": \"file\",\n",
       "  \"purpose\": \"fine-tune\",\n",
       "  \"status\": \"uploaded\",\n",
       "  \"status_details\": null\n",
       "}"
      ]
     },
     "execution_count": 149,
     "metadata": {},
     "output_type": "execute_result"
    }
   ],
   "source": [
    "openai.File.create(\n",
    "  file=open(\"eminem_sonnet_parsed_val.jsonl\", \"rb\"),\n",
    "  purpose='fine-tune'\n",
    ")"
   ]
  },
  {
   "cell_type": "code",
   "execution_count": 151,
   "id": "56e7baba-7876-4df2-905e-bd2675ba166d",
   "metadata": {},
   "outputs": [
    {
     "name": "stdout",
     "output_type": "stream",
     "text": [
      "compiled_results.csv processed\n",
      "compiled_results.csv processed\n",
      "compiled_results.csv processed\n",
      "file processed\n",
      "file uploaded\n",
      "hs_cs_train.jsonl processed\n",
      "hs_cs_prepared.jsonl processed\n",
      "compiled_results.csv processed\n",
      "eminem_lyrics_parsed_val.jsonl processed\n",
      "eminem_lyrics_parsed_train.jsonl processed\n",
      "compiled_results.csv processed\n"
     ]
    }
   ],
   "source": [
    "for x in openai.File.list()['data']:\n",
    "    print(x['filename'], x['status'])"
   ]
  },
  {
   "cell_type": "code",
   "execution_count": 152,
   "id": "9c5c1139-4721-400e-860b-4febbc72d8df",
   "metadata": {
    "collapsed": true,
    "jupyter": {
     "outputs_hidden": true
    },
    "tags": []
   },
   "outputs": [
    {
     "data": {
      "text/plain": [
       "<FineTune fine-tune id=ft-TVUIK91MTMejl3QTJKd7qKgA at 0x24deccc9590> JSON: {\n",
       "  \"created_at\": 1682993495,\n",
       "  \"events\": [\n",
       "    {\n",
       "      \"created_at\": 1682993495,\n",
       "      \"level\": \"info\",\n",
       "      \"message\": \"Created fine-tune: ft-TVUIK91MTMejl3QTJKd7qKgA\",\n",
       "      \"object\": \"fine-tune-event\"\n",
       "    }\n",
       "  ],\n",
       "  \"fine_tuned_model\": null,\n",
       "  \"hyperparams\": {\n",
       "    \"batch_size\": null,\n",
       "    \"learning_rate_multiplier\": null,\n",
       "    \"n_epochs\": 4,\n",
       "    \"prompt_loss_weight\": 0.01\n",
       "  },\n",
       "  \"id\": \"ft-TVUIK91MTMejl3QTJKd7qKgA\",\n",
       "  \"model\": \"curie\",\n",
       "  \"object\": \"fine-tune\",\n",
       "  \"organization_id\": \"org-X0kzGQIW73wa0UvE4Oz6MEyu\",\n",
       "  \"result_files\": [],\n",
       "  \"status\": \"pending\",\n",
       "  \"training_files\": [\n",
       "    {\n",
       "      \"bytes\": 1426217,\n",
       "      \"created_at\": 1682993457,\n",
       "      \"filename\": \"file\",\n",
       "      \"id\": \"file-LmGDRsSyz1OcNysYd84giRQ5\",\n",
       "      \"object\": \"file\",\n",
       "      \"purpose\": \"fine-tune\",\n",
       "      \"status\": \"processed\",\n",
       "      \"status_details\": null\n",
       "    }\n",
       "  ],\n",
       "  \"updated_at\": 1682993495,\n",
       "  \"validation_files\": [\n",
       "    {\n",
       "      \"bytes\": 160914,\n",
       "      \"created_at\": 1682993418,\n",
       "      \"filename\": \"file\",\n",
       "      \"id\": \"file-0vfhb8CzRJkNMZ80vO6LRCAt\",\n",
       "      \"object\": \"file\",\n",
       "      \"purpose\": \"fine-tune\",\n",
       "      \"status\": \"processed\",\n",
       "      \"status_details\": null\n",
       "    }\n",
       "  ]\n",
       "}"
      ]
     },
     "execution_count": 152,
     "metadata": {},
     "output_type": "execute_result"
    }
   ],
   "source": [
    "# !openai api fine_tunes.create -t \"eminem_lyrics_parsed_train.jsonl\" -v \"eminem_lyrics_parsed_val.jsonl\" -m curie --suffix \"eminem_v3\"\n",
    "openai.FineTune.create(training_file=\"file-LmGDRsSyz1OcNysYd84giRQ5\", validation_file=\"file-0vfhb8CzRJkNMZ80vO6LRCAt\", model=\"curie\", suffix=\"eminem_sonnet\")\n",
    "#ft-bBtFwyCShN6aeUkjZuOiFJy9"
   ]
  },
  {
   "cell_type": "code",
   "execution_count": 94,
   "id": "f0929570-6d37-4b86-a1a9-4d5ad2d68e06",
   "metadata": {
    "collapsed": true,
    "jupyter": {
     "outputs_hidden": true
    },
    "tags": []
   },
   "outputs": [
    {
     "data": {
      "text/plain": [
       "<FineTune fine-tune id=ft-i03tSuNxp7rvVeiOrxmoAzZd at 0x266863469a0> JSON: {\n",
       "  \"created_at\": 1682395983,\n",
       "  \"events\": [\n",
       "    {\n",
       "      \"created_at\": 1682395983,\n",
       "      \"level\": \"info\",\n",
       "      \"message\": \"Created fine-tune: ft-i03tSuNxp7rvVeiOrxmoAzZd\",\n",
       "      \"object\": \"fine-tune-event\"\n",
       "    }\n",
       "  ],\n",
       "  \"fine_tuned_model\": null,\n",
       "  \"hyperparams\": {\n",
       "    \"batch_size\": null,\n",
       "    \"learning_rate_multiplier\": null,\n",
       "    \"n_epochs\": 4,\n",
       "    \"prompt_loss_weight\": 0.01\n",
       "  },\n",
       "  \"id\": \"ft-i03tSuNxp7rvVeiOrxmoAzZd\",\n",
       "  \"model\": \"ada\",\n",
       "  \"object\": \"fine-tune\",\n",
       "  \"organization_id\": \"org-X0kzGQIW73wa0UvE4Oz6MEyu\",\n",
       "  \"result_files\": [],\n",
       "  \"status\": \"pending\",\n",
       "  \"training_files\": [\n",
       "    {\n",
       "      \"bytes\": 1777966,\n",
       "      \"created_at\": 1682395929,\n",
       "      \"filename\": \"eminem_lyrics_parsed_train.jsonl\",\n",
       "      \"id\": \"file-4CampKIBbbj8TBSeCKyW49X5\",\n",
       "      \"object\": \"file\",\n",
       "      \"purpose\": \"fine-tune\",\n",
       "      \"status\": \"processed\",\n",
       "      \"status_details\": null\n",
       "    }\n",
       "  ],\n",
       "  \"updated_at\": 1682395983,\n",
       "  \"validation_files\": [\n",
       "    {\n",
       "      \"bytes\": 197223,\n",
       "      \"created_at\": 1682395931,\n",
       "      \"filename\": \"eminem_lyrics_parsed_val.jsonl\",\n",
       "      \"id\": \"file-FkKKndJpQ2DK8Sobpte0xWFc\",\n",
       "      \"object\": \"file\",\n",
       "      \"purpose\": \"fine-tune\",\n",
       "      \"status\": \"processed\",\n",
       "      \"status_details\": null\n",
       "    }\n",
       "  ]\n",
       "}"
      ]
     },
     "execution_count": 94,
     "metadata": {},
     "output_type": "execute_result"
    }
   ],
   "source": [
    "# !openai api fine_tunes.follow -i \"ft-i03tSuNxp7rvVeiOrxmoAzZd\"\n",
    "openai.FineTune.retrieve(id=\"ft-i03tSuNxp7rvVeiOrxmoAzZd\")"
   ]
  },
  {
   "cell_type": "code",
   "execution_count": 154,
   "id": "30a04661-46c9-4dae-88cc-4204697783c3",
   "metadata": {
    "collapsed": true,
    "jupyter": {
     "outputs_hidden": true
    },
    "tags": []
   },
   "outputs": [
    {
     "ename": "KeyboardInterrupt",
     "evalue": "",
     "output_type": "error",
     "traceback": [
      "\u001b[1;31m---------------------------------------------------------------------------\u001b[0m",
      "\u001b[1;31mKeyboardInterrupt\u001b[0m                         Traceback (most recent call last)",
      "\u001b[1;32m~\\AppData\\Local\\Temp\\ipykernel_11752\\538966412.py\u001b[0m in \u001b[0;36m<module>\u001b[1;34m\u001b[0m\n\u001b[1;32m----> 1\u001b[1;33m \u001b[0mopenai\u001b[0m\u001b[1;33m.\u001b[0m\u001b[0mFineTune\u001b[0m\u001b[1;33m.\u001b[0m\u001b[0mlist_events\u001b[0m\u001b[1;33m(\u001b[0m\u001b[0mid\u001b[0m\u001b[1;33m=\u001b[0m\u001b[1;34m'ft-TVUIK91MTMejl3QTJKd7qKgA'\u001b[0m\u001b[1;33m,\u001b[0m \u001b[0mstream\u001b[0m\u001b[1;33m=\u001b[0m\u001b[1;32mTrue\u001b[0m\u001b[1;33m)\u001b[0m\u001b[1;33m\u001b[0m\u001b[1;33m\u001b[0m\u001b[0m\n\u001b[0m",
      "\u001b[1;32mD:\\Programs\\anaconda3\\lib\\site-packages\\openai\\api_resources\\abstract\\nested_resource_class_methods.py\u001b[0m in \u001b[0;36mlist_nested_resources\u001b[1;34m(cls, id, **params)\u001b[0m\n\u001b[0;32m    120\u001b[0m                 \u001b[1;32mdef\u001b[0m \u001b[0mlist_nested_resources\u001b[0m\u001b[1;33m(\u001b[0m\u001b[0mcls\u001b[0m\u001b[1;33m,\u001b[0m \u001b[0mid\u001b[0m\u001b[1;33m,\u001b[0m \u001b[1;33m**\u001b[0m\u001b[0mparams\u001b[0m\u001b[1;33m)\u001b[0m\u001b[1;33m:\u001b[0m\u001b[1;33m\u001b[0m\u001b[1;33m\u001b[0m\u001b[0m\n\u001b[0;32m    121\u001b[0m                     \u001b[0murl\u001b[0m \u001b[1;33m=\u001b[0m \u001b[0mgetattr\u001b[0m\u001b[1;33m(\u001b[0m\u001b[0mcls\u001b[0m\u001b[1;33m,\u001b[0m \u001b[0mresource_url_method\u001b[0m\u001b[1;33m)\u001b[0m\u001b[1;33m(\u001b[0m\u001b[0mid\u001b[0m\u001b[1;33m)\u001b[0m\u001b[1;33m\u001b[0m\u001b[1;33m\u001b[0m\u001b[0m\n\u001b[1;32m--> 122\u001b[1;33m                     \u001b[1;32mreturn\u001b[0m \u001b[0mgetattr\u001b[0m\u001b[1;33m(\u001b[0m\u001b[0mcls\u001b[0m\u001b[1;33m,\u001b[0m \u001b[0mresource_request_method\u001b[0m\u001b[1;33m)\u001b[0m\u001b[1;33m(\u001b[0m\u001b[1;34m\"get\"\u001b[0m\u001b[1;33m,\u001b[0m \u001b[0murl\u001b[0m\u001b[1;33m,\u001b[0m \u001b[1;33m**\u001b[0m\u001b[0mparams\u001b[0m\u001b[1;33m)\u001b[0m\u001b[1;33m\u001b[0m\u001b[1;33m\u001b[0m\u001b[0m\n\u001b[0m\u001b[0;32m    123\u001b[0m \u001b[1;33m\u001b[0m\u001b[0m\n\u001b[0;32m    124\u001b[0m                 \u001b[0mlist_method\u001b[0m \u001b[1;33m=\u001b[0m \u001b[1;34m\"list_%s\"\u001b[0m \u001b[1;33m%\u001b[0m \u001b[0mresource_plural\u001b[0m\u001b[1;33m\u001b[0m\u001b[1;33m\u001b[0m\u001b[0m\n",
      "\u001b[1;32mD:\\Programs\\anaconda3\\lib\\site-packages\\openai\\api_resources\\abstract\\nested_resource_class_methods.py\u001b[0m in \u001b[0;36mnested_resource_request\u001b[1;34m(cls, method, url, api_key, request_id, api_version, organization, **params)\u001b[0m\n\u001b[0;32m     41\u001b[0m                 \u001b[0mapi_key\u001b[0m\u001b[1;33m,\u001b[0m \u001b[0mapi_version\u001b[0m\u001b[1;33m=\u001b[0m\u001b[0mapi_version\u001b[0m\u001b[1;33m,\u001b[0m \u001b[0morganization\u001b[0m\u001b[1;33m=\u001b[0m\u001b[0morganization\u001b[0m\u001b[1;33m\u001b[0m\u001b[1;33m\u001b[0m\u001b[0m\n\u001b[0;32m     42\u001b[0m             )\n\u001b[1;32m---> 43\u001b[1;33m             response, _, api_key = requestor.request(\n\u001b[0m\u001b[0;32m     44\u001b[0m                 \u001b[0mmethod\u001b[0m\u001b[1;33m,\u001b[0m \u001b[0murl\u001b[0m\u001b[1;33m,\u001b[0m \u001b[0mparams\u001b[0m\u001b[1;33m,\u001b[0m \u001b[0mrequest_id\u001b[0m\u001b[1;33m=\u001b[0m\u001b[0mrequest_id\u001b[0m\u001b[1;33m\u001b[0m\u001b[1;33m\u001b[0m\u001b[0m\n\u001b[0;32m     45\u001b[0m             )\n",
      "\u001b[1;32mD:\\Programs\\anaconda3\\lib\\site-packages\\openai\\api_requestor.py\u001b[0m in \u001b[0;36mrequest\u001b[1;34m(self, method, url, params, headers, files, stream, request_id, request_timeout)\u001b[0m\n\u001b[0;32m    218\u001b[0m         \u001b[0mrequest_timeout\u001b[0m\u001b[1;33m:\u001b[0m \u001b[0mOptional\u001b[0m\u001b[1;33m[\u001b[0m\u001b[0mUnion\u001b[0m\u001b[1;33m[\u001b[0m\u001b[0mfloat\u001b[0m\u001b[1;33m,\u001b[0m \u001b[0mTuple\u001b[0m\u001b[1;33m[\u001b[0m\u001b[0mfloat\u001b[0m\u001b[1;33m,\u001b[0m \u001b[0mfloat\u001b[0m\u001b[1;33m]\u001b[0m\u001b[1;33m]\u001b[0m\u001b[1;33m]\u001b[0m \u001b[1;33m=\u001b[0m \u001b[1;32mNone\u001b[0m\u001b[1;33m,\u001b[0m\u001b[1;33m\u001b[0m\u001b[1;33m\u001b[0m\u001b[0m\n\u001b[0;32m    219\u001b[0m     ) -> Tuple[Union[OpenAIResponse, Iterator[OpenAIResponse]], bool, str]:\n\u001b[1;32m--> 220\u001b[1;33m         result = self.request_raw(\n\u001b[0m\u001b[0;32m    221\u001b[0m             \u001b[0mmethod\u001b[0m\u001b[1;33m.\u001b[0m\u001b[0mlower\u001b[0m\u001b[1;33m(\u001b[0m\u001b[1;33m)\u001b[0m\u001b[1;33m,\u001b[0m\u001b[1;33m\u001b[0m\u001b[1;33m\u001b[0m\u001b[0m\n\u001b[0;32m    222\u001b[0m             \u001b[0murl\u001b[0m\u001b[1;33m,\u001b[0m\u001b[1;33m\u001b[0m\u001b[1;33m\u001b[0m\u001b[0m\n",
      "\u001b[1;32mD:\\Programs\\anaconda3\\lib\\site-packages\\openai\\api_requestor.py\u001b[0m in \u001b[0;36mrequest_raw\u001b[1;34m(self, method, url, params, supplied_headers, files, stream, request_id, request_timeout)\u001b[0m\n\u001b[0;32m    518\u001b[0m             \u001b[0m_thread_context\u001b[0m\u001b[1;33m.\u001b[0m\u001b[0msession\u001b[0m \u001b[1;33m=\u001b[0m \u001b[0m_make_session\u001b[0m\u001b[1;33m(\u001b[0m\u001b[1;33m)\u001b[0m\u001b[1;33m\u001b[0m\u001b[1;33m\u001b[0m\u001b[0m\n\u001b[0;32m    519\u001b[0m         \u001b[1;32mtry\u001b[0m\u001b[1;33m:\u001b[0m\u001b[1;33m\u001b[0m\u001b[1;33m\u001b[0m\u001b[0m\n\u001b[1;32m--> 520\u001b[1;33m             result = _thread_context.session.request(\n\u001b[0m\u001b[0;32m    521\u001b[0m                 \u001b[0mmethod\u001b[0m\u001b[1;33m,\u001b[0m\u001b[1;33m\u001b[0m\u001b[1;33m\u001b[0m\u001b[0m\n\u001b[0;32m    522\u001b[0m                 \u001b[0mabs_url\u001b[0m\u001b[1;33m,\u001b[0m\u001b[1;33m\u001b[0m\u001b[1;33m\u001b[0m\u001b[0m\n",
      "\u001b[1;32mD:\\Programs\\anaconda3\\lib\\site-packages\\requests\\sessions.py\u001b[0m in \u001b[0;36mrequest\u001b[1;34m(self, method, url, params, data, headers, cookies, files, auth, timeout, allow_redirects, proxies, hooks, stream, verify, cert, json)\u001b[0m\n\u001b[0;32m    585\u001b[0m         }\n\u001b[0;32m    586\u001b[0m         \u001b[0msend_kwargs\u001b[0m\u001b[1;33m.\u001b[0m\u001b[0mupdate\u001b[0m\u001b[1;33m(\u001b[0m\u001b[0msettings\u001b[0m\u001b[1;33m)\u001b[0m\u001b[1;33m\u001b[0m\u001b[1;33m\u001b[0m\u001b[0m\n\u001b[1;32m--> 587\u001b[1;33m         \u001b[0mresp\u001b[0m \u001b[1;33m=\u001b[0m \u001b[0mself\u001b[0m\u001b[1;33m.\u001b[0m\u001b[0msend\u001b[0m\u001b[1;33m(\u001b[0m\u001b[0mprep\u001b[0m\u001b[1;33m,\u001b[0m \u001b[1;33m**\u001b[0m\u001b[0msend_kwargs\u001b[0m\u001b[1;33m)\u001b[0m\u001b[1;33m\u001b[0m\u001b[1;33m\u001b[0m\u001b[0m\n\u001b[0m\u001b[0;32m    588\u001b[0m \u001b[1;33m\u001b[0m\u001b[0m\n\u001b[0;32m    589\u001b[0m         \u001b[1;32mreturn\u001b[0m \u001b[0mresp\u001b[0m\u001b[1;33m\u001b[0m\u001b[1;33m\u001b[0m\u001b[0m\n",
      "\u001b[1;32mD:\\Programs\\anaconda3\\lib\\site-packages\\requests\\sessions.py\u001b[0m in \u001b[0;36msend\u001b[1;34m(self, request, **kwargs)\u001b[0m\n\u001b[0;32m    743\u001b[0m \u001b[1;33m\u001b[0m\u001b[0m\n\u001b[0;32m    744\u001b[0m         \u001b[1;32mif\u001b[0m \u001b[1;32mnot\u001b[0m \u001b[0mstream\u001b[0m\u001b[1;33m:\u001b[0m\u001b[1;33m\u001b[0m\u001b[1;33m\u001b[0m\u001b[0m\n\u001b[1;32m--> 745\u001b[1;33m             \u001b[0mr\u001b[0m\u001b[1;33m.\u001b[0m\u001b[0mcontent\u001b[0m\u001b[1;33m\u001b[0m\u001b[1;33m\u001b[0m\u001b[0m\n\u001b[0m\u001b[0;32m    746\u001b[0m \u001b[1;33m\u001b[0m\u001b[0m\n\u001b[0;32m    747\u001b[0m         \u001b[1;32mreturn\u001b[0m \u001b[0mr\u001b[0m\u001b[1;33m\u001b[0m\u001b[1;33m\u001b[0m\u001b[0m\n",
      "\u001b[1;32mD:\\Programs\\anaconda3\\lib\\site-packages\\requests\\models.py\u001b[0m in \u001b[0;36mcontent\u001b[1;34m(self)\u001b[0m\n\u001b[0;32m    897\u001b[0m                 \u001b[0mself\u001b[0m\u001b[1;33m.\u001b[0m\u001b[0m_content\u001b[0m \u001b[1;33m=\u001b[0m \u001b[1;32mNone\u001b[0m\u001b[1;33m\u001b[0m\u001b[1;33m\u001b[0m\u001b[0m\n\u001b[0;32m    898\u001b[0m             \u001b[1;32melse\u001b[0m\u001b[1;33m:\u001b[0m\u001b[1;33m\u001b[0m\u001b[1;33m\u001b[0m\u001b[0m\n\u001b[1;32m--> 899\u001b[1;33m                 \u001b[0mself\u001b[0m\u001b[1;33m.\u001b[0m\u001b[0m_content\u001b[0m \u001b[1;33m=\u001b[0m \u001b[1;34mb\"\"\u001b[0m\u001b[1;33m.\u001b[0m\u001b[0mjoin\u001b[0m\u001b[1;33m(\u001b[0m\u001b[0mself\u001b[0m\u001b[1;33m.\u001b[0m\u001b[0miter_content\u001b[0m\u001b[1;33m(\u001b[0m\u001b[0mCONTENT_CHUNK_SIZE\u001b[0m\u001b[1;33m)\u001b[0m\u001b[1;33m)\u001b[0m \u001b[1;32mor\u001b[0m \u001b[1;34mb\"\"\u001b[0m\u001b[1;33m\u001b[0m\u001b[1;33m\u001b[0m\u001b[0m\n\u001b[0m\u001b[0;32m    900\u001b[0m \u001b[1;33m\u001b[0m\u001b[0m\n\u001b[0;32m    901\u001b[0m         \u001b[0mself\u001b[0m\u001b[1;33m.\u001b[0m\u001b[0m_content_consumed\u001b[0m \u001b[1;33m=\u001b[0m \u001b[1;32mTrue\u001b[0m\u001b[1;33m\u001b[0m\u001b[1;33m\u001b[0m\u001b[0m\n",
      "\u001b[1;32mD:\\Programs\\anaconda3\\lib\\site-packages\\requests\\models.py\u001b[0m in \u001b[0;36mgenerate\u001b[1;34m()\u001b[0m\n\u001b[0;32m    814\u001b[0m             \u001b[1;32mif\u001b[0m \u001b[0mhasattr\u001b[0m\u001b[1;33m(\u001b[0m\u001b[0mself\u001b[0m\u001b[1;33m.\u001b[0m\u001b[0mraw\u001b[0m\u001b[1;33m,\u001b[0m \u001b[1;34m\"stream\"\u001b[0m\u001b[1;33m)\u001b[0m\u001b[1;33m:\u001b[0m\u001b[1;33m\u001b[0m\u001b[1;33m\u001b[0m\u001b[0m\n\u001b[0;32m    815\u001b[0m                 \u001b[1;32mtry\u001b[0m\u001b[1;33m:\u001b[0m\u001b[1;33m\u001b[0m\u001b[1;33m\u001b[0m\u001b[0m\n\u001b[1;32m--> 816\u001b[1;33m                     \u001b[1;32myield\u001b[0m \u001b[1;32mfrom\u001b[0m \u001b[0mself\u001b[0m\u001b[1;33m.\u001b[0m\u001b[0mraw\u001b[0m\u001b[1;33m.\u001b[0m\u001b[0mstream\u001b[0m\u001b[1;33m(\u001b[0m\u001b[0mchunk_size\u001b[0m\u001b[1;33m,\u001b[0m \u001b[0mdecode_content\u001b[0m\u001b[1;33m=\u001b[0m\u001b[1;32mTrue\u001b[0m\u001b[1;33m)\u001b[0m\u001b[1;33m\u001b[0m\u001b[1;33m\u001b[0m\u001b[0m\n\u001b[0m\u001b[0;32m    817\u001b[0m                 \u001b[1;32mexcept\u001b[0m \u001b[0mProtocolError\u001b[0m \u001b[1;32mas\u001b[0m \u001b[0me\u001b[0m\u001b[1;33m:\u001b[0m\u001b[1;33m\u001b[0m\u001b[1;33m\u001b[0m\u001b[0m\n\u001b[0;32m    818\u001b[0m                     \u001b[1;32mraise\u001b[0m \u001b[0mChunkedEncodingError\u001b[0m\u001b[1;33m(\u001b[0m\u001b[0me\u001b[0m\u001b[1;33m)\u001b[0m\u001b[1;33m\u001b[0m\u001b[1;33m\u001b[0m\u001b[0m\n",
      "\u001b[1;32mD:\\Programs\\anaconda3\\lib\\site-packages\\urllib3\\response.py\u001b[0m in \u001b[0;36mstream\u001b[1;34m(self, amt, decode_content)\u001b[0m\n\u001b[0;32m    621\u001b[0m         \"\"\"\n\u001b[0;32m    622\u001b[0m         \u001b[1;32mif\u001b[0m \u001b[0mself\u001b[0m\u001b[1;33m.\u001b[0m\u001b[0mchunked\u001b[0m \u001b[1;32mand\u001b[0m \u001b[0mself\u001b[0m\u001b[1;33m.\u001b[0m\u001b[0msupports_chunked_reads\u001b[0m\u001b[1;33m(\u001b[0m\u001b[1;33m)\u001b[0m\u001b[1;33m:\u001b[0m\u001b[1;33m\u001b[0m\u001b[1;33m\u001b[0m\u001b[0m\n\u001b[1;32m--> 623\u001b[1;33m             \u001b[1;32mfor\u001b[0m \u001b[0mline\u001b[0m \u001b[1;32min\u001b[0m \u001b[0mself\u001b[0m\u001b[1;33m.\u001b[0m\u001b[0mread_chunked\u001b[0m\u001b[1;33m(\u001b[0m\u001b[0mamt\u001b[0m\u001b[1;33m,\u001b[0m \u001b[0mdecode_content\u001b[0m\u001b[1;33m=\u001b[0m\u001b[0mdecode_content\u001b[0m\u001b[1;33m)\u001b[0m\u001b[1;33m:\u001b[0m\u001b[1;33m\u001b[0m\u001b[1;33m\u001b[0m\u001b[0m\n\u001b[0m\u001b[0;32m    624\u001b[0m                 \u001b[1;32myield\u001b[0m \u001b[0mline\u001b[0m\u001b[1;33m\u001b[0m\u001b[1;33m\u001b[0m\u001b[0m\n\u001b[0;32m    625\u001b[0m         \u001b[1;32melse\u001b[0m\u001b[1;33m:\u001b[0m\u001b[1;33m\u001b[0m\u001b[1;33m\u001b[0m\u001b[0m\n",
      "\u001b[1;32mD:\\Programs\\anaconda3\\lib\\site-packages\\urllib3\\response.py\u001b[0m in \u001b[0;36mread_chunked\u001b[1;34m(self, amt, decode_content)\u001b[0m\n\u001b[0;32m    813\u001b[0m \u001b[1;33m\u001b[0m\u001b[0m\n\u001b[0;32m    814\u001b[0m             \u001b[1;32mwhile\u001b[0m \u001b[1;32mTrue\u001b[0m\u001b[1;33m:\u001b[0m\u001b[1;33m\u001b[0m\u001b[1;33m\u001b[0m\u001b[0m\n\u001b[1;32m--> 815\u001b[1;33m                 \u001b[0mself\u001b[0m\u001b[1;33m.\u001b[0m\u001b[0m_update_chunk_length\u001b[0m\u001b[1;33m(\u001b[0m\u001b[1;33m)\u001b[0m\u001b[1;33m\u001b[0m\u001b[1;33m\u001b[0m\u001b[0m\n\u001b[0m\u001b[0;32m    816\u001b[0m                 \u001b[1;32mif\u001b[0m \u001b[0mself\u001b[0m\u001b[1;33m.\u001b[0m\u001b[0mchunk_left\u001b[0m \u001b[1;33m==\u001b[0m \u001b[1;36m0\u001b[0m\u001b[1;33m:\u001b[0m\u001b[1;33m\u001b[0m\u001b[1;33m\u001b[0m\u001b[0m\n\u001b[0;32m    817\u001b[0m                     \u001b[1;32mbreak\u001b[0m\u001b[1;33m\u001b[0m\u001b[1;33m\u001b[0m\u001b[0m\n",
      "\u001b[1;32mD:\\Programs\\anaconda3\\lib\\site-packages\\urllib3\\response.py\u001b[0m in \u001b[0;36m_update_chunk_length\u001b[1;34m(self)\u001b[0m\n\u001b[0;32m    743\u001b[0m         \u001b[1;32mif\u001b[0m \u001b[0mself\u001b[0m\u001b[1;33m.\u001b[0m\u001b[0mchunk_left\u001b[0m \u001b[1;32mis\u001b[0m \u001b[1;32mnot\u001b[0m \u001b[1;32mNone\u001b[0m\u001b[1;33m:\u001b[0m\u001b[1;33m\u001b[0m\u001b[1;33m\u001b[0m\u001b[0m\n\u001b[0;32m    744\u001b[0m             \u001b[1;32mreturn\u001b[0m\u001b[1;33m\u001b[0m\u001b[1;33m\u001b[0m\u001b[0m\n\u001b[1;32m--> 745\u001b[1;33m         \u001b[0mline\u001b[0m \u001b[1;33m=\u001b[0m \u001b[0mself\u001b[0m\u001b[1;33m.\u001b[0m\u001b[0m_fp\u001b[0m\u001b[1;33m.\u001b[0m\u001b[0mfp\u001b[0m\u001b[1;33m.\u001b[0m\u001b[0mreadline\u001b[0m\u001b[1;33m(\u001b[0m\u001b[1;33m)\u001b[0m\u001b[1;33m\u001b[0m\u001b[1;33m\u001b[0m\u001b[0m\n\u001b[0m\u001b[0;32m    746\u001b[0m         \u001b[0mline\u001b[0m \u001b[1;33m=\u001b[0m \u001b[0mline\u001b[0m\u001b[1;33m.\u001b[0m\u001b[0msplit\u001b[0m\u001b[1;33m(\u001b[0m\u001b[1;34mb\";\"\u001b[0m\u001b[1;33m,\u001b[0m \u001b[1;36m1\u001b[0m\u001b[1;33m)\u001b[0m\u001b[1;33m[\u001b[0m\u001b[1;36m0\u001b[0m\u001b[1;33m]\u001b[0m\u001b[1;33m\u001b[0m\u001b[1;33m\u001b[0m\u001b[0m\n\u001b[0;32m    747\u001b[0m         \u001b[1;32mtry\u001b[0m\u001b[1;33m:\u001b[0m\u001b[1;33m\u001b[0m\u001b[1;33m\u001b[0m\u001b[0m\n",
      "\u001b[1;32mD:\\Programs\\anaconda3\\lib\\socket.py\u001b[0m in \u001b[0;36mreadinto\u001b[1;34m(self, b)\u001b[0m\n\u001b[0;32m    702\u001b[0m         \u001b[1;32mwhile\u001b[0m \u001b[1;32mTrue\u001b[0m\u001b[1;33m:\u001b[0m\u001b[1;33m\u001b[0m\u001b[1;33m\u001b[0m\u001b[0m\n\u001b[0;32m    703\u001b[0m             \u001b[1;32mtry\u001b[0m\u001b[1;33m:\u001b[0m\u001b[1;33m\u001b[0m\u001b[1;33m\u001b[0m\u001b[0m\n\u001b[1;32m--> 704\u001b[1;33m                 \u001b[1;32mreturn\u001b[0m \u001b[0mself\u001b[0m\u001b[1;33m.\u001b[0m\u001b[0m_sock\u001b[0m\u001b[1;33m.\u001b[0m\u001b[0mrecv_into\u001b[0m\u001b[1;33m(\u001b[0m\u001b[0mb\u001b[0m\u001b[1;33m)\u001b[0m\u001b[1;33m\u001b[0m\u001b[1;33m\u001b[0m\u001b[0m\n\u001b[0m\u001b[0;32m    705\u001b[0m             \u001b[1;32mexcept\u001b[0m \u001b[0mtimeout\u001b[0m\u001b[1;33m:\u001b[0m\u001b[1;33m\u001b[0m\u001b[1;33m\u001b[0m\u001b[0m\n\u001b[0;32m    706\u001b[0m                 \u001b[0mself\u001b[0m\u001b[1;33m.\u001b[0m\u001b[0m_timeout_occurred\u001b[0m \u001b[1;33m=\u001b[0m \u001b[1;32mTrue\u001b[0m\u001b[1;33m\u001b[0m\u001b[1;33m\u001b[0m\u001b[0m\n",
      "\u001b[1;32mD:\\Programs\\anaconda3\\lib\\ssl.py\u001b[0m in \u001b[0;36mrecv_into\u001b[1;34m(self, buffer, nbytes, flags)\u001b[0m\n\u001b[0;32m   1240\u001b[0m                   \u001b[1;34m\"non-zero flags not allowed in calls to recv_into() on %s\"\u001b[0m \u001b[1;33m%\u001b[0m\u001b[1;33m\u001b[0m\u001b[1;33m\u001b[0m\u001b[0m\n\u001b[0;32m   1241\u001b[0m                   self.__class__)\n\u001b[1;32m-> 1242\u001b[1;33m             \u001b[1;32mreturn\u001b[0m \u001b[0mself\u001b[0m\u001b[1;33m.\u001b[0m\u001b[0mread\u001b[0m\u001b[1;33m(\u001b[0m\u001b[0mnbytes\u001b[0m\u001b[1;33m,\u001b[0m \u001b[0mbuffer\u001b[0m\u001b[1;33m)\u001b[0m\u001b[1;33m\u001b[0m\u001b[1;33m\u001b[0m\u001b[0m\n\u001b[0m\u001b[0;32m   1243\u001b[0m         \u001b[1;32melse\u001b[0m\u001b[1;33m:\u001b[0m\u001b[1;33m\u001b[0m\u001b[1;33m\u001b[0m\u001b[0m\n\u001b[0;32m   1244\u001b[0m             \u001b[1;32mreturn\u001b[0m \u001b[0msuper\u001b[0m\u001b[1;33m(\u001b[0m\u001b[1;33m)\u001b[0m\u001b[1;33m.\u001b[0m\u001b[0mrecv_into\u001b[0m\u001b[1;33m(\u001b[0m\u001b[0mbuffer\u001b[0m\u001b[1;33m,\u001b[0m \u001b[0mnbytes\u001b[0m\u001b[1;33m,\u001b[0m \u001b[0mflags\u001b[0m\u001b[1;33m)\u001b[0m\u001b[1;33m\u001b[0m\u001b[1;33m\u001b[0m\u001b[0m\n",
      "\u001b[1;32mD:\\Programs\\anaconda3\\lib\\ssl.py\u001b[0m in \u001b[0;36mread\u001b[1;34m(self, len, buffer)\u001b[0m\n\u001b[0;32m   1098\u001b[0m         \u001b[1;32mtry\u001b[0m\u001b[1;33m:\u001b[0m\u001b[1;33m\u001b[0m\u001b[1;33m\u001b[0m\u001b[0m\n\u001b[0;32m   1099\u001b[0m             \u001b[1;32mif\u001b[0m \u001b[0mbuffer\u001b[0m \u001b[1;32mis\u001b[0m \u001b[1;32mnot\u001b[0m \u001b[1;32mNone\u001b[0m\u001b[1;33m:\u001b[0m\u001b[1;33m\u001b[0m\u001b[1;33m\u001b[0m\u001b[0m\n\u001b[1;32m-> 1100\u001b[1;33m                 \u001b[1;32mreturn\u001b[0m \u001b[0mself\u001b[0m\u001b[1;33m.\u001b[0m\u001b[0m_sslobj\u001b[0m\u001b[1;33m.\u001b[0m\u001b[0mread\u001b[0m\u001b[1;33m(\u001b[0m\u001b[0mlen\u001b[0m\u001b[1;33m,\u001b[0m \u001b[0mbuffer\u001b[0m\u001b[1;33m)\u001b[0m\u001b[1;33m\u001b[0m\u001b[1;33m\u001b[0m\u001b[0m\n\u001b[0m\u001b[0;32m   1101\u001b[0m             \u001b[1;32melse\u001b[0m\u001b[1;33m:\u001b[0m\u001b[1;33m\u001b[0m\u001b[1;33m\u001b[0m\u001b[0m\n\u001b[0;32m   1102\u001b[0m                 \u001b[1;32mreturn\u001b[0m \u001b[0mself\u001b[0m\u001b[1;33m.\u001b[0m\u001b[0m_sslobj\u001b[0m\u001b[1;33m.\u001b[0m\u001b[0mread\u001b[0m\u001b[1;33m(\u001b[0m\u001b[0mlen\u001b[0m\u001b[1;33m)\u001b[0m\u001b[1;33m\u001b[0m\u001b[1;33m\u001b[0m\u001b[0m\n",
      "\u001b[1;31mKeyboardInterrupt\u001b[0m: "
     ]
    }
   ],
   "source": [
    "openai.FineTune.list_events(id='ft-TVUIK91MTMejl3QTJKd7qKgA', stream=True)"
   ]
  },
  {
   "cell_type": "code",
   "execution_count": null,
   "id": "e803f46c-768b-4ad3-8f3f-f15249ea4db3",
   "metadata": {},
   "outputs": [],
   "source": [
    "openai.FineTune.retrieve(id='ft-TVUIK91MTMejl3QTJKd7qKgA')"
   ]
  },
  {
   "cell_type": "code",
   "execution_count": 56,
   "id": "3cfdad30-bbb9-456d-878c-63bbd22f4a9a",
   "metadata": {},
   "outputs": [],
   "source": [
    "import openai"
   ]
  },
  {
   "cell_type": "code",
   "execution_count": 70,
   "id": "ffd7ae0f-ea93-4e55-be90-a4629c89b43a",
   "metadata": {},
   "outputs": [
    {
     "name": "stdout",
     "output_type": "stream",
     "text": [
      "^C\n",
      "[2023-04-24 22:58:51] Created fine-tune: ft-DyMnU1ARWFSAS2dj90u9S0rs\n",
      "[2023-04-24 22:58:56] Fine-tune costs $0.72\n",
      "[2023-04-24 22:58:56] Fine-tune enqueued. Queue number: 0\n",
      "[2023-04-24 22:59:00] Fine-tune started\n",
      "\n",
      "Stream interrupted (client disconnected).\n",
      "To resume the stream, run:\n",
      "\n",
      "  openai api fine_tunes.follow -i ft-DyMnU1ARWFSAS2dj90u9S0rs\n",
      "\n"
     ]
    }
   ],
   "source": [
    "!openai api fine_tunes.follow -i \"ft-DyMnU1ARWFSAS2dj90u9S0rs\""
   ]
  },
  {
   "cell_type": "code",
   "execution_count": null,
   "id": "aa634cf8-1f7b-429b-b4a5-b208cd13b1c3",
   "metadata": {},
   "outputs": [],
   "source": [
    "#ft-T9cjhrbFJDq2WTQBKBlwtnsQ\""
   ]
  },
  {
   "cell_type": "code",
   "execution_count": 95,
   "id": "f204585e-8cee-4525-826f-09ef3c682b7d",
   "metadata": {
    "tags": []
   },
   "outputs": [
    {
     "name": "stdout",
     "output_type": "stream",
     "text": [
      "{\n",
      "  \"created_at\": 1682395983,\n",
      "  \"events\": [\n",
      "    {\n",
      "      \"created_at\": 1682395983,\n",
      "      \"level\": \"info\",\n",
      "      \"message\": \"Created fine-tune: ft-i03tSuNxp7rvVeiOrxmoAzZd\",\n",
      "      \"object\": \"fine-tune-event\"\n",
      "    }\n",
      "  ],\n",
      "  \"fine_tuned_model\": null,\n",
      "  \"hyperparams\": {\n",
      "    \"batch_size\": null,\n",
      "    \"learning_rate_multiplier\": null,\n",
      "    \"n_epochs\": 4,\n",
      "    \"prompt_loss_weight\": 0.01\n",
      "  },\n",
      "  \"id\": \"ft-i03tSuNxp7rvVeiOrxmoAzZd\",\n",
      "  \"model\": \"ada\",\n",
      "  \"object\": \"fine-tune\",\n",
      "  \"organization_id\": \"org-X0kzGQIW73wa0UvE4Oz6MEyu\",\n",
      "  \"result_files\": [],\n",
      "  \"status\": \"pending\",\n",
      "  \"training_files\": [\n",
      "    {\n",
      "      \"bytes\": 1777966,\n",
      "      \"created_at\": 1682395929,\n",
      "      \"filename\": \"eminem_lyrics_parsed_train.jsonl\",\n",
      "      \"id\": \"file-4CampKIBbbj8TBSeCKyW49X5\",\n",
      "      \"object\": \"file\",\n",
      "      \"purpose\": \"fine-tune\",\n",
      "      \"status\": \"processed\",\n",
      "      \"status_details\": null\n",
      "    }\n",
      "  ],\n",
      "  \"updated_at\": 1682395983,\n",
      "  \"validation_files\": [\n",
      "    {\n",
      "      \"bytes\": 197223,\n",
      "      \"created_at\": 1682395931,\n",
      "      \"filename\": \"eminem_lyrics_parsed_val.jsonl\",\n",
      "      \"id\": \"file-FkKKndJpQ2DK8Sobpte0xWFc\",\n",
      "      \"object\": \"file\",\n",
      "      \"purpose\": \"fine-tune\",\n",
      "      \"status\": \"processed\",\n",
      "      \"status_details\": null\n",
      "    }\n",
      "  ]\n",
      "}\n",
      "[2023-04-24 23:13:03] Created fine-tune: ft-i03tSuNxp7rvVeiOrxmoAzZd\n",
      "\n",
      "Stream interrupted (client disconnected).\n",
      "To resume the stream, run:\n",
      "\n",
      "  openai api fine_tunes.follow -i ft-i03tSuNxp7rvVeiOrxmoAzZd\n",
      "\n"
     ]
    }
   ],
   "source": [
    "!openai api fine_tunes.get -i \"ft-i03tSuNxp7rvVeiOrxmoAzZd\""
   ]
  },
  {
   "cell_type": "code",
   "execution_count": 59,
   "id": "5913ec6a-92bd-4b2e-a365-35ba23307b6b",
   "metadata": {
    "collapsed": true,
    "jupyter": {
     "outputs_hidden": true
    },
    "tags": []
   },
   "outputs": [
    {
     "name": "stdout",
     "output_type": "stream",
     "text": [
      "{\n",
      "  \"data\": [\n",
      "    {\n",
      "      \"created_at\": 1682380810,\n",
      "      \"fine_tuned_model\": \"ada:ft-personal:hatespeech-counterspeech-2023-04-25-00-13-31\",\n",
      "      \"hyperparams\": {\n",
      "        \"batch_size\": 8,\n",
      "        \"learning_rate_multiplier\": 0.1,\n",
      "        \"n_epochs\": 4,\n",
      "        \"prompt_loss_weight\": 0.01\n",
      "      },\n",
      "      \"id\": \"ft-bj9mfD3ofGuxY6DGAk7E6bVt\",\n",
      "      \"model\": \"ada\",\n",
      "      \"object\": \"fine-tune\",\n",
      "      \"organization_id\": \"org-X0kzGQIW73wa0UvE4Oz6MEyu\",\n",
      "      \"result_files\": [\n",
      "        {\n",
      "          \"bytes\": 116611,\n",
      "          \"created_at\": 1682381611,\n",
      "          \"filename\": \"compiled_results.csv\",\n",
      "          \"id\": \"file-cF0EG0XKY9H8n8uufhqQYkEZ\",\n",
      "          \"object\": \"file\",\n",
      "          \"purpose\": \"fine-tune-results\",\n",
      "          \"status\": \"processed\",\n",
      "          \"status_details\": null\n",
      "        }\n",
      "      ],\n",
      "      \"status\": \"succeeded\",\n",
      "      \"training_files\": [\n",
      "        {\n",
      "          \"bytes\": 1019363,\n",
      "          \"created_at\": 1682380810,\n",
      "          \"filename\": \"hs_cs_train.jsonl\",\n",
      "          \"id\": \"file-rZ0lJZbusAGAO5PYYKrlKX7f\",\n",
      "          \"object\": \"file\",\n",
      "          \"purpose\": \"fine-tune\",\n",
      "          \"status\": \"processed\",\n",
      "          \"status_details\": null\n",
      "        }\n",
      "      ],\n",
      "      \"updated_at\": 1682381612,\n",
      "      \"validation_files\": []\n",
      "    },\n",
      "    {\n",
      "      \"created_at\": 1682384975,\n",
      "      \"fine_tuned_model\": \"curie:ft-personal-2023-04-25-01-29-23\",\n",
      "      \"hyperparams\": {\n",
      "        \"batch_size\": 8,\n",
      "        \"learning_rate_multiplier\": 0.1,\n",
      "        \"n_epochs\": 4,\n",
      "        \"prompt_loss_weight\": 0.01\n",
      "      },\n",
      "      \"id\": \"ft-cqR54P9XnU4a56juBB0mUrYn\",\n",
      "      \"model\": \"curie\",\n",
      "      \"object\": \"fine-tune\",\n",
      "      \"organization_id\": \"org-X0kzGQIW73wa0UvE4Oz6MEyu\",\n",
      "      \"result_files\": [\n",
      "        {\n",
      "          \"bytes\": 146852,\n",
      "          \"created_at\": 1682386164,\n",
      "          \"filename\": \"compiled_results.csv\",\n",
      "          \"id\": \"file-9ehXUACHFHwZKlTFjQaGaFpI\",\n",
      "          \"object\": \"file\",\n",
      "          \"purpose\": \"fine-tune-results\",\n",
      "          \"status\": \"processed\",\n",
      "          \"status_details\": null\n",
      "        }\n",
      "      ],\n",
      "      \"status\": \"succeeded\",\n",
      "      \"training_files\": [\n",
      "        {\n",
      "          \"bytes\": 1262716,\n",
      "          \"created_at\": 1682384975,\n",
      "          \"filename\": \"hs_cs_prepared.jsonl\",\n",
      "          \"id\": \"file-YuAFvzKjzNfn90oT810QuVIH\",\n",
      "          \"object\": \"file\",\n",
      "          \"purpose\": \"fine-tune\",\n",
      "          \"status\": \"processed\",\n",
      "          \"status_details\": null\n",
      "        }\n",
      "      ],\n",
      "      \"updated_at\": 1682386165,\n",
      "      \"validation_files\": []\n",
      "    },\n",
      "    {\n",
      "      \"created_at\": 1682393097,\n",
      "      \"fine_tuned_model\": null,\n",
      "      \"hyperparams\": {\n",
      "        \"batch_size\": 2,\n",
      "        \"learning_rate_multiplier\": 0.1,\n",
      "        \"n_epochs\": 4,\n",
      "        \"prompt_loss_weight\": 0.01\n",
      "      },\n",
      "      \"id\": \"ft-aRJy7ClEJVf6wNvv36XnICjV\",\n",
      "      \"model\": \"ada\",\n",
      "      \"object\": \"fine-tune\",\n",
      "      \"organization_id\": \"org-X0kzGQIW73wa0UvE4Oz6MEyu\",\n",
      "      \"result_files\": [],\n",
      "      \"status\": \"cancelled\",\n",
      "      \"training_files\": [\n",
      "        {\n",
      "          \"bytes\": 197223,\n",
      "          \"created_at\": 1682393097,\n",
      "          \"filename\": \"eminem_lyrics_parsed_val.jsonl\",\n",
      "          \"id\": \"file-5wLuEAYklRHrZlUJ0E4c8sEB\",\n",
      "          \"object\": \"file\",\n",
      "          \"purpose\": \"fine-tune\",\n",
      "          \"status\": \"processed\",\n",
      "          \"status_details\": null\n",
      "        }\n",
      "      ],\n",
      "      \"updated_at\": 1682394628,\n",
      "      \"validation_files\": []\n",
      "    },\n",
      "    {\n",
      "      \"created_at\": 1682393108,\n",
      "      \"fine_tuned_model\": null,\n",
      "      \"hyperparams\": {\n",
      "        \"batch_size\": 16,\n",
      "        \"learning_rate_multiplier\": 0.1,\n",
      "        \"n_epochs\": 4,\n",
      "        \"prompt_loss_weight\": 0.01\n",
      "      },\n",
      "      \"id\": \"ft-T9cjhrbFJDq2WTQBKBlwtnsQ\",\n",
      "      \"model\": \"ada\",\n",
      "      \"object\": \"fine-tune\",\n",
      "      \"organization_id\": \"org-X0kzGQIW73wa0UvE4Oz6MEyu\",\n",
      "      \"result_files\": [],\n",
      "      \"status\": \"cancelled\",\n",
      "      \"training_files\": [\n",
      "        {\n",
      "          \"bytes\": 1777966,\n",
      "          \"created_at\": 1682393108,\n",
      "          \"filename\": \"eminem_lyrics_parsed_train.jsonl\",\n",
      "          \"id\": \"file-ddIBuZupj2iCvrtT4mUE8qwH\",\n",
      "          \"object\": \"file\",\n",
      "          \"purpose\": \"fine-tune\",\n",
      "          \"status\": \"processed\",\n",
      "          \"status_details\": null\n",
      "        }\n",
      "      ],\n",
      "      \"updated_at\": 1682394646,\n",
      "      \"validation_files\": []\n",
      "    }\n",
      "  ],\n",
      "  \"object\": \"list\"\n",
      "}\n"
     ]
    }
   ],
   "source": [
    "!openai api fine_tunes.list"
   ]
  },
  {
   "cell_type": "code",
   "execution_count": null,
   "id": "bc9391ee-5928-45e6-be01-132760632a39",
   "metadata": {},
   "outputs": [],
   "source": [
    "# ft-1Mamzo5GHF2maepkr019CY86 succeeded"
   ]
  },
  {
   "cell_type": "code",
   "execution_count": null,
   "id": "bbbd1321-834d-447c-a01d-6b5d65666d43",
   "metadata": {},
   "outputs": [],
   "source": [
    "prompts = ['PRP VBZ IN DT NN IN DT JJ NN IN DT NN ->',\n",
    "'WP VBZ PRP RB IN NN DT JJ NN IN DT NN ->',\n",
    "'PRP$ NNS VBP DT NN CC DT JJ NN IN DT NN ->',\n",
    "'PRP VBP IN DT NN CC DT JJ NN IN DT NN ->',\n",
    "'DT NNS WDT VBP IN DT NNS IN NN IN DT NN ->',\n",
    "'TO VB TO VB RB JJ CC JJ RB IN NN MD ->',\n",
    "'CC IN NN PRP IN NN IN PRP$ NNS IN DT NN ->',\n",
    "'PRP$ JJ NN NN PRP VBP DT JJ NN IN DT NN ->',\n",
    "'VB PRP NNP RB MD PRP VB PRP$ NN IN DT NN ->',\n",
    "'IN PDT DT NN PRP VBP DT JJ NN IN DT NN ->',\n",
    "'NNP NN JJ NN CC NN DT JJ NN IN DT NN ->',\n",
    "'VBG DT PRP$ NNS IN NN IN DT NN DT JJ NN ->',\n",
    "'CC RB DT JJ NN IN DT JJ NN IN DT NN ->']"
   ]
  }
 ],
 "metadata": {
  "kernelspec": {
   "display_name": "Python 3 (ipykernel)",
   "language": "python",
   "name": "python3"
  },
  "language_info": {
   "codemirror_mode": {
    "name": "ipython",
    "version": 3
   },
   "file_extension": ".py",
   "mimetype": "text/x-python",
   "name": "python",
   "nbconvert_exporter": "python",
   "pygments_lexer": "ipython3",
   "version": "3.9.13"
  }
 },
 "nbformat": 4,
 "nbformat_minor": 5
}
