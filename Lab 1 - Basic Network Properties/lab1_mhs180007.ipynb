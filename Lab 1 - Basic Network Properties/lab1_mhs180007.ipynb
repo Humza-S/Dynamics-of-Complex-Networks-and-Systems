{
 "cells": [
  {
   "cell_type": "markdown",
   "id": "be34902e-92d2-47c3-8ad5-2690fbc47c2c",
   "metadata": {},
   "source": [
    "Humza Salman\n",
    "mhs180007"
   ]
  },
  {
   "cell_type": "code",
   "execution_count": 7,
   "id": "1528f906-2ab0-4290-a076-638d6f26d822",
   "metadata": {},
   "outputs": [],
   "source": [
    "import networkx as nx\n",
    "import numpy as np"
   ]
  },
  {
   "cell_type": "markdown",
   "id": "e03621a6-345d-4125-b73b-416bdc1e458a",
   "metadata": {
    "tags": []
   },
   "source": [
    "#### Section 6.1-6.2 Networks"
   ]
  },
  {
   "cell_type": "code",
   "execution_count": 8,
   "id": "08603856-1d18-436d-8509-bc34c5b7f7c0",
   "metadata": {},
   "outputs": [],
   "source": [
    "g = nx.Graph()"
   ]
  },
  {
   "cell_type": "code",
   "execution_count": 9,
   "id": "eea5356a-e72b-4486-a440-a8f8cc0a099a",
   "metadata": {},
   "outputs": [],
   "source": [
    "g.add_nodes_from(range(1,7))"
   ]
  },
  {
   "cell_type": "code",
   "execution_count": 10,
   "id": "39c72f24-2bc4-4c64-bf63-b927a0cd2b53",
   "metadata": {},
   "outputs": [],
   "source": [
    "g.add_edge(1,2)\n",
    "g.add_edge(1,5)\n",
    "g.add_edge(2,3)\n",
    "g.add_edge(2,4)\n",
    "g.add_edge(3,4)\n",
    "g.add_edge(3,5)\n",
    "g.add_edge(3,6)"
   ]
  },
  {
   "cell_type": "code",
   "execution_count": 11,
   "id": "64780b70-7c50-46cb-a47b-09c828f0ce67",
   "metadata": {},
   "outputs": [
    {
     "name": "stdout",
     "output_type": "stream",
     "text": [
      "HIGHLIGHTED QUESTION:-\n",
      "#Nodes: 6 , #Edges: 7\n"
     ]
    }
   ],
   "source": [
    "print('HIGHLIGHTED QUESTION:-')\n",
    "print(f'#Nodes: {g.number_of_nodes()} , #Edges: {g.number_of_edges()}')"
   ]
  },
  {
   "cell_type": "code",
   "execution_count": 12,
   "id": "0b2e5081-4b8a-42ac-9d55-5befc323f19a",
   "metadata": {},
   "outputs": [
    {
     "name": "stdout",
     "output_type": "stream",
     "text": [
      "HIGHLIGHTED QUESTION:-\n",
      "Has 3-4 edge: True\n"
     ]
    }
   ],
   "source": [
    "print('HIGHLIGHTED QUESTION:-')\n",
    "print(f'Has 3-4 edge: {g.has_edge(3,4)}')"
   ]
  },
  {
   "cell_type": "code",
   "execution_count": 13,
   "id": "76d7b530-b116-4e88-ad2d-46a2357df7cf",
   "metadata": {},
   "outputs": [
    {
     "name": "stdout",
     "output_type": "stream",
     "text": [
      "HIGHLIGHTED QUESTION:-\n",
      "Has 4-6 edge: False\n"
     ]
    }
   ],
   "source": [
    "print('HIGHLIGHTED QUESTION:-')\n",
    "print(f'Has 4-6 edge: {g.has_edge(4,6)}')"
   ]
  },
  {
   "cell_type": "code",
   "execution_count": 15,
   "id": "ef11fdba-ad6e-4684-9d27-49d1f55f30d5",
   "metadata": {},
   "outputs": [
    {
     "name": "stdout",
     "output_type": "stream",
     "text": [
      "HIGHLIGHTED QUESTION:- Print out the corresponding adjacency matrix:\n",
      "Adjacency Matrix: [[0. 1. 0. 0. 1. 0.]\n",
      " [1. 0. 1. 1. 0. 0.]\n",
      " [0. 1. 0. 1. 1. 1.]\n",
      " [0. 1. 1. 0. 0. 0.]\n",
      " [1. 0. 1. 0. 0. 0.]\n",
      " [0. 0. 1. 0. 0. 0.]]\n"
     ]
    }
   ],
   "source": [
    "A = nx.to_numpy_array(g)\n",
    "print('HIGHLIGHTED QUESTION:- Print out the corresponding adjacency matrix:')\n",
    "print(f'Adjacency Matrix: {A}')"
   ]
  },
  {
   "cell_type": "code",
   "execution_count": 16,
   "id": "8636dbbd-8012-41ee-ab40-2bbf069ba163",
   "metadata": {},
   "outputs": [
    {
     "name": "stdout",
     "output_type": "stream",
     "text": [
      "HIGHLIGHTED QUESTION:- running the command A == A.transpose()\n",
      "Adjacency Matrix Symmetric?\n",
      " [[ True  True  True  True  True  True]\n",
      " [ True  True  True  True  True  True]\n",
      " [ True  True  True  True  True  True]\n",
      " [ True  True  True  True  True  True]\n",
      " [ True  True  True  True  True  True]\n",
      " [ True  True  True  True  True  True]]\n"
     ]
    }
   ],
   "source": [
    "print('HIGHLIGHTED QUESTION:- running the command A == A.transpose()')\n",
    "print(f'Adjacency Matrix Symmetric?\\n {A == A.transpose()}')"
   ]
  },
  {
   "cell_type": "markdown",
   "id": "020d2493-6a7f-4b34-b80c-752b9e66db66",
   "metadata": {
    "tags": []
   },
   "source": [
    "#### Section 6.3 Weighted Networks"
   ]
  },
  {
   "cell_type": "code",
   "execution_count": 17,
   "id": "d1b176c9-6094-4b82-96fe-dd52bd2d8d7e",
   "metadata": {},
   "outputs": [],
   "source": [
    "del g"
   ]
  },
  {
   "cell_type": "code",
   "execution_count": 18,
   "id": "fce66424-72c0-4877-911d-185f5b8271e2",
   "metadata": {},
   "outputs": [],
   "source": [
    "g = nx.Graph()"
   ]
  },
  {
   "cell_type": "code",
   "execution_count": 19,
   "id": "78b8675b-1c4d-4911-8430-d9d836768031",
   "metadata": {},
   "outputs": [],
   "source": [
    "g.add_nodes_from(range(1,7))"
   ]
  },
  {
   "cell_type": "code",
   "execution_count": 20,
   "id": "7ec7d375-17f9-4ea2-a04a-d55d588c7f08",
   "metadata": {},
   "outputs": [],
   "source": [
    "g.add_edge(1, 2, weight=1)\n",
    "g.add_edge(1, 5, weight=3)\n",
    "g.add_edge(2, 2, weight=1) # will change weight to 2 manually later on\n",
    "g.add_edge(2, 3, weight=2)\n",
    "g.add_edge(2, 4, weight=1)\n",
    "g.add_edge(3, 4, weight=1)\n",
    "g.add_edge(3, 5, weight=1)\n",
    "g.add_edge(3, 6, weight=1)\n",
    "g.add_edge(6, 6, weight=1) # will change weight to 2 manually later on"
   ]
  },
  {
   "cell_type": "code",
   "execution_count": 21,
   "id": "caf56344-02a0-4859-9565-b83519e396ff",
   "metadata": {},
   "outputs": [
    {
     "name": "stdout",
     "output_type": "stream",
     "text": [
      "HIGHLIGHTED QUESTION:- print the corresponding adjacency matrix\n",
      "Adjacency Matrix Before Fixing Weight of Self-Loops:\n",
      "[[0. 1. 0. 0. 3. 0.]\n",
      " [1. 1. 2. 1. 0. 0.]\n",
      " [0. 2. 0. 1. 1. 1.]\n",
      " [0. 1. 1. 0. 0. 0.]\n",
      " [3. 0. 1. 0. 0. 0.]\n",
      " [0. 0. 1. 0. 0. 1.]]\n"
     ]
    }
   ],
   "source": [
    "A = nx.to_numpy_array(g)\n",
    "print('HIGHLIGHTED QUESTION:- print the corresponding adjacency matrix')\n",
    "print(f'Adjacency Matrix Before Fixing Weight of Self-Loops:')\n",
    "print(A)"
   ]
  },
  {
   "cell_type": "code",
   "execution_count": 22,
   "id": "ce3fe0b0-936b-42e7-9fac-a957cef18db8",
   "metadata": {},
   "outputs": [
    {
     "data": {
      "text/plain": [
       "AtlasView({1: {'weight': 1}, 2: {'weight': 1}, 3: {'weight': 2}, 4: {'weight': 1}})"
      ]
     },
     "execution_count": 22,
     "metadata": {},
     "output_type": "execute_result"
    }
   ],
   "source": [
    "g[2]"
   ]
  },
  {
   "cell_type": "code",
   "execution_count": 23,
   "id": "6a902306-f5a6-4576-86b8-e44e64ed3283",
   "metadata": {},
   "outputs": [],
   "source": [
    "g[2][2]['weight'] = 2\n",
    "g[6][6]['weight'] = 2"
   ]
  },
  {
   "cell_type": "code",
   "execution_count": 24,
   "id": "10b50585-813f-441b-8eb1-80b1b6a1ae2c",
   "metadata": {},
   "outputs": [
    {
     "name": "stdout",
     "output_type": "stream",
     "text": [
      "HIGHLIGHTED QUESTION:- print the corresponding adjacency matrix\n",
      "Adjacency Matrix After Fixing Weight of Self-Loops:\n",
      "[[0. 1. 0. 0. 3. 0.]\n",
      " [1. 2. 2. 1. 0. 0.]\n",
      " [0. 2. 0. 1. 1. 1.]\n",
      " [0. 1. 1. 0. 0. 0.]\n",
      " [3. 0. 1. 0. 0. 0.]\n",
      " [0. 0. 1. 0. 0. 2.]]\n"
     ]
    }
   ],
   "source": [
    "A = nx.to_numpy_array(g)\n",
    "print('HIGHLIGHTED QUESTION:- print the corresponding adjacency matrix')\n",
    "print(f'Adjacency Matrix After Fixing Weight of Self-Loops:')\n",
    "print(A)"
   ]
  },
  {
   "cell_type": "markdown",
   "id": "c762c1b9-53d3-43f8-92bf-3fae795c0abb",
   "metadata": {
    "tags": []
   },
   "source": [
    "#### Section 6.4 Directed Networks"
   ]
  },
  {
   "cell_type": "code",
   "execution_count": 25,
   "id": "db5af779-eb2e-4d2c-9c78-d9acbcaaf475",
   "metadata": {},
   "outputs": [],
   "source": [
    "del g\n",
    "g = nx.DiGraph()"
   ]
  },
  {
   "cell_type": "code",
   "execution_count": 26,
   "id": "4f397a79-06aa-4131-ad9d-780c7893c4a3",
   "metadata": {},
   "outputs": [],
   "source": [
    "g.add_nodes_from(range(1,7))"
   ]
  },
  {
   "cell_type": "code",
   "execution_count": 27,
   "id": "e7209974-d973-447a-9d71-bcd30c1cd973",
   "metadata": {},
   "outputs": [],
   "source": [
    "g.add_edge(1,3)\n",
    "g.add_edge(2,6)\n",
    "g.add_edge(3,2)\n",
    "g.add_edge(4,1)\n",
    "g.add_edge(4,5)\n",
    "g.add_edge(5,3)\n",
    "g.add_edge(6,4)\n",
    "g.add_edge(6,5)"
   ]
  },
  {
   "cell_type": "code",
   "execution_count": 29,
   "id": "5d70db46-a926-4c44-ba2d-3e978fbabd99",
   "metadata": {},
   "outputs": [
    {
     "name": "stdout",
     "output_type": "stream",
     "text": [
      "HIGHLIGHTED QUESTION:- compare the adjacency matrix to the one in the textbook\n",
      "Adjacency Matrix:\n",
      "[[0. 0. 1. 0. 0. 0.]\n",
      " [0. 0. 0. 0. 0. 1.]\n",
      " [0. 1. 0. 0. 0. 0.]\n",
      " [1. 0. 0. 0. 1. 0.]\n",
      " [0. 0. 1. 0. 0. 0.]\n",
      " [0. 0. 0. 1. 1. 0.]]\n",
      "The adjacency matrix in the book is is the transpose of the matrix we have calculated\n"
     ]
    }
   ],
   "source": [
    "A = nx.to_numpy_array(g)\n",
    "print('HIGHLIGHTED QUESTION:- compare the adjacency matrix to the one in the textbook')\n",
    "print('Adjacency Matrix:')\n",
    "print(A)\n",
    "print('The adjacency matrix in the book is is the transpose of the matrix we have calculated')"
   ]
  },
  {
   "cell_type": "markdown",
   "id": "c584ada6-d5a1-40ce-8603-ee547b1573c5",
   "metadata": {
    "jp-MarkdownHeadingCollapsed": true,
    "tags": []
   },
   "source": [
    "##### Section 6.4.1 EXAMPLE -- Cocitation & Bibliographic Coupling -- IGNORE"
   ]
  },
  {
   "cell_type": "code",
   "execution_count": 30,
   "id": "e1731bcf-2475-47ca-942d-92e2035b9079",
   "metadata": {
    "tags": []
   },
   "outputs": [
    {
     "name": "stdout",
     "output_type": "stream",
     "text": [
      "DiGraph with 7 nodes and 10 edges\n"
     ]
    }
   ],
   "source": [
    "# Example for the benefit of creating the cocitation network algorithm\n",
    "exg = nx.DiGraph()\n",
    "\n",
    "exg.add_nodes_from(range(1,8))\n",
    "\n",
    "exg.add_edge(1,7, weight=1)\n",
    "exg.add_edge(3,1, weight=2)\n",
    "exg.add_edge(3,4, weight=3)\n",
    "exg.add_edge(4,1, weight=0.1)\n",
    "exg.add_edge(4,2, weight=10)\n",
    "exg.add_edge(4,3, weight=4)\n",
    "exg.add_edge(5,1, weight=1)\n",
    "exg.add_edge(5,2, weight=1)\n",
    "exg.add_edge(6,2, weight=1)\n",
    "exg.add_edge(7,2, weight=1)\n",
    "\n",
    "# exg.add_edge(1,7, weight=1)\n",
    "# exg.add_edge(3,1, weight=1)\n",
    "# exg.add_edge(3,4, weight=1)\n",
    "# exg.add_edge(4,1, weight=1)\n",
    "# exg.add_edge(4,2, weight=1)\n",
    "# exg.add_edge(4,3, weight=1)\n",
    "# exg.add_edge(5,1, weight=1)\n",
    "# exg.add_edge(5,2, weight=1)\n",
    "# exg.add_edge(6,2, weight=1)\n",
    "# exg.add_edge(7,2, weight=1)\n",
    "print(exg)"
   ]
  },
  {
   "cell_type": "code",
   "execution_count": 31,
   "id": "5da364fa-611b-4d09-83cd-070261a0fcf4",
   "metadata": {
    "tags": []
   },
   "outputs": [
    {
     "name": "stdout",
     "output_type": "stream",
     "text": [
      "1 2 4\n",
      "4 1\n",
      "4 2\n",
      "1 2 5\n",
      "5 1\n",
      "5 2\n",
      "1 3 4\n",
      "4 1\n",
      "4 3\n",
      "1 4 3\n",
      "3 1\n",
      "3 4\n",
      "2 3 4\n",
      "4 2\n",
      "4 3\n"
     ]
    }
   ],
   "source": [
    "encg = nx.Graph()\n",
    "for node in exg:\n",
    "    encg.add_node(node)\n",
    "    \n",
    "for node1 in exg:\n",
    "    incoming_node1 = list(exg.predecessors(node1))\n",
    "\n",
    "    for node2 in exg:\n",
    "        \n",
    "        if (node1 != node2):\n",
    "            if encg.has_edge(node1, node2):\n",
    "                continue\n",
    "            \n",
    "            incoming_node2 = list(exg.predecessors(node2))\n",
    "\n",
    "            intersection = list(set(incoming_node1) & set(incoming_node2))\n",
    "            \n",
    "            weighted_product_sum = 0\n",
    "            \n",
    "            for i in intersection: # for every node in the intersection\n",
    "                product = 1\n",
    "                print(node1, node2, i)\n",
    "                product = 1\n",
    "                for j in exg[i]: # for every node being pointed to\n",
    "                    # print(i, j)\n",
    "                    # product = 1\n",
    "                    if 'weight' in exg[i][j] and (j == node1 or j == node2):\n",
    "                        print(i, j)\n",
    "                        product *= exg[i][j]['weight']\n",
    "                        \n",
    "                weighted_product_sum += product\n",
    "\n",
    "            if intersection:\n",
    "                \n",
    "                encg.add_edge(node1, node2, weight=weighted_product_sum)\n",
    "            \n",
    "# print(encg)"
   ]
  },
  {
   "cell_type": "code",
   "execution_count": 32,
   "id": "c8f25862-8043-455a-a34e-2098fe8aea45",
   "metadata": {
    "tags": []
   },
   "outputs": [
    {
     "name": "stdout",
     "output_type": "stream",
     "text": [
      "[[ 0.   2.   0.4  6.   0.   0.   0. ]\n",
      " [ 2.   0.  40.   0.   0.   0.   0. ]\n",
      " [ 0.4 40.   0.   0.   0.   0.   0. ]\n",
      " [ 6.   0.   0.   0.   0.   0.   0. ]\n",
      " [ 0.   0.   0.   0.   0.   0.   0. ]\n",
      " [ 0.   0.   0.   0.   0.   0.   0. ]\n",
      " [ 0.   0.   0.   0.   0.   0.   0. ]]\n",
      "[[ 0.   2.   0.4  6.   0.   0.   0. ]\n",
      " [ 2.   0.  40.   0.   0.   0.   0. ]\n",
      " [ 0.4 40.   0.   0.   0.   0.   0. ]\n",
      " [ 6.   0.   0.   0.   0.   0.   0. ]\n",
      " [ 0.   0.   0.   0.   0.   0.   0. ]\n",
      " [ 0.   0.   0.   0.   0.   0.   0. ]\n",
      " [ 0.   0.   0.   0.   0.   0.   0. ]]\n",
      "(7, 7)\n",
      "(7, 7)\n",
      "Difference between cocitation methods: 0.0\n"
     ]
    }
   ],
   "source": [
    "A = nx.to_numpy_array(exg).T\n",
    "C_algebraic = np.dot(A, A.transpose())\n",
    "np.fill_diagonal(C_algebraic, 0)\n",
    "print(C_algebraic)\n",
    "G_cocitation = encg\n",
    "C_graph = nx.to_numpy_array(encg).T\n",
    "print(C_graph)\n",
    "C_diff = C_algebraic - C_graph\n",
    "print(C_algebraic.shape)\n",
    "print(C_graph.shape)\n",
    "print(f'Difference between cocitation methods: {C_diff.sum().sum()}')"
   ]
  },
  {
   "cell_type": "markdown",
   "id": "226fd8b9-12b0-46b4-8674-4bb1f8d1c82f",
   "metadata": {},
   "source": [
    "##### Section 6.4.1 Cocitation & Bibliographic Coupling"
   ]
  },
  {
   "cell_type": "code",
   "execution_count": 34,
   "id": "3ae02839-bddd-40d0-b652-5414a860888c",
   "metadata": {},
   "outputs": [],
   "source": [
    "def cocitation(g):\n",
    "    cg = nx.Graph() # new undirected graph\n",
    "    \n",
    "    # add all nodes ot new cocitation graph\n",
    "    for node in g:\n",
    "        cg.add_node(node)\n",
    "\n",
    "    # loop through possible permutations of different pairs of nodes\n",
    "    for node1 in g:\n",
    "        \n",
    "        incoming_node1 = list(g.predecessors(node1)) # get predecessors for first node\n",
    "        \n",
    "        for node2 in g:\n",
    "\n",
    "            if (node1 != node2): # make sure nodes are not the same\n",
    "                \n",
    "                # check to see if edge already exists, if so then skip\n",
    "                if cg.has_edge(node1, node2):\n",
    "                    continue                \n",
    "\n",
    "                incoming_node2 = list(g.predecessors(node2)) # get predecessors for second node\n",
    "                \n",
    "                intersection = list(set(incoming_node1) & set(incoming_node2))\n",
    "                \n",
    "                weighted_product_sum = 0\n",
    "            \n",
    "                for i in intersection: # for every node in the intersection\n",
    "                    product = 1\n",
    "                    \n",
    "                    for j in g[i]: # for every node being pointed to\n",
    "\n",
    "                        if 'weight' in g[i][j] and (j == node1 or j == node2): # make sure nodes being pointed to are node1 and node 2\n",
    "                            product *= g[i][j]['weight']\n",
    "                        \n",
    "                    weighted_product_sum += product # sum product for those nodes\n",
    "                \n",
    "                if intersection:                \n",
    "                    cg.add_edge(node1, node2, weight=weighted_product_sum)\n",
    "\n",
    "    return cg"
   ]
  },
  {
   "cell_type": "code",
   "execution_count": 35,
   "id": "764b8df3-eff8-43af-9ef0-6e2e1ddeee42",
   "metadata": {},
   "outputs": [],
   "source": [
    "del g\n",
    "g = nx.read_gml('proofwikidefs_la.gml', 'name')"
   ]
  },
  {
   "cell_type": "code",
   "execution_count": 36,
   "id": "63e1d49b-80fb-4fc1-8ec0-8c37aab7cfc9",
   "metadata": {},
   "outputs": [
    {
     "name": "stdout",
     "output_type": "stream",
     "text": [
      "HIGHLIGHTED QUESTION:-\n",
      "Difference between cocitation methods: 0.0\n"
     ]
    }
   ],
   "source": [
    "A = nx.to_numpy_array(g).T \n",
    "C_algebraic = np.dot(A, A.transpose())\n",
    "np.fill_diagonal(C_algebraic, 0)\n",
    "G_cocitation = cocitation(g)\n",
    "C_graph = nx.to_numpy_array(G_cocitation).T\n",
    "C_diff = C_algebraic - C_graph\n",
    "print('HIGHLIGHTED QUESTION:-')\n",
    "print(f'Difference between cocitation methods: {C_diff.sum().sum()}')"
   ]
  },
  {
   "cell_type": "code",
   "execution_count": 37,
   "id": "662349b8-3686-41cc-8b74-edb3f0e15a5b",
   "metadata": {},
   "outputs": [
    {
     "name": "stdout",
     "output_type": "stream",
     "text": [
      "HIGHLIGHTED QUESTION:- The sum should be zero - but it isn't! Why not? What did we miss?\n",
      "\n",
      "Initially the difference of the cocitation methods was not 0 because we calculated our cocitation graph assuming a simple graph.\n",
      "This creates 0 entries in the diagonal matrix, so we had to adjust our Algebraic method adjacency matrix to have diagonal entries of 0.\n"
     ]
    }
   ],
   "source": [
    "print(\"HIGHLIGHTED QUESTION:- The sum should be zero - but it isn't! Why not? What did we miss?\\n\")\n",
    "print('Initially the difference of the cocitation methods was not 0 because we calculated our cocitation graph assuming a simple graph.\\n' +\n",
    "      'This creates 0 entries in the diagonal matrix, so we had to adjust our Algebraic method adjacency matrix to have diagonal entries of 0.')"
   ]
  },
  {
   "cell_type": "code",
   "execution_count": 41,
   "id": "c5168eeb-7b24-47d3-b9e3-69762e4e9f9b",
   "metadata": {},
   "outputs": [
    {
     "name": "stdout",
     "output_type": "stream",
     "text": [
      "HIGHLIGHTED QUESTION:- Print out the neighbors of this node in the cocitation network along with the weights of the edges they share. Write a concise\n",
      "phrase that captures the meaning of these neighbors. Compare these with the in-neighbors of “Linear Combination” in the original graph by\n",
      "printing both.\n",
      "\n",
      "Cocitation Network neigbors of Linear Combination:\n",
      "\t Vector (Euclidean Space) 10.0\n",
      "\t Set of All Linear Transformations 1.0\n",
      "\t Ordered Basis 3.0\n",
      "\t Linearly Independent/Sequence/Real Vector Space 4.0\n",
      "\t Linearly Dependent/Sequence/Real Vector Space 6.0\n",
      "\t Linear Span 6.0\n",
      "\t Linear Combination of Subset 10.0\n",
      "\t Linear Combination of Sequence 8.0\n",
      "\t Linear Combination of Empty Set 6.0\n",
      "\t Matrix 1.0\n",
      "\t Basis (Linear Algebra) 2.0\n",
      "\t Matrix Product (Conventional) 1.0\n",
      "\t Module 8.0\n",
      "\t Linearly Independent/Set/Real Vector Space 1.0\n",
      "\t Linearly Dependent/Set/Real Vector Space 2.0\n",
      "\t Linearly Independent/Set 1.0\n",
      "\t Linearly Independent/Sequence 1.0\n",
      "\t Linearly Independent Set 6.0\n",
      "\t Linearly Independent Sequence 10.0\n",
      "\t Linearly Independent 2.0\n",
      "\t Linearly Dependent/Set 2.0\n",
      "\t Linearly Dependent/Sequence 2.0\n",
      "\t Linearly Dependent Set 2.0\n",
      "\t Linearly Dependent Sequence 8.0\n",
      "\t Linearly Dependent 1.0\n",
      "\t Zero Vector 10.0\n",
      "\t Zero Scalar 3.0\n",
      "\t Unitary Module 9.0\n",
      "\t Vector Space 3.0\n",
      "\t Linear Transformation 7.0\n",
      "\t Vector Subspace 1.0\n",
      "\t Vector (Linear Algebra) 3.0\n",
      "\n",
      "These neighbors in the cocitation network represent an edge between two nodes that are being referenced by the same node/term(s) in the original graph.\n",
      "The weight of this edge represents the number of terms referencing these nodes as well as the weight associated with those references.\n",
      "\n",
      "In-Neighbors of Linear Combination:\n",
      "\t Spanning Set 1.0\n",
      "\t Linearly Dependent/Sequence/Real Vector Space 1.0\n",
      "\t Linear Span 1.0\n",
      "\t Linear Combination/Subset 1.0\n",
      "\t Linear Combination/Sequence 1.0\n",
      "\t Linear Combination/Empty Set 1.0\n",
      "\t Linear Combination of Subset 1.0\n",
      "\t Linear Combination of Sequence 1.0\n",
      "\t Linear Combination of Empty Set 1.0\n",
      "\t Generator/Module/Spanning Set 1.0\n",
      "\t Relative Matrix 1.0\n",
      "\t Linearly Independent/Sequence 1.0\n",
      "\t Linearly Independent Sequence 1.0\n",
      "\t Linearly Independent 1.0\n",
      "\t Linearly Dependent/Sequence 2.0\n",
      "\t Linearly Dependent Sequence 2.0\n",
      "\t Linearly Dependent 2.0\n",
      "\n",
      "The in-neighbors of Linear Combination represent the nodes/terms that reference the Linear Combination node and potentially the other nodes seen in\n",
      "the neighbors of the Linear Combination node in the cocitation network. These influence the connections made in the cocitation network.\n"
     ]
    }
   ],
   "source": [
    "print('HIGHLIGHTED QUESTION:- Print out the neighbors of this node in the cocitation network along with the weights of the edges they share. Write a concise\\n'+\n",
    "      'phrase that captures the meaning of these neighbors. Compare these with the in-neighbors of “Linear Combination” in the original graph by\\n'+\n",
    "      'printing both.\\n')\n",
    "\n",
    "print('Cocitation Network neigbors of Linear Combination:')\n",
    "for n in G_cocitation['Linear Combination']:\n",
    "    print('\\t', n, G_cocitation[n]['Linear Combination']['weight'])\n",
    "    \n",
    "print()\n",
    "print('These neighbors in the cocitation network represent an edge between two nodes that are being referenced by the same node/term(s) in the original graph.\\n'+\n",
    "      'The weight of this edge represents the number of terms referencing these nodes as well as the weight associated with those references.')\n",
    "print()\n",
    "\n",
    "\n",
    "print('In-Neighbors of Linear Combination:')\n",
    "for n in g.predecessors('Linear Combination'):\n",
    "    print('\\t', n, g[n]['Linear Combination']['weight'])\n",
    "\n",
    "print()\n",
    "print('The in-neighbors of Linear Combination represent the nodes/terms that reference the Linear Combination node and potentially the other nodes seen in\\n'+\n",
    "      'the neighbors of the Linear Combination node in the cocitation network. These influence the connections made in the cocitation network.')"
   ]
  },
  {
   "cell_type": "code",
   "execution_count": 42,
   "id": "513dc944-afb8-4f66-9417-6ee0bab23e87",
   "metadata": {},
   "outputs": [],
   "source": [
    "def bibliographic_coupling(g):\n",
    "    bg = nx.Graph() # new undirected graph\n",
    "    \n",
    "    # add all nodes ot new cocitation graph\n",
    "    for node in g:\n",
    "        bg.add_node(node)\n",
    "\n",
    "    # loop through possible permutations of different pairs of nodes\n",
    "    for node1 in g:\n",
    "        \n",
    "        incoming_node1 = list(g.successors(node1)) # get successors for first node\n",
    "        \n",
    "        for node2 in g:\n",
    "            \n",
    "            if (node1 != node2): # make sure nodes are not the same\n",
    "                \n",
    "                # check to see if edge already exists, if so then skip\n",
    "                if bg.has_edge(node1, node2):\n",
    "                    continue                \n",
    "\n",
    "                incoming_node2 = list(g.successors(node2)) # get successors for second node\n",
    "                \n",
    "                # print(node1, incoming_node1, node2, incoming_node2)\n",
    "                \n",
    "                intersection = list(set(incoming_node1) & set(incoming_node2))\n",
    "                \n",
    "                weighted_product_sum = 0\n",
    "                \n",
    "                if intersection:\n",
    "                    # print(node1, node2, intersection)\n",
    "                    product = 0\n",
    "                    for i in intersection:\n",
    "                        product += g[node1][i]['weight'] * g[node2][i]['weight']\n",
    "                        # print(g[node1][i]['weight'])\n",
    "                        # print(g[node2][i]['weight'])\n",
    "                    weighted_product_sum += product\n",
    "                    bg.add_edge(node1, node2, weight=weighted_product_sum)\n",
    "\n",
    "\n",
    "    return bg\n",
    "    "
   ]
  },
  {
   "cell_type": "code",
   "execution_count": 43,
   "id": "20506cc0-51b7-452a-8407-ec8dad1a879c",
   "metadata": {},
   "outputs": [
    {
     "name": "stdout",
     "output_type": "stream",
     "text": [
      "HIGHLIGHTED QUESTION:-\n",
      "Difference between bibliographic methods: 0.0\n"
     ]
    }
   ],
   "source": [
    "A = nx.to_numpy_array(g).T\n",
    "BC_algebraic = np.dot(A.transpose(), A)\n",
    "np.fill_diagonal(BC_algebraic, 0)\n",
    "G_bibliographic = bibliographic_coupling(g)\n",
    "BC_graph = nx.to_numpy_array(G_bibliographic).T\n",
    "BC_diff = BC_algebraic - BC_graph\n",
    "print('HIGHLIGHTED QUESTION:-')\n",
    "print(f'Difference between bibliographic methods: {BC_diff.sum().sum()}')"
   ]
  },
  {
   "cell_type": "code",
   "execution_count": null,
   "id": "4fd1fa6a-215b-43ba-9f28-427f90214d1e",
   "metadata": {},
   "outputs": [],
   "source": [
    "test = nx.DiGraph()\n",
    "test.add_nodes_from(range(1,7))\n",
    "for n1 in test.nodes():\n",
    "    for n2 in test.nodes():\n",
    "        if n1 != n2:\n",
    "            test.add_edge(n1, n2, weight=1)\n",
    "test_cocitation = cocitation(test)\n",
    "print(test_cocitation)\n",
    "print(test)\n",
    "\n",
    "\n",
    "test_graph = nx.to_numpy_array(test_cocitation).T\n",
    "print(test_graph)"
   ]
  },
  {
   "cell_type": "code",
   "execution_count": 69,
   "id": "981ecc31-052f-4b73-988c-898d3bec73e6",
   "metadata": {},
   "outputs": [
    {
     "name": "stdout",
     "output_type": "stream",
     "text": [
      "HIGHLIGHTED QUESTION:-\n",
      "What is the original directed network (draw or describe) that has a cocitation matrix given by:\n",
      "[[0. 4. 4. 4. 4. 4.]\n",
      " [4. 0. 4. 4. 4. 4.]\n",
      " [4. 4. 0. 4. 4. 4.]\n",
      " [4. 4. 4. 0. 4. 4.]\n",
      " [4. 4. 4. 4. 0. 4.]\n",
      " [4. 4. 4. 4. 4. 0.]]\n",
      "The original graph will be a K6 complete graph with edge weights of 1\n",
      "\n",
      "What is the corresponding bibliographic coupling matrix for this network?\n",
      "The corresponding matrix would be the same since C = (A)(A.T) and B = (A.T)(A), so B = C.T and since the matrix given is symmetric, then B = C in this case\n",
      "[[0. 4. 4. 4. 4. 4.]\n",
      " [4. 0. 4. 4. 4. 4.]\n",
      " [4. 4. 0. 4. 4. 4.]\n",
      " [4. 4. 4. 0. 4. 4.]\n",
      " [4. 4. 4. 4. 0. 4.]\n",
      " [4. 4. 4. 4. 4. 0.]]\n"
     ]
    },
    {
     "data": {
      "image/png": "[encoded data removed]",
      "text/plain": [
       "<Figure size 640x480 with 1 Axes>"
      ]
     },
     "metadata": {},
     "output_type": "display_data"
    }
   ],
   "source": [
    "print('HIGHLIGHTED QUESTION:-')\n",
    "print('What is the original directed network (draw or describe) that has a cocitation matrix given by:')\n",
    "print(test_graph)\n",
    "print('The original graph will be a K6 complete graph with edge weights of 1')\n",
    "nx.draw(test)\n",
    "print()\n",
    "print('What is the corresponding bibliographic coupling matrix for this network?')\n",
    "print('The corresponding matrix would be the same since C = (A)(A.T) and B = (A.T)(A), so B = C.T and since the matrix given is symmetric, then B = C in this case')\n",
    "print(test_graph.T)"
   ]
  },
  {
   "cell_type": "code",
   "execution_count": 70,
   "id": "35856bcf-ec65-4bdc-9687-8f5e989ea67a",
   "metadata": {},
   "outputs": [
    {
     "name": "stdout",
     "output_type": "stream",
     "text": [
      "HIGHLIGHTED QUESTION:- Is it possible that two different (potentially weighted) original graphs G1 and G2 have the same cocitation and same\n",
      "bibliographic coupling graphs (e.g., C1=C2 and B1=B2)? If so, give an example.\n",
      "\n",
      "Yes. Take the example weighted graph in slide 14 of the Class 02 slides. If we take nodes 1, 3, and 4 as an example we find that 3 is the common\n",
      "predecessor between them. In the original graph edge(3,1) has a weight of 2 and edge(3,4) has a weight of 3. If we simply flipped these two edge\n",
      "weights we would have: 1. a different graph and 2. the same result in a cocitation network and bibliographic network since the connections\n",
      "and sum of products remained the same.\n"
     ]
    }
   ],
   "source": [
    "print('HIGHLIGHTED QUESTION:- Is it possible that two different (potentially weighted) original graphs G1 and G2 have the same cocitation and same\\n'+\n",
    "      'bibliographic coupling graphs (e.g., C1=C2 and B1=B2)? If so, give an example.\\n')\n",
    "print('Yes. Take the example weighted graph in slide 14 of the Class 02 slides. If we take nodes 1, 3, and 4 as an example we find that 3 is the common\\n'+\n",
    "      'predecessor between them. In the original graph edge(3,1) has a weight of 2 and edge(3,4) has a weight of 3. If we simply flipped these two edge\\n'+\n",
    "      'weights we would have: 1. a different graph and 2. the same result in a cocitation network and bibliographic network since the connections\\n'+\n",
    "      'and sum of products remained the same.')"
   ]
  },
  {
   "cell_type": "markdown",
   "id": "a3d1bda4-3f37-4b3c-9a0b-d2728dbd1a94",
   "metadata": {
    "tags": []
   },
   "source": [
    "##### Section 6.4.2 Acyclic Networks"
   ]
  },
  {
   "cell_type": "code",
   "execution_count": 74,
   "id": "8efa2bb5-9725-40a0-b787-ecf8f5343ce1",
   "metadata": {},
   "outputs": [],
   "source": [
    "def is_acyclic(g):\n",
    "    nodes = list(g.nodes())\n",
    "    \n",
    "    i = 0\n",
    "    while i < len(nodes): # i in range(len(nodes)):\n",
    "        \n",
    "        if len(list(g.successors(nodes[i]))) == 0:\n",
    "            g.remove_node(nodes[i])            \n",
    "            del nodes[i]\n",
    "            i = 0\n",
    "            continue\n",
    "        i += 1\n",
    "            \n",
    "    if len(g.nodes()) != 0:\n",
    "        return False\n",
    "    \n",
    "    return True\n",
    "        # print(n)"
   ]
  },
  {
   "cell_type": "code",
   "execution_count": 75,
   "id": "134cc021-93cd-451b-abd7-03e7b8a12f6f",
   "metadata": {},
   "outputs": [],
   "source": [
    "g1 = nx.read_weighted_edgelist('acyclic1.edgelist', create_using=nx.DiGraph)\n",
    "g2 = nx.read_weighted_edgelist('acyclic2.edgelist', create_using=nx.DiGraph)\n",
    "g3 = nx.read_weighted_edgelist('acyclic3.edgelist', create_using=nx.DiGraph)"
   ]
  },
  {
   "cell_type": "code",
   "execution_count": 76,
   "id": "2e56b29d-2135-4102-84c4-ff58fdc8fc2a",
   "metadata": {},
   "outputs": [
    {
     "name": "stdout",
     "output_type": "stream",
     "text": [
      "Checking to see true answers:\n",
      "True\n",
      "True\n",
      "False\n"
     ]
    }
   ],
   "source": [
    "print('Checking to see true answers:')\n",
    "print(nx.is_directed_acyclic_graph(g1))\n",
    "print(nx.is_directed_acyclic_graph(g2))\n",
    "print(nx.is_directed_acyclic_graph(g3))"
   ]
  },
  {
   "cell_type": "code",
   "execution_count": 77,
   "id": "89af2d55-7216-4209-9e78-9d1390673a0d",
   "metadata": {},
   "outputs": [
    {
     "name": "stdout",
     "output_type": "stream",
     "text": [
      "HIGHLIGHTED QUESTION:- Implement the simple algorithm introduced in this section (as a new function) to determine whether a network is acyclic or not.\n",
      "Run your algorithm on the three networks supplied: acyclic1.edgelist, acyclic2.edgelist, and acyclic3.edgelist\n",
      "\n",
      "Predicted Answers:\n",
      "acyclic1: True\n",
      "acyclic2: True\n",
      "acyclic3: False\n"
     ]
    }
   ],
   "source": [
    "print('HIGHLIGHTED QUESTION:- Implement the simple algorithm introduced in this section (as a new function) to determine whether a network is acyclic or not.\\n'+\n",
    "      'Run your algorithm on the three networks supplied: acyclic1.edgelist, acyclic2.edgelist, and acyclic3.edgelist\\n')\n",
    "print('Predicted Answers:')\n",
    "print('acyclic1:', is_acyclic(g1))\n",
    "print('acyclic2:', is_acyclic(g2))\n",
    "print('acyclic3:', is_acyclic(g3))"
   ]
  },
  {
   "cell_type": "markdown",
   "id": "c1ac0f1e-251f-48f4-b220-cd35fb90835e",
   "metadata": {},
   "source": [
    "#### Section 6.5 Hypergraphs"
   ]
  },
  {
   "cell_type": "code",
   "execution_count": 79,
   "id": "f151c95b-f2fd-4ffe-9c3c-962c93290aae",
   "metadata": {},
   "outputs": [
    {
     "name": "stdout",
     "output_type": "stream",
     "text": [
      "These are graphs with hyperedges where a hyperedge is capable of joining more than two nodes at a time.\n"
     ]
    }
   ],
   "source": [
    "print('These are graphs with hyperedges where a hyperedge is capable of joining more than two nodes at a time.')"
   ]
  },
  {
   "cell_type": "markdown",
   "id": "756208b9-3658-44af-a436-06e9687e2199",
   "metadata": {
    "tags": []
   },
   "source": [
    "#### Section 6.6 Bipartite Networks"
   ]
  },
  {
   "cell_type": "code",
   "execution_count": 80,
   "id": "1ad041e3-1dca-45ef-9fcb-0a820ba0ed52",
   "metadata": {},
   "outputs": [],
   "source": [
    "B = nx.read_gml('2013-actor-movie-bipartite.gml','name')"
   ]
  },
  {
   "cell_type": "code",
   "execution_count": 82,
   "id": "831daf58-58c8-4869-9f4f-843f9b96b345",
   "metadata": {},
   "outputs": [],
   "source": [
    "g = bibliographic_coupling(B)"
   ]
  },
  {
   "cell_type": "code",
   "execution_count": 83,
   "id": "46ac7d1a-6c21-4234-9577-952ab876ec09",
   "metadata": {},
   "outputs": [
    {
     "name": "stdout",
     "output_type": "stream",
     "text": [
      "HIGHLIGHTED QUESTION:-If we wanted to find the one-mode projection of this bipartite network onto the actors/actresses, would we use cocitation\n",
      "or bibliographic coupling? Write a sentence to justify your choice\n",
      "\n",
      "We would use bibliographic coupling to find a one-mode projection of this graph since Actors are linked to Movies. The graph has two distinct types\n",
      "of nodes Actors and Nodes; so, we can create connections between actors by seeing which movies they have worked in together.\n"
     ]
    }
   ],
   "source": [
    "print('HIGHLIGHTED QUESTION:-If we wanted to find the one-mode projection of this bipartite network onto the actors/actresses, would we use cocitation\\n'+\n",
    "      'or bibliographic coupling? Write a sentence to justify your choice\\n')\n",
    "print('We would use bibliographic coupling to find a one-mode projection of this graph since Actors are linked to Movies. The graph has two distinct types\\n' +\n",
    "      'of nodes Actors and Nodes; so, we can create connections between actors by seeing which movies they have worked in together.')"
   ]
  },
  {
   "cell_type": "code",
   "execution_count": 84,
   "id": "d39266e9-816b-48e8-8e7f-6dd7dff15638",
   "metadata": {},
   "outputs": [
    {
     "name": "stdout",
     "output_type": "stream",
     "text": [
      "[[0. 0. 0. ... 0. 0. 0.]\n",
      " [0. 0. 0. ... 0. 0. 0.]\n",
      " [0. 0. 0. ... 0. 0. 0.]\n",
      " ...\n",
      " [0. 0. 0. ... 0. 0. 0.]\n",
      " [0. 0. 0. ... 0. 0. 0.]\n",
      " [0. 0. 0. ... 0. 0. 0.]]\n",
      "[[23.  0.  0. ...  0.  0.  0.]\n",
      " [ 0. 21.  0. ...  0.  0.  0.]\n",
      " [ 0.  0.  3. ...  0.  0.  0.]\n",
      " ...\n",
      " [ 0.  0.  0. ...  0.  0.  0.]\n",
      " [ 0.  0.  0. ...  0.  0.  0.]\n",
      " [ 0.  0.  0. ...  0.  0.  0.]]\n"
     ]
    }
   ],
   "source": [
    "A = nx.to_numpy_array(g).T\n",
    "print(A)\n",
    "P = np.dot(A, A.transpose())\n",
    "print(P)"
   ]
  },
  {
   "cell_type": "code",
   "execution_count": 87,
   "id": "b3af32b1-f087-4fb6-81f9-c0ccbfc15329",
   "metadata": {},
   "outputs": [
    {
     "name": "stdout",
     "output_type": "stream",
     "text": [
      "HIGHLIGHTED QUESTION:- Will Ferrell and Jason Statham. Print out their immediate neighbors in the one-mode projection\n",
      "\n",
      "WILL FERREL: ['Brad Pitt', 'Matt Damon', 'Bradley Cooper', 'Mark Wahlberg', 'Melissa McCarthy', 'Ben Affleck', 'Dwayne Johnson', 'Natalie Portman', 'Tina Fey', 'Steve Carell', 'Seth Rogen', 'Amy Adams', 'Ben Stiller', 'Jonah Hill', 'Paul Rudd', 'Julianne Moore', 'Rachel McAdams', 'Kristen Wiig', 'Owen Wilson', 'Jason Bateman']\n",
      "JASON STATHAM: ['Brad Pitt', 'Tom Cruise', 'Mark Wahlberg', 'Robert De Niro', 'Javier Bardem', 'Chris Evans', 'Charlize Theron', 'Bruce Willis', 'Jamie Foxx', 'Sylvester Stallone', 'Liam Hemsworth']\n"
     ]
    }
   ],
   "source": [
    "print('HIGHLIGHTED QUESTION:- Will Ferrell and Jason Statham. Print out their immediate neighbors in the one-mode projection\\n')\n",
    "print(f\"WILL FERREL: {list(g.neighbors('Will Ferrell'))}\")\n",
    "print(f\"JASON STATHAM: {list(g.neighbors('Jason Statham'))}\")\n"
   ]
  },
  {
   "cell_type": "code",
   "execution_count": 89,
   "id": "2af7f9d3-95ca-4f99-8340-40367937efca",
   "metadata": {},
   "outputs": [
    {
     "name": "stdout",
     "output_type": "stream",
     "text": [
      "HIGHLIGHTED QUESTION:- Suppose you don't know who Will Ferrell and Jason Statham are - how could you use this information about their neighbors\n",
      "in the one-mode projection to learn more about them?\n",
      "\n",
      "You can use this information to learn the names of people linked to Will Ferrel and Jason Statham, so if you recognize any of the names linked to\n",
      "them then you could see that they are all names of actors/actresses that know each other by having worked together.\n"
     ]
    }
   ],
   "source": [
    "print(\"HIGHLIGHTED QUESTION:- Suppose you don't know who Will Ferrell and Jason Statham are - how could you use this information about their neighbors\\n\"+\n",
    "      \"in the one-mode projection to learn more about them?\\n\")      \n",
    "\n",
    "print('You can use this information to learn the names of people linked to Will Ferrel and Jason Statham, so if you recognize any of the names linked to\\n'+\n",
    "      'them then you could see that they are all names of actors/actresses that know each other by having worked together.')"
   ]
  },
  {
   "cell_type": "code",
   "execution_count": 90,
   "id": "16aaa518-c47c-4909-8674-cf9691e007ee",
   "metadata": {},
   "outputs": [
    {
     "name": "stdout",
     "output_type": "stream",
     "text": [
      "HIGHLIGHTED QUESTION:- What are the number of neighbors of newcomers like Zac Efron and old-timers like Clint Eastwood?\n",
      "Is it surprising that they have low degrees in this network?\n",
      "\n",
      "ZAC EFRON worked with 1 actor(s)/actress(es): ['Robert De Niro']\n",
      "CLINT EASTWOOD EFRON worked with 1 actor(s)/actress(es): ['Meryl Streep']\n",
      "\n",
      "Since they are new and old comers it is not surprising that in 2013 these actors did not have as many connections/degrees in the network because\n",
      "they did not work on a lot of movies at this time due to them being new and not having as many opportunities, or being past their move-making prime.\n"
     ]
    }
   ],
   "source": [
    "print('HIGHLIGHTED QUESTION:- What are the number of neighbors of newcomers like Zac Efron and old-timers like Clint Eastwood?\\n'+\n",
    "      'Is it surprising that they have low degrees in this network?\\n')\n",
    "      \n",
    "print(f\"ZAC EFRON worked with {len(list(g.neighbors('Zac Efron')))} actor(s)/actress(es): {list(g.neighbors('Zac Efron'))}\")      \n",
    "print(f\"CLINT EASTWOOD EFRON worked with {len(list(g.neighbors('Clint Eastwood')))} actor(s)/actress(es): {list(g.neighbors('Clint Eastwood'))}\")      \n",
    "\n",
    "print()\n",
    "      \n",
    "print('Since they are new and old comers it is not surprising that in 2013 these actors did not have as many connections/degrees in the network because\\n' +\n",
    "      'they did not work on a lot of movies at this time due to them being new and not having as many opportunities, or being past their move-making prime.')"
   ]
  },
  {
   "cell_type": "markdown",
   "id": "43ffaed0-4456-4e50-8c2c-cf92cf80361c",
   "metadata": {},
   "source": [
    "#### Section 6.7 Trees"
   ]
  },
  {
   "cell_type": "code",
   "execution_count": 93,
   "id": "dd77c375-1d87-450f-a39c-9a615d89f6e5",
   "metadata": {},
   "outputs": [
    {
     "name": "stdout",
     "output_type": "stream",
     "text": [
      "HIGHLIGHTED QUESTION:-  Describe how a directed tree is different from an acyclic network\n",
      "A directed tree can only have one path to the vertices it is legally allowed to visit, whereas an acyclic network can have multiple paths from one vertex\n",
      "to another. A directed tree must also have n-1 edges, whereas an acyclic network is not restricted by these bounds.\n"
     ]
    }
   ],
   "source": [
    "print('HIGHLIGHTED QUESTION:-  Describe how a directed tree is different from an acyclic network')\n",
    "print('A directed tree can only have one path to the vertices it is legally allowed to visit, whereas an acyclic network can have multiple paths from one vertex\\n'+\n",
    "      'to another. A directed tree must also have n-1 edges, whereas an acyclic network is not restricted by these bounds.')"
   ]
  },
  {
   "cell_type": "code",
   "execution_count": 95,
   "id": "2a8c7f6e-d62d-4db8-829a-9742422cf3cb",
   "metadata": {},
   "outputs": [
    {
     "name": "stdout",
     "output_type": "stream",
     "text": [
      "HIGHLITED QUESTIONS:- Draw a 7 node directed acyclic graph that is not a directed tree, then highlight which edges you would need to remove\n",
      "to make the graph a directed tree. Draw this graph so that all edges are pointing downwards or sideways. Is this set of edges always unique?\n",
      "\n",
      "The graph depicts a directed tree in green and the blue edge weight is what it would be if it was an acyclic graph.\n",
      "If we remove the blue edge we get a directed tree. If we are talking about the acyclic graph, this set of edges is not always unique.\n",
      "We could have drawn the blue edge between the bottom two leaves instead and still acheived the same result.\n"
     ]
    }
   ],
   "source": [
    "print('HIGHLITED QUESTIONS:- Draw a 7 node directed acyclic graph that is not a directed tree, then highlight which edges you would need to remove\\n'+\n",
    "      'to make the graph a directed tree. Draw this graph so that all edges are pointing downwards or sideways. Is this set of edges always unique?\\n')\n",
    "\n",
    "print('The graph depicts a directed tree in green and the blue edge weight is what it would be if it was an acyclic graph.\\n'+\n",
    "      'If we remove the blue edge we get a directed tree. If we are talking about the acyclic graph, this set of edges is not always unique.\\n'+\n",
    "      'We could have drawn the blue edge between the bottom two leaves instead and still acheived the same result.')"
   ]
  },
  {
   "attachments": {
    "3cabfae1-eae7-46ee-a280-4e28cd9b42ed.png": {
     "image/png": "[encoded data removed]"
    }
   },
   "cell_type": "markdown",
   "id": "ab8d3675-c34d-4ee2-851c-fd1be756a7b2",
   "metadata": {},
   "source": [
    "![img.png](attachment:3cabfae1-eae7-46ee-a280-4e28cd9b42ed.png)"
   ]
  },
  {
   "cell_type": "markdown",
   "id": "d6f3cbba-a998-4037-af85-f9f9955cb054",
   "metadata": {},
   "source": [
    "#### Section 6.8 Planar Networks"
   ]
  },
  {
   "cell_type": "code",
   "execution_count": 96,
   "id": "6ca9d26d-a7c9-4908-b6ad-cb798495d281",
   "metadata": {},
   "outputs": [
    {
     "name": "stdout",
     "output_type": "stream",
     "text": [
      "Cool fact: A graph can be planar but still have edges that cross each other. If it can be drawn such that edges do not cross, then it is planar.\n"
     ]
    }
   ],
   "source": [
    "print('Cool fact: A graph can be planar but still have edges that cross each other. If it can be drawn such that edges do not cross, then it is planar.')"
   ]
  },
  {
   "cell_type": "code",
   "execution_count": null,
   "id": "3bf2c8d8-d3d3-4d09-a10c-679a2ec8657f",
   "metadata": {},
   "outputs": [],
   "source": []
  }
 ],
 "metadata": {
  "kernelspec": {
   "display_name": "Python 3 (ipykernel)",
   "language": "python",
   "name": "python3"
  },
  "language_info": {
   "codemirror_mode": {
    "name": "ipython",
    "version": 3
   },
   "file_extension": ".py",
   "mimetype": "text/x-python",
   "name": "python",
   "nbconvert_exporter": "python",
   "pygments_lexer": "ipython3",
   "version": "3.9.13"
  }
 },
 "nbformat": 4,
 "nbformat_minor": 5
}
