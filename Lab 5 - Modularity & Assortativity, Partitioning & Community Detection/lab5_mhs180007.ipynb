{
 "cells": [
  {
   "cell_type": "markdown",
   "metadata": {},
   "source": [
    "Humza Salman mhs180007"
   ]
  },
  {
   "cell_type": "code",
   "execution_count": 2,
   "metadata": {},
   "outputs": [],
   "source": [
    "import networkx as nx\n",
    "import networkx.algorithms.community as nx_comm\n",
    "from numpy import zeros, dot, array\n",
    "import pickle\n",
    "import matplotlib.pyplot as plt\n",
    "import json\n",
    "import string\n",
    "import time\n",
    "import regex as re"
   ]
  },
  {
   "cell_type": "markdown",
   "metadata": {},
   "source": [
    "## Section 7.13: Modularity\n",
    "\n",
    "The first function below calculates modularity for *directed* networks and also returns the maximum modularity value $Q_{\\text{max}}$ (NetworkX's modularity function does not report the $Q_{\\text{max}}$ value). The second function calculates scalar assortativity (NetworkX's assortativity functions differ from our book definition). "
   ]
  },
  {
   "cell_type": "code",
   "execution_count": 3,
   "metadata": {},
   "outputs": [],
   "source": [
    "def modularity(G,c):\n",
    "    d = dict()\n",
    "    for k,v in enumerate(c):\n",
    "        for n in v:\n",
    "            d[n] = k\n",
    "    L = 0\n",
    "    for u,v,data in G.edges.data():\n",
    "        L += data['weight']\n",
    "    Q, Qmax = 0,1\n",
    "    for u in G.nodes():\n",
    "        for v in G.nodes():\n",
    "            if d[u] == d[v]:\n",
    "                Auv = 0\n",
    "                if G.has_edge(v,u):\n",
    "                    Auv = G[v][u]['weight']\n",
    "                Q += ( Auv - G.in_degree(u,weight='weight')*G.out_degree(v,weight='weight')/L )/L\n",
    "                Qmax -= ( G.in_degree(u,weight='weight')*G.out_degree(v,weight='weight')/L )/L\n",
    "    return Q, Qmax\n",
    "\n",
    "def scalar_assortativity(G,d):\n",
    "    x = zeros(G.number_of_nodes())\n",
    "    for i,n in enumerate(G.nodes()):\n",
    "        x[i] = d[n]\n",
    "\n",
    "    A = array(nx.adjacency_matrix(G).todense().T)\n",
    "    M = 2*A.sum().sum()\n",
    "    ki = A.sum(axis=1) #row sum is in-degree\n",
    "    ko = A.sum(axis=0) #column sum is out-degree\n",
    "    mu = ( dot(ki,x)+dot(ko,x) )/M\n",
    "\n",
    "    R, Rmax = 0, 0\n",
    "    for i in range(G.number_of_nodes()):\n",
    "        for j in range(G.number_of_nodes()):\n",
    "             R += ( A[i,j]*(x[i]-mu)*(x[j]-mu) )/M\n",
    "             Rmax += ( A[i,j]*(x[i]-mu)**2 )/M\n",
    "\n",
    "    return R, Rmax"
   ]
  },
  {
   "cell_type": "code",
   "execution_count": 4,
   "metadata": {},
   "outputs": [
    {
     "name": "stdout",
     "output_type": "stream",
     "text": [
      "FIFA exports by geographic region is assortatively mixed: 0.1200/0.5505\n",
      "FIFA exports by importers/exporters is disassortatively mixed: -0.0185/0.5748\n"
     ]
    }
   ],
   "source": [
    "G = nx.read_weighted_edgelist('fifa1998.edgelist',create_using=nx.DiGraph)\n",
    "\n",
    "c = {\n",
    "    'group1': {'Argentina','Brazil','Chile','Mexico','Colombia','Jamaica','Paraguay'},\n",
    "    'group2': {'Japan','SouthKorea'},\n",
    "    'group3': {'UnitedStates'},\n",
    "    'group4': {'Nigeria','Morocco','SouthAfrica','Cameroon','Tunisia','Iran','Turkey'},\n",
    "    'group5': {'Scotland','Belgium','Austria','Germany','Denmark','Spain','France','GreatBritain','Greece','Netherlands','Norway','Portugal','Italy','Yugoslavia','Romania','Bulgaria','Croatia','Switzerland'}\n",
    "    }\n",
    "Q, Qmax = modularity(G,c.values())\n",
    "print('FIFA exports by geographic region is assortatively mixed: %1.4f/%1.4f' % (Q,Qmax))\n",
    "\n",
    "c = {\n",
    "    'exporters': {'Argentina','Brazil','Chile','Colombia','Mexico','Scotland','Belgium','Austria','Denmark','France','Greece','Netherlands','Portugal','Yugoslavia','Croatia','Jamaica','Cameroon','Nigeria','Morocco','Tunisia'},\n",
    "    'importers': {'Paraguay','SouthKorea','UnitedStates','SouthAfrica','Iran','Turkey','Germany','Spain','GreatBritain','Norway','Italy','Romania','Bulgaria','Switzerland','Japan'}\n",
    "    }\n",
    "Q, Qmax = modularity(G,c.values())\n",
    "print('FIFA exports by importers/exporters is disassortatively mixed: %1.4f/%1.4f' % (Q,Qmax))"
   ]
  },
  {
   "cell_type": "code",
   "execution_count": 5,
   "metadata": {},
   "outputs": [
    {
     "name": "stdout",
     "output_type": "stream",
     "text": [
      "HIGHLIGHTED QUESTION -  Write a few sentences describing why you see the values you get.\n",
      "We see that FIFA exports by geogrpahic region is assortatively mixed because players are likely to play within their own geographic region.\n",
      "We see that FIFA exports by importers/exporters is disassortatively mixed because players are likely to play with other countries rather than their own.\n"
     ]
    }
   ],
   "source": [
    "print('HIGHLIGHTED QUESTION -  Write a few sentences describing why you see the values you get.')\n",
    "print('We see that FIFA exports by geogrpahic region is assortatively mixed because players are likely to play within their own geographic region.')\n",
    "print('We see that FIFA exports by importers/exporters is disassortatively mixed because players are likely to play with other countries rather than their own.')"
   ]
  },
  {
   "cell_type": "markdown",
   "metadata": {},
   "source": [
    "## Section 7.13: Assortativity"
   ]
  },
  {
   "cell_type": "code",
   "execution_count": 6,
   "metadata": {},
   "outputs": [
    {
     "name": "stderr",
     "output_type": "stream",
     "text": [
      "C:\\Users\\Humza\\AppData\\Local\\Temp\\ipykernel_12512\\906063264.py:25: FutureWarning: adjacency_matrix will return a scipy.sparse array instead of a matrix in Networkx 3.0.\n",
      "  A = array(nx.adjacency_matrix(G).todense().T)\n"
     ]
    },
    {
     "name": "stdout",
     "output_type": "stream",
     "text": [
      "Assortativity by GDP: -0.0005\n",
      "Assortativity by life expectancy: 0.1281\n"
     ]
    },
    {
     "name": "stderr",
     "output_type": "stream",
     "text": [
      "C:\\Users\\Humza\\AppData\\Local\\Temp\\ipykernel_12512\\906063264.py:25: FutureWarning: adjacency_matrix will return a scipy.sparse array instead of a matrix in Networkx 3.0.\n",
      "  A = array(nx.adjacency_matrix(G).todense().T)\n"
     ]
    },
    {
     "name": "stdout",
     "output_type": "stream",
     "text": [
      "Assortativity by tariff: 0.1191\n"
     ]
    }
   ],
   "source": [
    "gdp = pickle.load(open('gdp.pkl','rb'))\n",
    "life_expectancy = pickle.load(open('life_expectancy.pkl','rb'))\n",
    "tariff = pickle.load(open('tariff.pkl','rb'))\n",
    "\n",
    "G = nx.read_weighted_edgelist('world_trade_2014.edgelist',create_using=nx.DiGraph)\n",
    "\n",
    "R, Rmax = scalar_assortativity(G,gdp)\n",
    "print('Assortativity by GDP: %1.4f' % (R/Rmax))\n",
    "R, Rmax =  scalar_assortativity(G,life_expectancy)\n",
    "print('Assortativity by life expectancy: %1.4f' % (R/Rmax))\n",
    "R, Rmax =  scalar_assortativity(G,tariff)\n",
    "print('Assortativity by tariff: %1.4f' % (R/Rmax))"
   ]
  },
  {
   "cell_type": "code",
   "execution_count": 7,
   "metadata": {},
   "outputs": [
    {
     "name": "stdout",
     "output_type": "stream",
     "text": [
      "HIGHLIGHTED QUESTION - Again, write a few sentences to describe what these values tell you about the world trade system and reason why these attributes might be assortative, disassortative, or neither.\n",
      "Assortativity by GDP is disassortatively mixed which could be because a high GDP country might be connected to multiple other low GDP countries and vice versa. It is very close to 0 (randomly mixed) which tells us that GDP is not the biggest determiner of trade.\n",
      "Assortativity by life expectancy is assoratatively mixed which could be because countries with higher life expectancy are likely to be more developed and hence want goods and services from each other.\n",
      "Assortativity by tariff is assortatively mixed which could be because countries may not want high tariffs applied to their trade, so deciding trade based on tariff makes sense to keep prices low\n"
     ]
    }
   ],
   "source": [
    "print('HIGHLIGHTED QUESTION - Again, write a few sentences to describe what these values tell you about the world trade system and reason why these attributes might be assortative, disassortative, or neither.')\n",
    "print('Assortativity by GDP is disassortatively mixed which could be because a high GDP country might be connected to multiple other low GDP countries and vice versa. It is very close to 0 (randomly mixed) which tells us that GDP is not the biggest determiner of trade.')\n",
    "print('Assortativity by life expectancy is assoratatively mixed which could be because countries with higher life expectancy are likely to be more developed and hence want goods and services from each other.')\n",
    "print('Assortativity by tariff is assortatively mixed which could be because countries may not want high tariffs applied to their trade, so deciding trade based on tariff makes sense to keep prices low')"
   ]
  },
  {
   "cell_type": "code",
   "execution_count": 8,
   "metadata": {},
   "outputs": [
    {
     "name": "stdout",
     "output_type": "stream",
     "text": [
      "HIGHLIGHTED QUESTION -  Do this algebraic activity to show the following simplification\n"
     ]
    }
   ],
   "source": [
    "print('HIGHLIGHTED QUESTION -  Do this algebraic activity to show the following simplification')"
   ]
  },
  {
   "attachments": {},
   "cell_type": "markdown",
   "metadata": {},
   "source": [
    "!['image'](./simplification_of_assortativity_statistic_R.png)"
   ]
  },
  {
   "cell_type": "markdown",
   "metadata": {
    "tags": []
   },
   "source": [
    "## Section 11.2 - 11.11 Partitioning & Community Detection"
   ]
  },
  {
   "cell_type": "code",
   "execution_count": 9,
   "metadata": {},
   "outputs": [
    {
     "name": "stdout",
     "output_type": "stream",
     "text": [
      "HIGHLIGHTED QUESTION - diagram an example in which the cut set size must increase before it decreases to a value smaller than the original.\n"
     ]
    }
   ],
   "source": [
    "print('HIGHLIGHTED QUESTION - diagram an example in which the cut set size must increase before it decreases to a value smaller than the original.')"
   ]
  },
  {
   "cell_type": "markdown",
   "metadata": {},
   "source": [
    "!['image'](./Kernighan-Lin_algorithm_example.png)"
   ]
  },
  {
   "cell_type": "code",
   "execution_count": 10,
   "metadata": {},
   "outputs": [
    {
     "name": "stdout",
     "output_type": "stream",
     "text": [
      "HIGHLIGHTED QUESTION - Show that the modularity matrix satisfies the following summation property: ∑j=1:n Bij=0 where Bij=Aij−(kikj)/(2m)\n"
     ]
    }
   ],
   "source": [
    "print('HIGHLIGHTED QUESTION - Show that the modularity matrix satisfies the following summation property: ∑j=1:n Bij=0 where Bij=Aij−(kikj)/(2m)')"
   ]
  },
  {
   "attachments": {},
   "cell_type": "markdown",
   "metadata": {},
   "source": [
    "!['image'](./modularity_matrix_summation_property.png)"
   ]
  },
  {
   "cell_type": "markdown",
   "metadata": {},
   "source": [
    "### Community Detection in Practice"
   ]
  },
  {
   "cell_type": "code",
   "execution_count": 10,
   "metadata": {},
   "outputs": [
    {
     "name": "stdout",
     "output_type": "stream",
     "text": [
      "HIGHLIGHTED QUESTION -  Think through why linking hashtags that co-occur in tweets could give us a way of finding groups of hashtags with similar meanings. Find two tweets in the provided dataset that support this idea. Find one that doesn't (and explain why).\n"
     ]
    }
   ],
   "source": [
    "print('HIGHLIGHTED QUESTION -  Think through why linking hashtags that co-occur in tweets could give us a way of finding groups of hashtags with similar meanings. Find two tweets in the provided dataset that support this idea. Find one that doesn\\'t (and explain why).')"
   ]
  },
  {
   "cell_type": "code",
   "execution_count": 11,
   "metadata": {},
   "outputs": [
    {
     "name": "stdout",
     "output_type": "stream",
     "text": [
      "{\"created_at\":\"Thu Nov 26 21:31:13 +0000 2015\",\"lang\":\"en\",\"text\":\"RT @OrganicLiveFood: 37 millions bees found dead in Canada after planting #GMOs treated w #neonicotinoid class of #pesticides https://t.co/…\"}\n",
      "{\"created_at\":\"Thu Nov 26 21:31:13 +0000 2015\",\"lang\":\"en\",\"text\":\"bernadine is currently Live Free Chat https://t.co/rl6xP0iJKx #filipina #pinay #philippines https://t.co/pvt1KzcrGn\"}\n",
      "{\"created_at\":\"Thu Nov 26 21:31:14 +0000 2015\",\"lang\":\"en\",\"text\":\"Hey @TheMagP1 I want one of those #PiZero but MagPi#40 is out of stock. Cannot live without {it | thing | card | computer | ... }\"}\n",
      "\n",
      "Here we see the first two tweets contain hashtags that are related to each other in terms of topics and similarity, however the third tweet contains #PiZero which references a dish and #40 references a number. So, we see that co-occuring hashtags in a single tweet can be used to identify topics that are related to each other, but that may not always be the case if the hashtags do not contain useful information.\n"
     ]
    }
   ],
   "source": [
    "print('{\"created_at\":\"Thu Nov 26 21:31:13 +0000 2015\",\"lang\":\"en\",\"text\":\"RT @OrganicLiveFood: 37 millions bees found dead in Canada after planting #GMOs treated w #neonicotinoid class of #pesticides https://t.co/…\"}')\n",
    "print('{\"created_at\":\"Thu Nov 26 21:31:13 +0000 2015\",\"lang\":\"en\",\"text\":\"bernadine is currently Live Free Chat https://t.co/rl6xP0iJKx #filipina #pinay #philippines https://t.co/pvt1KzcrGn\"}')\n",
    "print('{\"created_at\":\"Thu Nov 26 21:31:14 +0000 2015\",\"lang\":\"en\",\"text\":\"Hey @TheMagP1 I want one of those #PiZero but MagPi#40 is out of stock. Cannot live without {it | thing | card | computer | ... }\"}')\n",
    "\n",
    "print()\n",
    "print('Here we see the first two tweets contain hashtags that are related to each other in terms of topics and similarity, however the third tweet contains #PiZero which references a dish and #40 references a number. So, we see that co-occuring hashtags in a single tweet can be used to identify topics that are related to each other, but that may not always be the case if the hashtags do not contain useful information.')"
   ]
  },
  {
   "cell_type": "markdown",
   "metadata": {},
   "source": [
    "#### 1. Identifying co-occurring hashtags in the data"
   ]
  },
  {
   "cell_type": "code",
   "execution_count": 12,
   "metadata": {},
   "outputs": [],
   "source": [
    "# ##foggy!Living in Dallas #awesome. -- should output #foggy and #awesome"
   ]
  },
  {
   "cell_type": "code",
   "execution_count": 13,
   "metadata": {},
   "outputs": [
    {
     "name": "stdout",
     "output_type": "stream",
     "text": [
      "HIGHLIGHTED QUESTION - What does it mean if this file has empty lines?\n",
      "It means that a specific tweet did not have hashtags used, but in my hashtags_sets.txt file I do not have empty lines because I take care of them in pre-processing before I output.\n"
     ]
    }
   ],
   "source": [
    "print('HIGHLIGHTED QUESTION - What does it mean if this file has empty lines?')\n",
    "print('It means that a specific tweet did not have hashtags used, but in my hashtags_sets.txt file I do not have empty lines because I take care of them in pre-processing before I output.')"
   ]
  },
  {
   "cell_type": "code",
   "execution_count": 14,
   "metadata": {},
   "outputs": [],
   "source": [
    "# \\p{L} will match all unicode characters \n",
    "# \\p{N} will match all unicode digits\n",
    "# [\\p{L}\\p{N}] will match any character present in this list\n",
    "# [\\p{L}\\p{N}]+ will match any character present in this list from one to as many times as it appears\n",
    "# #([\\p{L}\\p{N}]+)' will match any character present in unicode characters andor digits at least once and create a grouping around the word so it does not incldue the hashtag when we findall\n",
    "\n",
    "pattern = r'#([\\p{L}\\p{N}]+)' "
   ]
  },
  {
   "cell_type": "code",
   "execution_count": 15,
   "metadata": {
    "tags": []
   },
   "outputs": [],
   "source": [
    "with open(\"raw_twitter.json\", \"r\", encoding='utf-8') as f:\n",
    "    with open('hashtag_sets.txt', 'w', encoding='utf-8') as fout:\n",
    "        for line in f:\n",
    "            if not line.strip():\n",
    "                continue\n",
    "\n",
    "            data = json.loads(line.strip())\n",
    "            \n",
    "            tweet = data['text']\n",
    "            \n",
    "            hashtags = re.findall(pattern, tweet)\n",
    "            \n",
    "            # hashtag pattern found in tweet\n",
    "            if len(hashtags) != 0: \n",
    "                result = ' '.join(hashtags)\n",
    "                fout.write(result+'\\n')"
   ]
  },
  {
   "cell_type": "markdown",
   "metadata": {},
   "source": [
    "#### 2. Building a network from the co-occuring hashtags"
   ]
  },
  {
   "cell_type": "code",
   "execution_count": 16,
   "metadata": {},
   "outputs": [
    {
     "name": "stdout",
     "output_type": "stream",
     "text": [
      "HIGHLIGHTED QUESTION -- How do we interpret this file as a (hypergraph) network? Why don't we just analyze the hypergraph? \n",
      "We can take each line as a hyperedge between the hashtags present within that line. This wouldn't be particulary useful to analyze since hypergraphs can't account for weights and also they are confusing.\n"
     ]
    }
   ],
   "source": [
    "print('HIGHLIGHTED QUESTION -- How do we interpret this file as a (hypergraph) network? Why don\\'t we just analyze the hypergraph? ')\n",
    "print('We can take each line as a hyperedge between the hashtags present within that line. This wouldn\\'t be particulary useful to analyze since hypergraphs can\\'t account for weights and also they are confusing.')"
   ]
  },
  {
   "cell_type": "code",
   "execution_count": 17,
   "metadata": {},
   "outputs": [],
   "source": [
    "G = nx.Graph()"
   ]
  },
  {
   "cell_type": "code",
   "execution_count": 18,
   "metadata": {},
   "outputs": [],
   "source": [
    "with open(\"hashtag_sets.txt\", \"r\", encoding='utf-8') as f:\n",
    "    hashtags = [line.strip().split() for line in f]\n",
    "        \n",
    "            "
   ]
  },
  {
   "cell_type": "code",
   "execution_count": 19,
   "metadata": {
    "tags": []
   },
   "outputs": [
    {
     "name": "stdout",
     "output_type": "stream",
     "text": [
      "['Simone', 'GF14']\n"
     ]
    }
   ],
   "source": [
    "print(hashtags[0])"
   ]
  },
  {
   "cell_type": "code",
   "execution_count": 20,
   "metadata": {},
   "outputs": [],
   "source": [
    "hashtags = [[w.lower() for w in tags] for tags in hashtags]"
   ]
  },
  {
   "cell_type": "code",
   "execution_count": 21,
   "metadata": {},
   "outputs": [
    {
     "name": "stdout",
     "output_type": "stream",
     "text": [
      "['podemos']\n"
     ]
    }
   ],
   "source": [
    "print(hashtags[1])"
   ]
  },
  {
   "cell_type": "code",
   "execution_count": 22,
   "metadata": {},
   "outputs": [],
   "source": [
    "for tweet in hashtags:\n",
    "    for tag in tweet:\n",
    "        G.add_node(tag)"
   ]
  },
  {
   "cell_type": "code",
   "execution_count": 23,
   "metadata": {},
   "outputs": [
    {
     "name": "stdout",
     "output_type": "stream",
     "text": [
      "72379\n"
     ]
    }
   ],
   "source": [
    "print(G.number_of_nodes())"
   ]
  },
  {
   "cell_type": "code",
   "execution_count": 24,
   "metadata": {},
   "outputs": [],
   "source": [
    "for tweet in hashtags:\n",
    "    for i in range(len(tweet)):\n",
    "        for j in range(i+1, len(tweet)):\n",
    "            if G.has_edge(tweet[i], tweet[j]):\n",
    "                G[tweet[i]][tweet[j]]['weight'] += 1\n",
    "            else:\n",
    "                G.add_edge(tweet[i], tweet[j], weight=1)"
   ]
  },
  {
   "cell_type": "code",
   "execution_count": 25,
   "metadata": {},
   "outputs": [],
   "source": [
    "nx.write_weighted_edgelist(G, 'hashtags.edgelist')"
   ]
  },
  {
   "cell_type": "code",
   "execution_count": 26,
   "metadata": {},
   "outputs": [
    {
     "name": "stdout",
     "output_type": "stream",
     "text": [
      "72379\n",
      "147860\n"
     ]
    }
   ],
   "source": [
    "print(G.number_of_nodes())\n",
    "print(G.number_of_edges())"
   ]
  },
  {
   "cell_type": "markdown",
   "metadata": {},
   "source": [
    "#### 3. Detecting communities in the network"
   ]
  },
  {
   "cell_type": "code",
   "execution_count": 27,
   "metadata": {},
   "outputs": [],
   "source": [
    "LG = nx.read_weighted_edgelist('hashtags.edgelist',create_using=nx.Graph)"
   ]
  },
  {
   "cell_type": "code",
   "execution_count": 28,
   "metadata": {},
   "outputs": [
    {
     "name": "stdout",
     "output_type": "stream",
     "text": [
      "51756\n",
      "147860\n"
     ]
    }
   ],
   "source": [
    "print(LG.number_of_nodes())\n",
    "print(LG.number_of_edges())"
   ]
  },
  {
   "cell_type": "code",
   "execution_count": 29,
   "metadata": {},
   "outputs": [
    {
     "name": "stdout",
     "output_type": "stream",
     "text": [
      "I investigated the reason for why the number of nodes is lower but the number of edges remains the same whenever I compare the original graph I created vs the one I loaded in. This happens because write_weighted_edgelist will not account for nodes that have no edges, so they don't get written to the file.\n"
     ]
    }
   ],
   "source": [
    "print('I investigated the reason for why the number of nodes is lower but the number of edges remains the same whenever I compare the original graph I created vs the one I loaded in. This happens because write_weighted_edgelist will not account for nodes that have no edges, so they don\\'t get written to the file.')"
   ]
  },
  {
   "cell_type": "code",
   "execution_count": 30,
   "metadata": {},
   "outputs": [],
   "source": [
    "cset = list(nx_comm.label_propagation_communities(LG))"
   ]
  },
  {
   "cell_type": "code",
   "execution_count": 31,
   "metadata": {},
   "outputs": [
    {
     "name": "stdout",
     "output_type": "stream",
     "text": [
      "10500\n"
     ]
    }
   ],
   "source": [
    "biggest = 0\n",
    "for comm in cset:\n",
    "    if biggest < len(comm):\n",
    "        biggest = len(comm)\n",
    "        \n",
    "print(biggest)"
   ]
  },
  {
   "cell_type": "markdown",
   "metadata": {},
   "source": [
    "#### 4. Finding the most meaningful communities"
   ]
  },
  {
   "cell_type": "code",
   "execution_count": 33,
   "metadata": {},
   "outputs": [],
   "source": [
    "def plot_communities(G, weight_threshold=0, component_size_threshold=0):\n",
    "    \n",
    "    # accumulate edges to remove\n",
    "    remove_edges = []\n",
    "    for u, v, weight in G.edges(data=\"weight\"):\n",
    "        if weight < weight_threshold: # only consider edges with weights greater than threshold\n",
    "            remove_edges.append((u, v))\n",
    "            \n",
    "    # remove edges        \n",
    "    G.remove_edges_from(remove_edges)\n",
    "            \n",
    "    # get components\n",
    "    components = list(nx.connected_components(G))\n",
    "    \n",
    "    # accumulate nodes in small components\n",
    "    small_component_nodes = []\n",
    "    for comp in components:\n",
    "        if len(comp) < component_size_threshold: # only consider components with size greater than threshold\n",
    "            for n in comp:\n",
    "                small_component_nodes.append(n)\n",
    "    \n",
    "    # remove nodes from original graph\n",
    "    G.remove_nodes_from(small_component_nodes)\n",
    "    \n",
    "    # label propagation communities\n",
    "    prop_comm = list(nx_comm.label_propagation_communities(G))\n",
    "    \n",
    "    # get sizes of each community\n",
    "    comm_sizes = [len(i) for i in prop_comm]\n",
    "    \n",
    "    # plot histogram of communities\n",
    "    plt.hist(comm_sizes,20, edgecolor='black', linewidth=1.2)\n",
    "    plt.xlabel('community sizes')\n",
    "    plt.ylabel('frequency')\n",
    "    plt.show()\n",
    "    \n",
    "    with open(f'htag_communities_w{weight_threshold}_c{component_size_threshold}.txt', 'w', encoding='utf-8') as fout:\n",
    "        for comm in prop_comm:\n",
    "            fout.write(str(comm)+'\\n\\n')"
   ]
  },
  {
   "cell_type": "code",
   "execution_count": 34,
   "metadata": {},
   "outputs": [
    {
     "name": "stdout",
     "output_type": "stream",
     "text": [
      "HIGHLIGHTED QUESTION -  What does it mean to ignore low weighted edges (in terms of tweets/hashtags)? As we raise the threshold higher and higher, what does the network represent?\n",
      "When we ignore low weighted edges, we are essentially saying that certain hashtags that co-occur in tweets at a low frequency should not be considered in our community detection algorithm. As we raise the threshold higher and higher, the network represents only those hashtags that are very popular and occur with each other.\n"
     ]
    }
   ],
   "source": [
    "print('HIGHLIGHTED QUESTION -  What does it mean to ignore low weighted edges (in terms of tweets/hashtags)? As we raise the threshold higher and higher, what does the network represent?')\n",
    "print('When we ignore low weighted edges, we are essentially saying that certain hashtags that co-occur in tweets at a low frequency should not be considered in our community detection algorithm. As we raise the threshold higher and higher, the network represents only those hashtags that are very popular and occur with each other.')"
   ]
  },
  {
   "cell_type": "code",
   "execution_count": 35,
   "metadata": {},
   "outputs": [],
   "source": [
    "# read in graph from hashtags edgelist\n",
    "LG = nx.read_weighted_edgelist('hashtags.edgelist',create_using=nx.Graph)"
   ]
  },
  {
   "cell_type": "code",
   "execution_count": 37,
   "metadata": {},
   "outputs": [
    {
     "name": "stdout",
     "output_type": "stream",
     "text": [
      "HIGHLIGHTED QUESTION -  plot a histogram of the distribution in community sizes.\n"
     ]
    },
    {
     "data": {
      "image/png": "[encoded data removed]",
      "text/plain": [
       "<Figure size 640x480 with 1 Axes>"
      ]
     },
     "metadata": {},
     "output_type": "display_data"
    }
   ],
   "source": [
    "print('HIGHLIGHTED QUESTION -  plot a histogram of the distribution in community sizes.')\n",
    "plot_communities(LG.copy(), weight_threshold=10, component_size_threshold=10)"
   ]
  },
  {
   "cell_type": "code",
   "execution_count": 38,
   "metadata": {},
   "outputs": [
    {
     "name": "stdout",
     "output_type": "stream",
     "text": [
      "HIGHLIGHTED QUESTION - Find a community that \"makes sense.\" Interpret the cluster.\n",
      "\n",
      "Community: {'thankfulselfie', 'blessed', 'uncles', 'gratitude', 'love', 'allaboutlove', 'football', 'teens', 'laquanmcdonald', 'thanks', 'iamthankfulfor', 'turkeyday', 'thankful', 'happythanksgiving', 'family', 'givethanks', 'lgm', 'holiday', 'matwh', 'cool', 'friends', 'thanksgiving', 'grateful', 'soccer', 'me', 'yearinspace', 'ha', 'thanksgiving2015', 'america'}\n",
      "\n",
      "This community makes sense. Based on the tags it seems to be about thanksgiving and having gratitude for family and friends. It also has references to football and america since which makes sense given it is an american sport and holiday.\n"
     ]
    }
   ],
   "source": [
    "print('HIGHLIGHTED QUESTION - Find a community that \"makes sense.\" Interpret the cluster.')\n",
    "print()\n",
    "print(\"Community: {'thankfulselfie', 'blessed', 'uncles', 'gratitude', 'love', 'allaboutlove', 'football', 'teens', 'laquanmcdonald', 'thanks', 'iamthankfulfor', 'turkeyday', 'thankful', 'happythanksgiving', 'family', 'givethanks', 'lgm', 'holiday', 'matwh', 'cool', 'friends', 'thanksgiving', 'grateful', 'soccer', 'me', 'yearinspace', 'ha', 'thanksgiving2015', 'america'}\")\n",
    "print()\n",
    "print('This community makes sense. Based on the tags it seems to be about thanksgiving and having gratitude for family and friends. It also has references to football and america since which makes sense given it is an american sport and holiday.')"
   ]
  },
  {
   "cell_type": "code",
   "execution_count": 39,
   "metadata": {},
   "outputs": [
    {
     "name": "stdout",
     "output_type": "stream",
     "text": [
      "HIGHLIGHTED QUESTION - Find a community that doesn't make sense. Explain why it doesn't make sense.\n",
      "\n",
      "Community: {'aldubdontgiveuponus', 'bwinmanila', 'ggmy', 'wheelsup'}\n",
      "\n",
      "So I've gone through the communities and researched them. 'aldubdontgiveuponus' seems to be a phillipine power couple. 'bwimanilla' is a city. However, 'ggmy' means god gave me you which is a song. 'wheelsup' probably means some sort of airplane flight or it could be the private jet charter company. Overall, I'm just confused what is going on because half of it makes sense and the other half does not.\n"
     ]
    }
   ],
   "source": [
    "print(\"HIGHLIGHTED QUESTION - Find a community that doesn't make sense. Explain why it doesn't make sense.\")\n",
    "print()\n",
    "print(\"Community: {'aldubdontgiveuponus', 'bwinmanila', 'ggmy', 'wheelsup'}\")\n",
    "print()\n",
    "print(\"So I've gone through the communities and researched them. 'aldubdontgiveuponus' seems to be a phillipine power couple. 'bwimanilla' is a city. However, 'ggmy' means god gave me you which is a song. 'wheelsup' probably means some sort of airplane flight or it could be the private jet charter company. Overall, I'm just confused what is going on because half of it makes sense and the other half does not.\")"
   ]
  },
  {
   "cell_type": "code",
   "execution_count": null,
   "metadata": {},
   "outputs": [],
   "source": []
  },
  {
   "cell_type": "code",
   "execution_count": 40,
   "metadata": {},
   "outputs": [
    {
     "name": "stdout",
     "output_type": "stream",
     "text": [
      "Now explore the relationship of how the quality of the communities relates to the weight threshold you impose and the component size you impose by trying a variety of these values (note the weight threshold and component threshold don't have to be the same). Each time write the communities to a text file and examine the communities you are finding – the ones that make sense and the ones that don't. Use these observations to generalize the advantages and disadvantages of these threshold settings.\n"
     ]
    }
   ],
   "source": [
    "print(\"Now explore the relationship of how the quality of the communities relates to the weight threshold you impose and the component size you impose by trying a variety of these values (note the weight threshold and component threshold don't have to be the same). Each time write the communities to a text file and examine the communities you are finding – the ones that make sense and the ones that don't. Use these observations to generalize the advantages and disadvantages of these threshold settings.\")"
   ]
  },
  {
   "cell_type": "code",
   "execution_count": 41,
   "metadata": {},
   "outputs": [
    {
     "name": "stdout",
     "output_type": "stream",
     "text": [
      "Weight Threshold: 1 | Community Threshold: 1\n"
     ]
    },
    {
     "data": {
      "image/png": "[encoded data removed]",
      "text/plain": [
       "<Figure size 640x480 with 1 Axes>"
      ]
     },
     "metadata": {},
     "output_type": "display_data"
    },
    {
     "name": "stdout",
     "output_type": "stream",
     "text": [
      "Analysis: It seems that  this creates a lot of communities with relatively smaller sizes (niche interests), and a few communities that have a much larger spectrum of compatibility (broad interests). Overall, this seems to be better for spotting niche interests as those are more easily recognizable.\n"
     ]
    }
   ],
   "source": [
    "print('Weight Threshold: 1 | Community Threshold: 1')\n",
    "plot_communities(LG.copy(), weight_threshold=1, component_size_threshold=1)\n",
    "print(\"Analysis: It seems that  this creates a lot of communities with relatively smaller sizes (niche interests), and a few communities that have a much larger spectrum of compatibility (broad interests). Overall, this seems to be better for spotting niche interests as those are more easily recognizable.\")"
   ]
  },
  {
   "cell_type": "code",
   "execution_count": 42,
   "metadata": {},
   "outputs": [
    {
     "name": "stdout",
     "output_type": "stream",
     "text": [
      "Weight Threshold: 1 | Community Threshold: 15\n"
     ]
    },
    {
     "data": {
      "image/png": "[encoded data removed]",
      "text/plain": [
       "<Figure size 640x480 with 1 Axes>"
      ]
     },
     "metadata": {},
     "output_type": "display_data"
    },
    {
     "name": "stdout",
     "output_type": "stream",
     "text": [
      "Analysis: This is very similar to low weight and low threshold, however it definitely trims down a lot of communities that fall in the lower size threshold. This could be useful so that we can focus on communities that are more connected with each other.\n"
     ]
    }
   ],
   "source": [
    "print('Weight Threshold: 1 | Community Threshold: 15')\n",
    "plot_communities(LG.copy(), weight_threshold=1, component_size_threshold=15)\n",
    "print(\"Analysis: This is very similar to low weight and low threshold, however it definitely trims down a lot of communities that fall in the lower size threshold. This could be useful so that we can focus on communities that are more connected with each other.\")"
   ]
  },
  {
   "cell_type": "code",
   "execution_count": 43,
   "metadata": {},
   "outputs": [
    {
     "name": "stdout",
     "output_type": "stream",
     "text": [
      "Weight Threshold: 15 | Community Threshold: 1\n"
     ]
    },
    {
     "data": {
      "image/png": "[encoded data removed]",
      "text/plain": [
       "<Figure size 640x480 with 1 Axes>"
      ]
     },
     "metadata": {},
     "output_type": "display_data"
    },
    {
     "name": "stdout",
     "output_type": "stream",
     "text": [
      "Analysis: This seems to produce communities with either only one hashtag, or a few hashtags combined together. This makes it easier to identify which communities are popular since if the community is large then it is likely it is spoken about more often.\n"
     ]
    }
   ],
   "source": [
    "print('Weight Threshold: 15 | Community Threshold: 1')\n",
    "plot_communities(LG.copy(), weight_threshold=15, component_size_threshold=1)\n",
    "print(\"Analysis: This seems to produce communities with either only one hashtag, or a few hashtags combined together. This makes it easier to identify which communities are popular since if the community is large then it is likely it is spoken about more often.\")"
   ]
  },
  {
   "cell_type": "code",
   "execution_count": 44,
   "metadata": {},
   "outputs": [
    {
     "name": "stdout",
     "output_type": "stream",
     "text": [
      "Weight Threshold: 15 | Community Threshold: 15\n"
     ]
    },
    {
     "data": {
      "image/png": "[encoded data removed]",
      "text/plain": [
       "<Figure size 640x480 with 1 Axes>"
      ]
     },
     "metadata": {},
     "output_type": "display_data"
    },
    {
     "name": "stdout",
     "output_type": "stream",
     "text": [
      "Analysis: This seems to produce communities where the hashtags are related to each other in some way, so it could be useful in identifying categories.\n"
     ]
    }
   ],
   "source": [
    "print('Weight Threshold: 15 | Community Threshold: 15')\n",
    "plot_communities(LG.copy(), weight_threshold=15, component_size_threshold=15)\n",
    "print(\"Analysis: This seems to produce communities where the hashtags are related to each other in some way, so it could be useful in identifying categories.\")"
   ]
  },
  {
   "cell_type": "code",
   "execution_count": 45,
   "metadata": {},
   "outputs": [
    {
     "name": "stdout",
     "output_type": "stream",
     "text": [
      " In your PDF, describe the strengths and weaknesses of each quadrant of the table. Present example communities from each quadrant that support your comments.\n"
     ]
    }
   ],
   "source": [
    "print(' In your PDF, describe the strengths and weaknesses of each quadrant of the table. Present example communities from each quadrant that support your comments.')"
   ]
  },
  {
   "cell_type": "code",
   "execution_count": 46,
   "metadata": {},
   "outputs": [
    {
     "name": "stdout",
     "output_type": "stream",
     "text": [
      "HIGHLIGHTED QUESTION - Finally, pick a topic/theme that you see in the data. For each threshold, find the communities that seem to correspond best to that topic. Which threshold has communities that best represent that topic? Why? Is there a threshold choice that is clearly the best? Why or why not?\n"
     ]
    }
   ],
   "source": [
    "print('HIGHLIGHTED QUESTION - Finally, pick a topic/theme that you see in the data. For each threshold, find the communities that seem to correspond best to that topic. Which threshold has communities that best represent that topic? Why? Is there a threshold choice that is clearly the best? Why or why not?')"
   ]
  },
  {
   "cell_type": "code",
   "execution_count": 47,
   "metadata": {},
   "outputs": [
    {
     "name": "stdout",
     "output_type": "stream",
     "text": [
      "Topic: Cooking\n",
      "Weight Threshold: 1 | Community Threshold: 1 | {'roasted', 'healthyrecipes', 'cleanse', 'taste', 'wildrice', 'grapes', 'entree', 'liquids', 'balsamicvinegar', 'feelinggood', 'salad', 'greens', 'detox'} | {'feastin', 'uwish', 'imgonnagetfat', 'fullplate', 'goodeats', 'goodcookin', 'eatinggood', 'bouttagettheitis'} | {'gustan', 'cupcakes', 'culinary', 'weloverecipes', 'easter', 'everdevega'}\n",
      "\n",
      "Weight Threshold: 1 | Community Threshold: 15 | {'roasted', 'healthyrecipes', 'cleanse', 'taste', 'wildrice', 'grapes', 'entree', 'liquids', 'balsamicvinegar', 'feelinggood', 'salad', 'greens', 'detox'} | {'gustan', 'cupcakes', 'culinary', 'weloverecipes', 'easter', 'everdevega'} | {'outdoorcooking', 'homemadefood'} | {'homecooking', 'carnetdecuisine', 'diner', 'soiree', 'fairelacuisine', 'bolsa'}\n",
      "\n",
      "Weight Threshold: 15 | Community Threshold: 1 | {'cooking', 'recipes'} | {'foodrecipes'} | {'cookingskills'} | {'veganrecipehour'}\n",
      "\n",
      "Weight Threshold: 15 | Community Threshold: 15 | {'cooking', 'recipes'}\n",
      "\n",
      "Lower weight thresholds seem to produce the best communities that represent the cooking topic. This is likely because of our data not having significant tweets about cooking related activities, so when we have a low weight threshold, those edges do not get cut from our graph. From what I found community thresholds is not a huge influence on the sub-communities formed with cooking. There is no best threshold choice since a low weight treshold paired with either a low or high community threshold produces very similar results. However, having a high weight threshold should be avoided since it produces few communities. Although, high weight threshold and low community threshold produces communities only related to cooking and recipes on a very literal scale. Low weight thresholdpaired with any community threshold also includes things about how people feel about cooking and what ingredients they use, so it offers more variety. Therefore, it could be argued that its a better community since cooking has a lot to do with taste, ingredients, and how it makes us feel. \n"
     ]
    }
   ],
   "source": [
    "print('Topic: Cooking')\n",
    "print(\"Weight Threshold: 1 | Community Threshold: 1 | {'roasted', 'healthyrecipes', 'cleanse', 'taste', 'wildrice', 'grapes', 'entree', 'liquids', 'balsamicvinegar', 'feelinggood', 'salad', 'greens', 'detox'} | {'feastin', 'uwish', 'imgonnagetfat', 'fullplate', 'goodeats', 'goodcookin', 'eatinggood', 'bouttagettheitis'} | {'gustan', 'cupcakes', 'culinary', 'weloverecipes', 'easter', 'everdevega'}\")\n",
    "print()\n",
    "print(\"Weight Threshold: 1 | Community Threshold: 15 | {'roasted', 'healthyrecipes', 'cleanse', 'taste', 'wildrice', 'grapes', 'entree', 'liquids', 'balsamicvinegar', 'feelinggood', 'salad', 'greens', 'detox'} | {'gustan', 'cupcakes', 'culinary', 'weloverecipes', 'easter', 'everdevega'} | {'outdoorcooking', 'homemadefood'} | {'homecooking', 'carnetdecuisine', 'diner', 'soiree', 'fairelacuisine', 'bolsa'}\")\n",
    "print()\n",
    "print(\"Weight Threshold: 15 | Community Threshold: 1 | {'cooking', 'recipes'} | {'foodrecipes'} | {'cookingskills'} | {'veganrecipehour'}\")\n",
    "print()\n",
    "print(\"Weight Threshold: 15 | Community Threshold: 15 | {'cooking', 'recipes'}\")\n",
    "print()\n",
    "print('Lower weight thresholds seem to produce the best communities that represent the cooking topic. This is likely because of our data not having significant tweets about cooking related activities, so when we have a low weight threshold, those edges do not get cut from our graph. From what I found community thresholds is not a huge influence on the sub-communities formed with cooking. There is no best threshold choice since a low weight treshold paired with either a low or high community threshold produces very similar results. However, having a high weight threshold should be avoided since it produces few communities. Although, high weight threshold and low community threshold produces communities only related to cooking and recipes on a very literal scale. Low weight thresholdpaired with any community threshold also includes things about how people feel about cooking and what ingredients they use, so it offers more variety. Therefore, it could be argued that its a better community since cooking has a lot to do with taste, ingredients, and how it makes us feel. ')"
   ]
  },
  {
   "cell_type": "code",
   "execution_count": null,
   "metadata": {},
   "outputs": [],
   "source": []
  }
 ],
 "metadata": {
  "kernelspec": {
   "display_name": "Python 3 (ipykernel)",
   "language": "python",
   "name": "python3"
  },
  "language_info": {
   "codemirror_mode": {
    "name": "ipython",
    "version": 3
   },
   "file_extension": ".py",
   "mimetype": "text/x-python",
   "name": "python",
   "nbconvert_exporter": "python",
   "pygments_lexer": "ipython3",
   "version": "3.9.13"
  }
 },
 "nbformat": 4,
 "nbformat_minor": 4
}
